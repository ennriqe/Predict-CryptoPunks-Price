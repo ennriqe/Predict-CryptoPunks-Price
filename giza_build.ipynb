{
 "cells": [
  {
   "cell_type": "code",
   "execution_count": 1,
   "metadata": {},
   "outputs": [],
   "source": [
    "import torch\n",
    "import torch.nn as nn\n",
    "import torch.optim as optim\n",
    "import torchvision\n",
    "import numpy as np\n",
    "import logging\n",
    "import time\n",
    "import pandas as pd\n",
    "from scipy.ndimage import zoom\n",
    "from giza_actions.action import action\n",
    "from giza_actions.task import task\n",
    "from torch.utils.data import DataLoader, TensorDataset\n",
    "from sklearn.model_selection import train_test_split\n",
    "device = torch.device('cuda' if torch.cuda.is_available() else 'cpu')"
   ]
  },
  {
   "cell_type": "code",
   "execution_count": 2,
   "metadata": {},
   "outputs": [],
   "source": [
    "# pip install torch torchvision torchaudio --index-url https://download.pytorch.org/whl/cu118"
   ]
  },
  {
   "attachments": {},
   "cell_type": "markdown",
   "metadata": {},
   "source": [
    "Define the model\n"
   ]
  },
  {
   "cell_type": "code",
   "execution_count": 3,
   "metadata": {},
   "outputs": [],
   "source": [
    "input_size = 99\n",
    "output_size = 1\n",
    "\n",
    "# Define hidden layers sizes and dropout rates\n",
    "hidden_size = [256, 128, 64]\n",
    "dropout_rates = [0.1, 0.1]\n",
    "learning_rate = 0.001\n",
    "num_epochs = 100\n",
    "batch_size = 64"
   ]
  },
  {
   "cell_type": "code",
   "execution_count": 4,
   "metadata": {},
   "outputs": [],
   "source": [
    "class RegressionNN(nn.Module):\n",
    "    def __init__(self, input_size, hidden_size=[256, 128, 64], output_size=1, dropout_rates=[0.1, 0.1]):\n",
    "        super(RegressionNN, self).__init__()\n",
    "        self.layers = nn.ModuleList()\n",
    "        self.batch_norms = nn.ModuleList()\n",
    "        self.dropouts = nn.ModuleList()\n",
    "\n",
    "        layer_sizes = [input_size] + hidden_size\n",
    "        for i in range(len(layer_sizes) - 1):\n",
    "            self.layers.append(nn.Linear(layer_sizes[i], layer_sizes[i+1]))\n",
    "            self.batch_norms.append(nn.BatchNorm1d(layer_sizes[i+1]))\n",
    "            self.dropouts.append(nn.Dropout(dropout_rates[min(i, len(dropout_rates)-1)]))\n",
    "        \n",
    "        self.output_layer = nn.Linear(hidden_size[-1], output_size)\n",
    "        \n",
    "    def forward(self, x):\n",
    "        for i in range(len(self.layers)):\n",
    "            x = self.layers[i](x)\n",
    "            x = self.batch_norms[i](x)\n",
    "            x = nn.ReLU()(x)\n",
    "            x = self.dropouts[i](x)\n",
    "            \n",
    "        x = self.output_layer(x)\n",
    "        return x\n"
   ]
  },
  {
   "cell_type": "code",
   "execution_count": 5,
   "metadata": {},
   "outputs": [],
   "source": [
    "@task(name=f'Prepare Datasets')\n",
    "def prepare_datasets(X, y):\n",
    "    print(\"Prepare dataset...\")\n",
    "    X_train, X_test, y_train, y_test = train_test_split(X, y, test_size=0.2, random_state=42)\n",
    "\n",
    "    X_train_tensor = torch.tensor(X_train.values.astype(np.float32))\n",
    "    y_train_tensor = torch.tensor(y_train.values.astype(np.float32)).view(-1, 1)\n",
    "    X_test_tensor = torch.tensor(X_test.values.astype(np.float32))\n",
    "    y_test_tensor = torch.tensor(y_test.values.astype(np.float32)).view(-1, 1)\n",
    "\n",
    "    print(\"✅ Datasets prepared successfully\")\n",
    "\n",
    "    return X_train_tensor, y_train_tensor, X_test_tensor, y_test_tensor"
   ]
  },
  {
   "cell_type": "code",
   "execution_count": 6,
   "metadata": {},
   "outputs": [],
   "source": [
    "@task(name=f'Create Loaders')\n",
    "def create_data_loaders(x_train, y_train, x_test, y_test):\n",
    "    print(\"Create loaders...\")\n",
    "\n",
    "    train_loader = DataLoader(TensorDataset(x_train, y_train), batch_size=batch_size, shuffle=True)\n",
    "    test_loader = DataLoader(TensorDataset(x_test, y_test), batch_size=batch_size, shuffle=False)\n",
    "\n",
    "    print(\"✅ Loaders created!\")\n",
    "\n",
    "    return train_loader, test_loader"
   ]
  },
  {
   "cell_type": "code",
   "execution_count": 7,
   "metadata": {},
   "outputs": [],
   "source": [
    "@task(name=f'Train model')\n",
    "def train_model(train_loader):\n",
    "    print(\"Train model...\")\n",
    "\n",
    "    model = RegressionNN(input_size, hidden_size, output_size=1).to(device)\n",
    "    criterion = nn.MSELoss()\n",
    "    optimizer = optim.Adam(model.parameters(), lr=learning_rate)\n",
    "\n",
    "    for epoch in range(num_epochs):\n",
    "        model.train()\n",
    "        start_time = time.time()\n",
    "        train_loss = 0.0\n",
    "        for i, (inputs, targets) in enumerate(train_loader):\n",
    "            inputs, targets = inputs.to(device), targets.to(device)\n",
    "            optimizer.zero_grad()\n",
    "            outputs = model(inputs)\n",
    "            loss = criterion(outputs, targets)\n",
    "            loss.backward()\n",
    "            optimizer.step()\n",
    "            train_loss += loss.item()\n",
    "\n",
    "            if (i + 1) % 100 == 0:\n",
    "                print(f'Epoch [{epoch + 1}/{num_epochs}], Step [{i + 1}/{len(train_loader)}], Loss: {loss.item():.4f}')\n",
    "        \n",
    "    print(\"✅ Model trained successfully\")\n",
    "    return model"
   ]
  },
  {
   "cell_type": "code",
   "execution_count": 8,
   "metadata": {},
   "outputs": [],
   "source": [
    "@task(name=f'Test model')\n",
    "def test_model(model, test_loader):\n",
    "    predictions = []\n",
    "    actuals = []\n",
    "    with torch.no_grad():\n",
    "        for inputs, targets in test_loader:\n",
    "            inputs, targets = inputs.to(device), targets.to(device)\n",
    "            outputs = model(inputs)\n",
    "            predictions.extend(outputs.view(-1).cpu().numpy())  # Flatten outputs and move to CPU\n",
    "            actuals.extend(targets.view(-1).cpu().numpy())  # Flatten targets and move to CPU\n",
    "\n",
    "    predictions = np.array(predictions)\n",
    "    actuals = np.array(actuals)\n",
    "\n",
    "    # Calculate MAE\n",
    "    mae = np.mean(np.abs(predictions - actuals))\n",
    "\n",
    "    # Calculate MAPE\n",
    "    mape = np.mean(np.abs((actuals - predictions) / actuals)) * 100\n",
    "    print('Mean absolute error:', mae)\n",
    "    print('MAPE:', mape)\n",
    "            "
   ]
  },
  {
   "cell_type": "code",
   "execution_count": 9,
   "metadata": {},
   "outputs": [],
   "source": [
    "@action(name=f'Execution', log_prints=True )\n",
    "def execution():\n",
    "    #read csv\n",
    "    sales = pd.read_csv('sales.csv')\n",
    "    X = sales[pd.Series(sales.columns)[pd.Series(sales.columns)!='amount_original'].values]\n",
    "    y = sales['amount_original']  # Your target vector\n",
    "    x_train, y_train, x_test, y_test = prepare_datasets(X, y)\n",
    "    train_loader, test_loader = create_data_loaders(\n",
    "        x_train, y_train, x_test, y_test)\n",
    "    model = train_model(train_loader)\n",
    "    test_model(model, test_loader)\n"
   ]
  },
  {
   "cell_type": "code",
   "execution_count": 10,
   "metadata": {},
   "outputs": [
    {
     "data": {
      "text/html": [
       "<pre style=\"white-space:pre;overflow-x:auto;line-height:normal;font-family:Menlo,'DejaVu Sans Mono',consolas,'Courier New',monospace\">15:43:14.191 | <span style=\"color: #008080; text-decoration-color: #008080\">INFO</span>    | prefect.engine - Created flow run<span style=\"color: #800080; text-decoration-color: #800080\"> 'black-oriole'</span> for flow<span style=\"color: #800080; text-decoration-color: #800080; font-weight: bold\"> 'Execution'</span>\n",
       "</pre>\n"
      ],
      "text/plain": [
       "15:43:14.191 | \u001b[36mINFO\u001b[0m    | prefect.engine - Created flow run\u001b[35m 'black-oriole'\u001b[0m for flow\u001b[1;35m 'Execution'\u001b[0m\n"
      ]
     },
     "metadata": {},
     "output_type": "display_data"
    },
    {
     "data": {
      "text/html": [
       "<pre style=\"white-space:pre;overflow-x:auto;line-height:normal;font-family:Menlo,'DejaVu Sans Mono',consolas,'Courier New',monospace\">15:43:14.197 | <span style=\"color: #008080; text-decoration-color: #008080\">INFO</span>    | Flow run<span style=\"color: #800080; text-decoration-color: #800080\"> 'black-oriole'</span> - View at <span style=\"color: #0000ff; text-decoration-color: #0000ff\">https://actions-server-lucab-dblzzhtf5q-ew.a.run.app/flow-runs/flow-run/81c7c1cd-a27f-43a3-aa1d-131849a59597</span>\n",
       "</pre>\n"
      ],
      "text/plain": [
       "15:43:14.197 | \u001b[36mINFO\u001b[0m    | Flow run\u001b[35m 'black-oriole'\u001b[0m - View at \u001b[94mhttps://actions-server-lucab-dblzzhtf5q-ew.a.run.app/flow-runs/flow-run/81c7c1cd-a27f-43a3-aa1d-131849a59597\u001b[0m\n"
      ]
     },
     "metadata": {},
     "output_type": "display_data"
    },
    {
     "data": {
      "text/html": [
       "<pre style=\"white-space:pre;overflow-x:auto;line-height:normal;font-family:Menlo,'DejaVu Sans Mono',consolas,'Courier New',monospace\">15:43:15.536 | <span style=\"color: #008080; text-decoration-color: #008080\">INFO</span>    | Flow run<span style=\"color: #800080; text-decoration-color: #800080\"> 'black-oriole'</span> - Created task run 'Prepare Datasets-0' for task 'Prepare Datasets'\n",
       "</pre>\n"
      ],
      "text/plain": [
       "15:43:15.536 | \u001b[36mINFO\u001b[0m    | Flow run\u001b[35m 'black-oriole'\u001b[0m - Created task run 'Prepare Datasets-0' for task 'Prepare Datasets'\n"
      ]
     },
     "metadata": {},
     "output_type": "display_data"
    },
    {
     "data": {
      "text/html": [
       "<pre style=\"white-space:pre;overflow-x:auto;line-height:normal;font-family:Menlo,'DejaVu Sans Mono',consolas,'Courier New',monospace\">15:43:15.539 | <span style=\"color: #008080; text-decoration-color: #008080\">INFO</span>    | Flow run<span style=\"color: #800080; text-decoration-color: #800080\"> 'black-oriole'</span> - Executing 'Prepare Datasets-0' immediately...\n",
       "</pre>\n"
      ],
      "text/plain": [
       "15:43:15.539 | \u001b[36mINFO\u001b[0m    | Flow run\u001b[35m 'black-oriole'\u001b[0m - Executing 'Prepare Datasets-0' immediately...\n"
      ]
     },
     "metadata": {},
     "output_type": "display_data"
    },
    {
     "data": {
      "text/html": [
       "<pre style=\"white-space:pre;overflow-x:auto;line-height:normal;font-family:Menlo,'DejaVu Sans Mono',consolas,'Courier New',monospace\">15:43:16.077 | <span style=\"color: #008080; text-decoration-color: #008080\">INFO</span>    | Task run 'Prepare Datasets-0' - Prepare dataset...\n",
       "</pre>\n"
      ],
      "text/plain": [
       "15:43:16.077 | \u001b[36mINFO\u001b[0m    | Task run 'Prepare Datasets-0' - Prepare dataset...\n"
      ]
     },
     "metadata": {},
     "output_type": "display_data"
    },
    {
     "data": {
      "text/html": [
       "<pre style=\"white-space:pre;overflow-x:auto;line-height:normal;font-family:Menlo,'DejaVu Sans Mono',consolas,'Courier New',monospace\">15:43:16.104 | <span style=\"color: #008080; text-decoration-color: #008080\">INFO</span>    | Task run 'Prepare Datasets-0' - ✅ Datasets prepared successfully\n",
       "</pre>\n"
      ],
      "text/plain": [
       "15:43:16.104 | \u001b[36mINFO\u001b[0m    | Task run 'Prepare Datasets-0' - ✅ Datasets prepared successfully\n"
      ]
     },
     "metadata": {},
     "output_type": "display_data"
    },
    {
     "data": {
      "text/html": [
       "<pre style=\"white-space:pre;overflow-x:auto;line-height:normal;font-family:Menlo,'DejaVu Sans Mono',consolas,'Courier New',monospace\">15:43:16.207 | <span style=\"color: #008080; text-decoration-color: #008080\">INFO</span>    | Task run 'Prepare Datasets-0' - Finished in state <span style=\"color: #008000; text-decoration-color: #008000\">Completed</span>()\n",
       "</pre>\n"
      ],
      "text/plain": [
       "15:43:16.207 | \u001b[36mINFO\u001b[0m    | Task run 'Prepare Datasets-0' - Finished in state \u001b[32mCompleted\u001b[0m()\n"
      ]
     },
     "metadata": {},
     "output_type": "display_data"
    },
    {
     "data": {
      "text/html": [
       "<pre style=\"white-space:pre;overflow-x:auto;line-height:normal;font-family:Menlo,'DejaVu Sans Mono',consolas,'Courier New',monospace\">15:43:16.283 | <span style=\"color: #008080; text-decoration-color: #008080\">INFO</span>    | Flow run<span style=\"color: #800080; text-decoration-color: #800080\"> 'black-oriole'</span> - Created task run 'Create Loaders-0' for task 'Create Loaders'\n",
       "</pre>\n"
      ],
      "text/plain": [
       "15:43:16.283 | \u001b[36mINFO\u001b[0m    | Flow run\u001b[35m 'black-oriole'\u001b[0m - Created task run 'Create Loaders-0' for task 'Create Loaders'\n"
      ]
     },
     "metadata": {},
     "output_type": "display_data"
    },
    {
     "data": {
      "text/html": [
       "<pre style=\"white-space:pre;overflow-x:auto;line-height:normal;font-family:Menlo,'DejaVu Sans Mono',consolas,'Courier New',monospace\">15:43:16.285 | <span style=\"color: #008080; text-decoration-color: #008080\">INFO</span>    | Flow run<span style=\"color: #800080; text-decoration-color: #800080\"> 'black-oriole'</span> - Executing 'Create Loaders-0' immediately...\n",
       "</pre>\n"
      ],
      "text/plain": [
       "15:43:16.285 | \u001b[36mINFO\u001b[0m    | Flow run\u001b[35m 'black-oriole'\u001b[0m - Executing 'Create Loaders-0' immediately...\n"
      ]
     },
     "metadata": {},
     "output_type": "display_data"
    },
    {
     "data": {
      "text/html": [
       "<pre style=\"white-space:pre;overflow-x:auto;line-height:normal;font-family:Menlo,'DejaVu Sans Mono',consolas,'Courier New',monospace\">15:43:16.419 | <span style=\"color: #008080; text-decoration-color: #008080\">INFO</span>    | Task run 'Create Loaders-0' - Create loaders...\n",
       "</pre>\n"
      ],
      "text/plain": [
       "15:43:16.419 | \u001b[36mINFO\u001b[0m    | Task run 'Create Loaders-0' - Create loaders...\n"
      ]
     },
     "metadata": {},
     "output_type": "display_data"
    },
    {
     "data": {
      "text/html": [
       "<pre style=\"white-space:pre;overflow-x:auto;line-height:normal;font-family:Menlo,'DejaVu Sans Mono',consolas,'Courier New',monospace\">15:43:16.424 | <span style=\"color: #008080; text-decoration-color: #008080\">INFO</span>    | Task run 'Create Loaders-0' - ✅ Loaders created!\n",
       "</pre>\n"
      ],
      "text/plain": [
       "15:43:16.424 | \u001b[36mINFO\u001b[0m    | Task run 'Create Loaders-0' - ✅ Loaders created!\n"
      ]
     },
     "metadata": {},
     "output_type": "display_data"
    },
    {
     "data": {
      "text/html": [
       "<pre style=\"white-space:pre;overflow-x:auto;line-height:normal;font-family:Menlo,'DejaVu Sans Mono',consolas,'Courier New',monospace\">15:43:16.528 | <span style=\"color: #008080; text-decoration-color: #008080\">INFO</span>    | Task run 'Create Loaders-0' - Finished in state <span style=\"color: #008000; text-decoration-color: #008000\">Completed</span>()\n",
       "</pre>\n"
      ],
      "text/plain": [
       "15:43:16.528 | \u001b[36mINFO\u001b[0m    | Task run 'Create Loaders-0' - Finished in state \u001b[32mCompleted\u001b[0m()\n"
      ]
     },
     "metadata": {},
     "output_type": "display_data"
    },
    {
     "data": {
      "text/html": [
       "<pre style=\"white-space:pre;overflow-x:auto;line-height:normal;font-family:Menlo,'DejaVu Sans Mono',consolas,'Courier New',monospace\">15:43:16.599 | <span style=\"color: #008080; text-decoration-color: #008080\">INFO</span>    | Flow run<span style=\"color: #800080; text-decoration-color: #800080\"> 'black-oriole'</span> - Created task run 'Train model-0' for task 'Train model'\n",
       "</pre>\n"
      ],
      "text/plain": [
       "15:43:16.599 | \u001b[36mINFO\u001b[0m    | Flow run\u001b[35m 'black-oriole'\u001b[0m - Created task run 'Train model-0' for task 'Train model'\n"
      ]
     },
     "metadata": {},
     "output_type": "display_data"
    },
    {
     "data": {
      "text/html": [
       "<pre style=\"white-space:pre;overflow-x:auto;line-height:normal;font-family:Menlo,'DejaVu Sans Mono',consolas,'Courier New',monospace\">15:43:16.603 | <span style=\"color: #008080; text-decoration-color: #008080\">INFO</span>    | Flow run<span style=\"color: #800080; text-decoration-color: #800080\"> 'black-oriole'</span> - Executing 'Train model-0' immediately...\n",
       "</pre>\n"
      ],
      "text/plain": [
       "15:43:16.603 | \u001b[36mINFO\u001b[0m    | Flow run\u001b[35m 'black-oriole'\u001b[0m - Executing 'Train model-0' immediately...\n"
      ]
     },
     "metadata": {},
     "output_type": "display_data"
    },
    {
     "data": {
      "text/html": [
       "<pre style=\"white-space:pre;overflow-x:auto;line-height:normal;font-family:Menlo,'DejaVu Sans Mono',consolas,'Courier New',monospace\">15:43:16.747 | <span style=\"color: #008080; text-decoration-color: #008080\">INFO</span>    | Task run 'Train model-0' - Train model...\n",
       "</pre>\n"
      ],
      "text/plain": [
       "15:43:16.747 | \u001b[36mINFO\u001b[0m    | Task run 'Train model-0' - Train model...\n"
      ]
     },
     "metadata": {},
     "output_type": "display_data"
    },
    {
     "data": {
      "text/html": [
       "<pre style=\"white-space:pre;overflow-x:auto;line-height:normal;font-family:Menlo,'DejaVu Sans Mono',consolas,'Courier New',monospace\">15:43:17.886 | <span style=\"color: #008080; text-decoration-color: #008080\">INFO</span>    | Task run 'Train model-0' - Epoch [1/100], Step [100/196], Loss: 3024.1924\n",
       "</pre>\n"
      ],
      "text/plain": [
       "15:43:17.886 | \u001b[36mINFO\u001b[0m    | Task run 'Train model-0' - Epoch [1/100], Step [100/196], Loss: 3024.1924\n"
      ]
     },
     "metadata": {},
     "output_type": "display_data"
    },
    {
     "data": {
      "text/html": [
       "<pre style=\"white-space:pre;overflow-x:auto;line-height:normal;font-family:Menlo,'DejaVu Sans Mono',consolas,'Courier New',monospace\">15:43:18.866 | <span style=\"color: #008080; text-decoration-color: #008080\">INFO</span>    | Task run 'Train model-0' - Epoch [2/100], Step [100/196], Loss: 1101.6830\n",
       "</pre>\n"
      ],
      "text/plain": [
       "15:43:18.866 | \u001b[36mINFO\u001b[0m    | Task run 'Train model-0' - Epoch [2/100], Step [100/196], Loss: 1101.6830\n"
      ]
     },
     "metadata": {},
     "output_type": "display_data"
    },
    {
     "data": {
      "text/html": [
       "<pre style=\"white-space:pre;overflow-x:auto;line-height:normal;font-family:Menlo,'DejaVu Sans Mono',consolas,'Courier New',monospace\">15:43:19.836 | <span style=\"color: #008080; text-decoration-color: #008080\">INFO</span>    | Task run 'Train model-0' - Epoch [3/100], Step [100/196], Loss: 374.0323\n",
       "</pre>\n"
      ],
      "text/plain": [
       "15:43:19.836 | \u001b[36mINFO\u001b[0m    | Task run 'Train model-0' - Epoch [3/100], Step [100/196], Loss: 374.0323\n"
      ]
     },
     "metadata": {},
     "output_type": "display_data"
    },
    {
     "data": {
      "text/html": [
       "<pre style=\"white-space:pre;overflow-x:auto;line-height:normal;font-family:Menlo,'DejaVu Sans Mono',consolas,'Courier New',monospace\">15:43:20.794 | <span style=\"color: #008080; text-decoration-color: #008080\">INFO</span>    | Task run 'Train model-0' - Epoch [4/100], Step [100/196], Loss: 204.5113\n",
       "</pre>\n"
      ],
      "text/plain": [
       "15:43:20.794 | \u001b[36mINFO\u001b[0m    | Task run 'Train model-0' - Epoch [4/100], Step [100/196], Loss: 204.5113\n"
      ]
     },
     "metadata": {},
     "output_type": "display_data"
    },
    {
     "data": {
      "text/html": [
       "<pre style=\"white-space:pre;overflow-x:auto;line-height:normal;font-family:Menlo,'DejaVu Sans Mono',consolas,'Courier New',monospace\">15:43:21.766 | <span style=\"color: #008080; text-decoration-color: #008080\">INFO</span>    | Task run 'Train model-0' - Epoch [5/100], Step [100/196], Loss: 75.7704\n",
       "</pre>\n"
      ],
      "text/plain": [
       "15:43:21.766 | \u001b[36mINFO\u001b[0m    | Task run 'Train model-0' - Epoch [5/100], Step [100/196], Loss: 75.7704\n"
      ]
     },
     "metadata": {},
     "output_type": "display_data"
    },
    {
     "data": {
      "text/html": [
       "<pre style=\"white-space:pre;overflow-x:auto;line-height:normal;font-family:Menlo,'DejaVu Sans Mono',consolas,'Courier New',monospace\">15:43:22.741 | <span style=\"color: #008080; text-decoration-color: #008080\">INFO</span>    | Task run 'Train model-0' - Epoch [6/100], Step [100/196], Loss: 164.2274\n",
       "</pre>\n"
      ],
      "text/plain": [
       "15:43:22.741 | \u001b[36mINFO\u001b[0m    | Task run 'Train model-0' - Epoch [6/100], Step [100/196], Loss: 164.2274\n"
      ]
     },
     "metadata": {},
     "output_type": "display_data"
    },
    {
     "data": {
      "text/html": [
       "<pre style=\"white-space:pre;overflow-x:auto;line-height:normal;font-family:Menlo,'DejaVu Sans Mono',consolas,'Courier New',monospace\">15:43:23.866 | <span style=\"color: #008080; text-decoration-color: #008080\">INFO</span>    | Task run 'Train model-0' - Epoch [7/100], Step [100/196], Loss: 132.5268\n",
       "</pre>\n"
      ],
      "text/plain": [
       "15:43:23.866 | \u001b[36mINFO\u001b[0m    | Task run 'Train model-0' - Epoch [7/100], Step [100/196], Loss: 132.5268\n"
      ]
     },
     "metadata": {},
     "output_type": "display_data"
    },
    {
     "data": {
      "text/html": [
       "<pre style=\"white-space:pre;overflow-x:auto;line-height:normal;font-family:Menlo,'DejaVu Sans Mono',consolas,'Courier New',monospace\">15:43:24.963 | <span style=\"color: #008080; text-decoration-color: #008080\">INFO</span>    | Task run 'Train model-0' - Epoch [8/100], Step [100/196], Loss: 100.1196\n",
       "</pre>\n"
      ],
      "text/plain": [
       "15:43:24.963 | \u001b[36mINFO\u001b[0m    | Task run 'Train model-0' - Epoch [8/100], Step [100/196], Loss: 100.1196\n"
      ]
     },
     "metadata": {},
     "output_type": "display_data"
    },
    {
     "data": {
      "text/html": [
       "<pre style=\"white-space:pre;overflow-x:auto;line-height:normal;font-family:Menlo,'DejaVu Sans Mono',consolas,'Courier New',monospace\">15:43:26.087 | <span style=\"color: #008080; text-decoration-color: #008080\">INFO</span>    | Task run 'Train model-0' - Epoch [9/100], Step [100/196], Loss: 66.7574\n",
       "</pre>\n"
      ],
      "text/plain": [
       "15:43:26.087 | \u001b[36mINFO\u001b[0m    | Task run 'Train model-0' - Epoch [9/100], Step [100/196], Loss: 66.7574\n"
      ]
     },
     "metadata": {},
     "output_type": "display_data"
    },
    {
     "data": {
      "text/html": [
       "<pre style=\"white-space:pre;overflow-x:auto;line-height:normal;font-family:Menlo,'DejaVu Sans Mono',consolas,'Courier New',monospace\">15:43:27.061 | <span style=\"color: #008080; text-decoration-color: #008080\">INFO</span>    | Task run 'Train model-0' - Epoch [10/100], Step [100/196], Loss: 77.7109\n",
       "</pre>\n"
      ],
      "text/plain": [
       "15:43:27.061 | \u001b[36mINFO\u001b[0m    | Task run 'Train model-0' - Epoch [10/100], Step [100/196], Loss: 77.7109\n"
      ]
     },
     "metadata": {},
     "output_type": "display_data"
    },
    {
     "data": {
      "text/html": [
       "<pre style=\"white-space:pre;overflow-x:auto;line-height:normal;font-family:Menlo,'DejaVu Sans Mono',consolas,'Courier New',monospace\">15:43:28.110 | <span style=\"color: #008080; text-decoration-color: #008080\">INFO</span>    | Task run 'Train model-0' - Epoch [11/100], Step [100/196], Loss: 117.6063\n",
       "</pre>\n"
      ],
      "text/plain": [
       "15:43:28.110 | \u001b[36mINFO\u001b[0m    | Task run 'Train model-0' - Epoch [11/100], Step [100/196], Loss: 117.6063\n"
      ]
     },
     "metadata": {},
     "output_type": "display_data"
    },
    {
     "data": {
      "text/html": [
       "<pre style=\"white-space:pre;overflow-x:auto;line-height:normal;font-family:Menlo,'DejaVu Sans Mono',consolas,'Courier New',monospace\">15:43:29.084 | <span style=\"color: #008080; text-decoration-color: #008080\">INFO</span>    | Task run 'Train model-0' - Epoch [12/100], Step [100/196], Loss: 79.6615\n",
       "</pre>\n"
      ],
      "text/plain": [
       "15:43:29.084 | \u001b[36mINFO\u001b[0m    | Task run 'Train model-0' - Epoch [12/100], Step [100/196], Loss: 79.6615\n"
      ]
     },
     "metadata": {},
     "output_type": "display_data"
    },
    {
     "data": {
      "text/html": [
       "<pre style=\"white-space:pre;overflow-x:auto;line-height:normal;font-family:Menlo,'DejaVu Sans Mono',consolas,'Courier New',monospace\">15:43:30.163 | <span style=\"color: #008080; text-decoration-color: #008080\">INFO</span>    | Task run 'Train model-0' - Epoch [13/100], Step [100/196], Loss: 75.8602\n",
       "</pre>\n"
      ],
      "text/plain": [
       "15:43:30.163 | \u001b[36mINFO\u001b[0m    | Task run 'Train model-0' - Epoch [13/100], Step [100/196], Loss: 75.8602\n"
      ]
     },
     "metadata": {},
     "output_type": "display_data"
    },
    {
     "data": {
      "text/html": [
       "<pre style=\"white-space:pre;overflow-x:auto;line-height:normal;font-family:Menlo,'DejaVu Sans Mono',consolas,'Courier New',monospace\">15:43:31.102 | <span style=\"color: #008080; text-decoration-color: #008080\">INFO</span>    | Task run 'Train model-0' - Epoch [14/100], Step [100/196], Loss: 129.9568\n",
       "</pre>\n"
      ],
      "text/plain": [
       "15:43:31.102 | \u001b[36mINFO\u001b[0m    | Task run 'Train model-0' - Epoch [14/100], Step [100/196], Loss: 129.9568\n"
      ]
     },
     "metadata": {},
     "output_type": "display_data"
    },
    {
     "data": {
      "text/html": [
       "<pre style=\"white-space:pre;overflow-x:auto;line-height:normal;font-family:Menlo,'DejaVu Sans Mono',consolas,'Courier New',monospace\">15:43:32.350 | <span style=\"color: #008080; text-decoration-color: #008080\">INFO</span>    | Task run 'Train model-0' - Epoch [15/100], Step [100/196], Loss: 74.5070\n",
       "</pre>\n"
      ],
      "text/plain": [
       "15:43:32.350 | \u001b[36mINFO\u001b[0m    | Task run 'Train model-0' - Epoch [15/100], Step [100/196], Loss: 74.5070\n"
      ]
     },
     "metadata": {},
     "output_type": "display_data"
    },
    {
     "data": {
      "text/html": [
       "<pre style=\"white-space:pre;overflow-x:auto;line-height:normal;font-family:Menlo,'DejaVu Sans Mono',consolas,'Courier New',monospace\">15:43:33.462 | <span style=\"color: #008080; text-decoration-color: #008080\">INFO</span>    | Task run 'Train model-0' - Epoch [16/100], Step [100/196], Loss: 78.0856\n",
       "</pre>\n"
      ],
      "text/plain": [
       "15:43:33.462 | \u001b[36mINFO\u001b[0m    | Task run 'Train model-0' - Epoch [16/100], Step [100/196], Loss: 78.0856\n"
      ]
     },
     "metadata": {},
     "output_type": "display_data"
    },
    {
     "data": {
      "text/html": [
       "<pre style=\"white-space:pre;overflow-x:auto;line-height:normal;font-family:Menlo,'DejaVu Sans Mono',consolas,'Courier New',monospace\">15:43:34.571 | <span style=\"color: #008080; text-decoration-color: #008080\">INFO</span>    | Task run 'Train model-0' - Epoch [17/100], Step [100/196], Loss: 77.2705\n",
       "</pre>\n"
      ],
      "text/plain": [
       "15:43:34.571 | \u001b[36mINFO\u001b[0m    | Task run 'Train model-0' - Epoch [17/100], Step [100/196], Loss: 77.2705\n"
      ]
     },
     "metadata": {},
     "output_type": "display_data"
    },
    {
     "data": {
      "text/html": [
       "<pre style=\"white-space:pre;overflow-x:auto;line-height:normal;font-family:Menlo,'DejaVu Sans Mono',consolas,'Courier New',monospace\">15:43:35.803 | <span style=\"color: #008080; text-decoration-color: #008080\">INFO</span>    | Task run 'Train model-0' - Epoch [18/100], Step [100/196], Loss: 78.4186\n",
       "</pre>\n"
      ],
      "text/plain": [
       "15:43:35.803 | \u001b[36mINFO\u001b[0m    | Task run 'Train model-0' - Epoch [18/100], Step [100/196], Loss: 78.4186\n"
      ]
     },
     "metadata": {},
     "output_type": "display_data"
    },
    {
     "data": {
      "text/html": [
       "<pre style=\"white-space:pre;overflow-x:auto;line-height:normal;font-family:Menlo,'DejaVu Sans Mono',consolas,'Courier New',monospace\">15:43:36.774 | <span style=\"color: #008080; text-decoration-color: #008080\">INFO</span>    | Task run 'Train model-0' - Epoch [19/100], Step [100/196], Loss: 45.9948\n",
       "</pre>\n"
      ],
      "text/plain": [
       "15:43:36.774 | \u001b[36mINFO\u001b[0m    | Task run 'Train model-0' - Epoch [19/100], Step [100/196], Loss: 45.9948\n"
      ]
     },
     "metadata": {},
     "output_type": "display_data"
    },
    {
     "data": {
      "text/html": [
       "<pre style=\"white-space:pre;overflow-x:auto;line-height:normal;font-family:Menlo,'DejaVu Sans Mono',consolas,'Courier New',monospace\">15:43:37.818 | <span style=\"color: #008080; text-decoration-color: #008080\">INFO</span>    | Task run 'Train model-0' - Epoch [20/100], Step [100/196], Loss: 46.9643\n",
       "</pre>\n"
      ],
      "text/plain": [
       "15:43:37.818 | \u001b[36mINFO\u001b[0m    | Task run 'Train model-0' - Epoch [20/100], Step [100/196], Loss: 46.9643\n"
      ]
     },
     "metadata": {},
     "output_type": "display_data"
    },
    {
     "data": {
      "text/html": [
       "<pre style=\"white-space:pre;overflow-x:auto;line-height:normal;font-family:Menlo,'DejaVu Sans Mono',consolas,'Courier New',monospace\">15:43:38.771 | <span style=\"color: #008080; text-decoration-color: #008080\">INFO</span>    | Task run 'Train model-0' - Epoch [21/100], Step [100/196], Loss: 76.2779\n",
       "</pre>\n"
      ],
      "text/plain": [
       "15:43:38.771 | \u001b[36mINFO\u001b[0m    | Task run 'Train model-0' - Epoch [21/100], Step [100/196], Loss: 76.2779\n"
      ]
     },
     "metadata": {},
     "output_type": "display_data"
    },
    {
     "data": {
      "text/html": [
       "<pre style=\"white-space:pre;overflow-x:auto;line-height:normal;font-family:Menlo,'DejaVu Sans Mono',consolas,'Courier New',monospace\">15:43:39.819 | <span style=\"color: #008080; text-decoration-color: #008080\">INFO</span>    | Task run 'Train model-0' - Epoch [22/100], Step [100/196], Loss: 88.7217\n",
       "</pre>\n"
      ],
      "text/plain": [
       "15:43:39.819 | \u001b[36mINFO\u001b[0m    | Task run 'Train model-0' - Epoch [22/100], Step [100/196], Loss: 88.7217\n"
      ]
     },
     "metadata": {},
     "output_type": "display_data"
    },
    {
     "data": {
      "text/html": [
       "<pre style=\"white-space:pre;overflow-x:auto;line-height:normal;font-family:Menlo,'DejaVu Sans Mono',consolas,'Courier New',monospace\">15:43:40.784 | <span style=\"color: #008080; text-decoration-color: #008080\">INFO</span>    | Task run 'Train model-0' - Epoch [23/100], Step [100/196], Loss: 99.8643\n",
       "</pre>\n"
      ],
      "text/plain": [
       "15:43:40.784 | \u001b[36mINFO\u001b[0m    | Task run 'Train model-0' - Epoch [23/100], Step [100/196], Loss: 99.8643\n"
      ]
     },
     "metadata": {},
     "output_type": "display_data"
    },
    {
     "data": {
      "text/html": [
       "<pre style=\"white-space:pre;overflow-x:auto;line-height:normal;font-family:Menlo,'DejaVu Sans Mono',consolas,'Courier New',monospace\">15:43:41.784 | <span style=\"color: #008080; text-decoration-color: #008080\">INFO</span>    | Task run 'Train model-0' - Epoch [24/100], Step [100/196], Loss: 96.5627\n",
       "</pre>\n"
      ],
      "text/plain": [
       "15:43:41.784 | \u001b[36mINFO\u001b[0m    | Task run 'Train model-0' - Epoch [24/100], Step [100/196], Loss: 96.5627\n"
      ]
     },
     "metadata": {},
     "output_type": "display_data"
    },
    {
     "data": {
      "text/html": [
       "<pre style=\"white-space:pre;overflow-x:auto;line-height:normal;font-family:Menlo,'DejaVu Sans Mono',consolas,'Courier New',monospace\">15:43:42.909 | <span style=\"color: #008080; text-decoration-color: #008080\">INFO</span>    | Task run 'Train model-0' - Epoch [25/100], Step [100/196], Loss: 61.5555\n",
       "</pre>\n"
      ],
      "text/plain": [
       "15:43:42.909 | \u001b[36mINFO\u001b[0m    | Task run 'Train model-0' - Epoch [25/100], Step [100/196], Loss: 61.5555\n"
      ]
     },
     "metadata": {},
     "output_type": "display_data"
    },
    {
     "data": {
      "text/html": [
       "<pre style=\"white-space:pre;overflow-x:auto;line-height:normal;font-family:Menlo,'DejaVu Sans Mono',consolas,'Courier New',monospace\">15:43:43.977 | <span style=\"color: #008080; text-decoration-color: #008080\">INFO</span>    | Task run 'Train model-0' - Epoch [26/100], Step [100/196], Loss: 120.0928\n",
       "</pre>\n"
      ],
      "text/plain": [
       "15:43:43.977 | \u001b[36mINFO\u001b[0m    | Task run 'Train model-0' - Epoch [26/100], Step [100/196], Loss: 120.0928\n"
      ]
     },
     "metadata": {},
     "output_type": "display_data"
    },
    {
     "data": {
      "text/html": [
       "<pre style=\"white-space:pre;overflow-x:auto;line-height:normal;font-family:Menlo,'DejaVu Sans Mono',consolas,'Courier New',monospace\">15:43:45.062 | <span style=\"color: #008080; text-decoration-color: #008080\">INFO</span>    | Task run 'Train model-0' - Epoch [27/100], Step [100/196], Loss: 99.0570\n",
       "</pre>\n"
      ],
      "text/plain": [
       "15:43:45.062 | \u001b[36mINFO\u001b[0m    | Task run 'Train model-0' - Epoch [27/100], Step [100/196], Loss: 99.0570\n"
      ]
     },
     "metadata": {},
     "output_type": "display_data"
    },
    {
     "data": {
      "text/html": [
       "<pre style=\"white-space:pre;overflow-x:auto;line-height:normal;font-family:Menlo,'DejaVu Sans Mono',consolas,'Courier New',monospace\">15:43:46.069 | <span style=\"color: #008080; text-decoration-color: #008080\">INFO</span>    | Task run 'Train model-0' - Epoch [28/100], Step [100/196], Loss: 67.6166\n",
       "</pre>\n"
      ],
      "text/plain": [
       "15:43:46.069 | \u001b[36mINFO\u001b[0m    | Task run 'Train model-0' - Epoch [28/100], Step [100/196], Loss: 67.6166\n"
      ]
     },
     "metadata": {},
     "output_type": "display_data"
    },
    {
     "data": {
      "text/html": [
       "<pre style=\"white-space:pre;overflow-x:auto;line-height:normal;font-family:Menlo,'DejaVu Sans Mono',consolas,'Courier New',monospace\">15:43:47.226 | <span style=\"color: #008080; text-decoration-color: #008080\">INFO</span>    | Task run 'Train model-0' - Epoch [29/100], Step [100/196], Loss: 56.5845\n",
       "</pre>\n"
      ],
      "text/plain": [
       "15:43:47.226 | \u001b[36mINFO\u001b[0m    | Task run 'Train model-0' - Epoch [29/100], Step [100/196], Loss: 56.5845\n"
      ]
     },
     "metadata": {},
     "output_type": "display_data"
    },
    {
     "data": {
      "text/html": [
       "<pre style=\"white-space:pre;overflow-x:auto;line-height:normal;font-family:Menlo,'DejaVu Sans Mono',consolas,'Courier New',monospace\">15:43:48.303 | <span style=\"color: #008080; text-decoration-color: #008080\">INFO</span>    | Task run 'Train model-0' - Epoch [30/100], Step [100/196], Loss: 99.9478\n",
       "</pre>\n"
      ],
      "text/plain": [
       "15:43:48.303 | \u001b[36mINFO\u001b[0m    | Task run 'Train model-0' - Epoch [30/100], Step [100/196], Loss: 99.9478\n"
      ]
     },
     "metadata": {},
     "output_type": "display_data"
    },
    {
     "data": {
      "text/html": [
       "<pre style=\"white-space:pre;overflow-x:auto;line-height:normal;font-family:Menlo,'DejaVu Sans Mono',consolas,'Courier New',monospace\">15:43:49.442 | <span style=\"color: #008080; text-decoration-color: #008080\">INFO</span>    | Task run 'Train model-0' - Epoch [31/100], Step [100/196], Loss: 73.0051\n",
       "</pre>\n"
      ],
      "text/plain": [
       "15:43:49.442 | \u001b[36mINFO\u001b[0m    | Task run 'Train model-0' - Epoch [31/100], Step [100/196], Loss: 73.0051\n"
      ]
     },
     "metadata": {},
     "output_type": "display_data"
    },
    {
     "data": {
      "text/html": [
       "<pre style=\"white-space:pre;overflow-x:auto;line-height:normal;font-family:Menlo,'DejaVu Sans Mono',consolas,'Courier New',monospace\">15:43:50.505 | <span style=\"color: #008080; text-decoration-color: #008080\">INFO</span>    | Task run 'Train model-0' - Epoch [32/100], Step [100/196], Loss: 72.6087\n",
       "</pre>\n"
      ],
      "text/plain": [
       "15:43:50.505 | \u001b[36mINFO\u001b[0m    | Task run 'Train model-0' - Epoch [32/100], Step [100/196], Loss: 72.6087\n"
      ]
     },
     "metadata": {},
     "output_type": "display_data"
    },
    {
     "data": {
      "text/html": [
       "<pre style=\"white-space:pre;overflow-x:auto;line-height:normal;font-family:Menlo,'DejaVu Sans Mono',consolas,'Courier New',monospace\">15:43:51.589 | <span style=\"color: #008080; text-decoration-color: #008080\">INFO</span>    | Task run 'Train model-0' - Epoch [33/100], Step [100/196], Loss: 59.4600\n",
       "</pre>\n"
      ],
      "text/plain": [
       "15:43:51.589 | \u001b[36mINFO\u001b[0m    | Task run 'Train model-0' - Epoch [33/100], Step [100/196], Loss: 59.4600\n"
      ]
     },
     "metadata": {},
     "output_type": "display_data"
    },
    {
     "data": {
      "text/html": [
       "<pre style=\"white-space:pre;overflow-x:auto;line-height:normal;font-family:Menlo,'DejaVu Sans Mono',consolas,'Courier New',monospace\">15:43:52.691 | <span style=\"color: #008080; text-decoration-color: #008080\">INFO</span>    | Task run 'Train model-0' - Epoch [34/100], Step [100/196], Loss: 102.4763\n",
       "</pre>\n"
      ],
      "text/plain": [
       "15:43:52.691 | \u001b[36mINFO\u001b[0m    | Task run 'Train model-0' - Epoch [34/100], Step [100/196], Loss: 102.4763\n"
      ]
     },
     "metadata": {},
     "output_type": "display_data"
    },
    {
     "data": {
      "text/html": [
       "<pre style=\"white-space:pre;overflow-x:auto;line-height:normal;font-family:Menlo,'DejaVu Sans Mono',consolas,'Courier New',monospace\">15:43:53.647 | <span style=\"color: #008080; text-decoration-color: #008080\">INFO</span>    | Task run 'Train model-0' - Epoch [35/100], Step [100/196], Loss: 35.9373\n",
       "</pre>\n"
      ],
      "text/plain": [
       "15:43:53.647 | \u001b[36mINFO\u001b[0m    | Task run 'Train model-0' - Epoch [35/100], Step [100/196], Loss: 35.9373\n"
      ]
     },
     "metadata": {},
     "output_type": "display_data"
    },
    {
     "data": {
      "text/html": [
       "<pre style=\"white-space:pre;overflow-x:auto;line-height:normal;font-family:Menlo,'DejaVu Sans Mono',consolas,'Courier New',monospace\">15:43:54.711 | <span style=\"color: #008080; text-decoration-color: #008080\">INFO</span>    | Task run 'Train model-0' - Epoch [36/100], Step [100/196], Loss: 65.7768\n",
       "</pre>\n"
      ],
      "text/plain": [
       "15:43:54.711 | \u001b[36mINFO\u001b[0m    | Task run 'Train model-0' - Epoch [36/100], Step [100/196], Loss: 65.7768\n"
      ]
     },
     "metadata": {},
     "output_type": "display_data"
    },
    {
     "data": {
      "text/html": [
       "<pre style=\"white-space:pre;overflow-x:auto;line-height:normal;font-family:Menlo,'DejaVu Sans Mono',consolas,'Courier New',monospace\">15:43:55.689 | <span style=\"color: #008080; text-decoration-color: #008080\">INFO</span>    | Task run 'Train model-0' - Epoch [37/100], Step [100/196], Loss: 50.9369\n",
       "</pre>\n"
      ],
      "text/plain": [
       "15:43:55.689 | \u001b[36mINFO\u001b[0m    | Task run 'Train model-0' - Epoch [37/100], Step [100/196], Loss: 50.9369\n"
      ]
     },
     "metadata": {},
     "output_type": "display_data"
    },
    {
     "data": {
      "text/html": [
       "<pre style=\"white-space:pre;overflow-x:auto;line-height:normal;font-family:Menlo,'DejaVu Sans Mono',consolas,'Courier New',monospace\">15:43:56.756 | <span style=\"color: #008080; text-decoration-color: #008080\">INFO</span>    | Task run 'Train model-0' - Epoch [38/100], Step [100/196], Loss: 59.4455\n",
       "</pre>\n"
      ],
      "text/plain": [
       "15:43:56.756 | \u001b[36mINFO\u001b[0m    | Task run 'Train model-0' - Epoch [38/100], Step [100/196], Loss: 59.4455\n"
      ]
     },
     "metadata": {},
     "output_type": "display_data"
    },
    {
     "data": {
      "text/html": [
       "<pre style=\"white-space:pre;overflow-x:auto;line-height:normal;font-family:Menlo,'DejaVu Sans Mono',consolas,'Courier New',monospace\">15:43:57.750 | <span style=\"color: #008080; text-decoration-color: #008080\">INFO</span>    | Task run 'Train model-0' - Epoch [39/100], Step [100/196], Loss: 61.7173\n",
       "</pre>\n"
      ],
      "text/plain": [
       "15:43:57.750 | \u001b[36mINFO\u001b[0m    | Task run 'Train model-0' - Epoch [39/100], Step [100/196], Loss: 61.7173\n"
      ]
     },
     "metadata": {},
     "output_type": "display_data"
    },
    {
     "data": {
      "text/html": [
       "<pre style=\"white-space:pre;overflow-x:auto;line-height:normal;font-family:Menlo,'DejaVu Sans Mono',consolas,'Courier New',monospace\">15:43:58.813 | <span style=\"color: #008080; text-decoration-color: #008080\">INFO</span>    | Task run 'Train model-0' - Epoch [40/100], Step [100/196], Loss: 50.0713\n",
       "</pre>\n"
      ],
      "text/plain": [
       "15:43:58.813 | \u001b[36mINFO\u001b[0m    | Task run 'Train model-0' - Epoch [40/100], Step [100/196], Loss: 50.0713\n"
      ]
     },
     "metadata": {},
     "output_type": "display_data"
    },
    {
     "data": {
      "text/html": [
       "<pre style=\"white-space:pre;overflow-x:auto;line-height:normal;font-family:Menlo,'DejaVu Sans Mono',consolas,'Courier New',monospace\">15:43:59.784 | <span style=\"color: #008080; text-decoration-color: #008080\">INFO</span>    | Task run 'Train model-0' - Epoch [41/100], Step [100/196], Loss: 46.0772\n",
       "</pre>\n"
      ],
      "text/plain": [
       "15:43:59.784 | \u001b[36mINFO\u001b[0m    | Task run 'Train model-0' - Epoch [41/100], Step [100/196], Loss: 46.0772\n"
      ]
     },
     "metadata": {},
     "output_type": "display_data"
    },
    {
     "data": {
      "text/html": [
       "<pre style=\"white-space:pre;overflow-x:auto;line-height:normal;font-family:Menlo,'DejaVu Sans Mono',consolas,'Courier New',monospace\">15:44:00.849 | <span style=\"color: #008080; text-decoration-color: #008080\">INFO</span>    | Task run 'Train model-0' - Epoch [42/100], Step [100/196], Loss: 53.1360\n",
       "</pre>\n"
      ],
      "text/plain": [
       "15:44:00.849 | \u001b[36mINFO\u001b[0m    | Task run 'Train model-0' - Epoch [42/100], Step [100/196], Loss: 53.1360\n"
      ]
     },
     "metadata": {},
     "output_type": "display_data"
    },
    {
     "data": {
      "text/html": [
       "<pre style=\"white-space:pre;overflow-x:auto;line-height:normal;font-family:Menlo,'DejaVu Sans Mono',consolas,'Courier New',monospace\">15:44:01.817 | <span style=\"color: #008080; text-decoration-color: #008080\">INFO</span>    | Task run 'Train model-0' - Epoch [43/100], Step [100/196], Loss: 69.2103\n",
       "</pre>\n"
      ],
      "text/plain": [
       "15:44:01.817 | \u001b[36mINFO\u001b[0m    | Task run 'Train model-0' - Epoch [43/100], Step [100/196], Loss: 69.2103\n"
      ]
     },
     "metadata": {},
     "output_type": "display_data"
    },
    {
     "data": {
      "text/html": [
       "<pre style=\"white-space:pre;overflow-x:auto;line-height:normal;font-family:Menlo,'DejaVu Sans Mono',consolas,'Courier New',monospace\">15:44:02.895 | <span style=\"color: #008080; text-decoration-color: #008080\">INFO</span>    | Task run 'Train model-0' - Epoch [44/100], Step [100/196], Loss: 51.3366\n",
       "</pre>\n"
      ],
      "text/plain": [
       "15:44:02.895 | \u001b[36mINFO\u001b[0m    | Task run 'Train model-0' - Epoch [44/100], Step [100/196], Loss: 51.3366\n"
      ]
     },
     "metadata": {},
     "output_type": "display_data"
    },
    {
     "data": {
      "text/html": [
       "<pre style=\"white-space:pre;overflow-x:auto;line-height:normal;font-family:Menlo,'DejaVu Sans Mono',consolas,'Courier New',monospace\">15:44:03.871 | <span style=\"color: #008080; text-decoration-color: #008080\">INFO</span>    | Task run 'Train model-0' - Epoch [45/100], Step [100/196], Loss: 79.4736\n",
       "</pre>\n"
      ],
      "text/plain": [
       "15:44:03.871 | \u001b[36mINFO\u001b[0m    | Task run 'Train model-0' - Epoch [45/100], Step [100/196], Loss: 79.4736\n"
      ]
     },
     "metadata": {},
     "output_type": "display_data"
    },
    {
     "data": {
      "text/html": [
       "<pre style=\"white-space:pre;overflow-x:auto;line-height:normal;font-family:Menlo,'DejaVu Sans Mono',consolas,'Courier New',monospace\">15:44:04.999 | <span style=\"color: #008080; text-decoration-color: #008080\">INFO</span>    | Task run 'Train model-0' - Epoch [46/100], Step [100/196], Loss: 53.3608\n",
       "</pre>\n"
      ],
      "text/plain": [
       "15:44:04.999 | \u001b[36mINFO\u001b[0m    | Task run 'Train model-0' - Epoch [46/100], Step [100/196], Loss: 53.3608\n"
      ]
     },
     "metadata": {},
     "output_type": "display_data"
    },
    {
     "data": {
      "text/html": [
       "<pre style=\"white-space:pre;overflow-x:auto;line-height:normal;font-family:Menlo,'DejaVu Sans Mono',consolas,'Courier New',monospace\">15:44:06.094 | <span style=\"color: #008080; text-decoration-color: #008080\">INFO</span>    | Task run 'Train model-0' - Epoch [47/100], Step [100/196], Loss: 96.5298\n",
       "</pre>\n"
      ],
      "text/plain": [
       "15:44:06.094 | \u001b[36mINFO\u001b[0m    | Task run 'Train model-0' - Epoch [47/100], Step [100/196], Loss: 96.5298\n"
      ]
     },
     "metadata": {},
     "output_type": "display_data"
    },
    {
     "data": {
      "text/html": [
       "<pre style=\"white-space:pre;overflow-x:auto;line-height:normal;font-family:Menlo,'DejaVu Sans Mono',consolas,'Courier New',monospace\">15:44:07.207 | <span style=\"color: #008080; text-decoration-color: #008080\">INFO</span>    | Task run 'Train model-0' - Epoch [48/100], Step [100/196], Loss: 58.9015\n",
       "</pre>\n"
      ],
      "text/plain": [
       "15:44:07.207 | \u001b[36mINFO\u001b[0m    | Task run 'Train model-0' - Epoch [48/100], Step [100/196], Loss: 58.9015\n"
      ]
     },
     "metadata": {},
     "output_type": "display_data"
    },
    {
     "data": {
      "text/html": [
       "<pre style=\"white-space:pre;overflow-x:auto;line-height:normal;font-family:Menlo,'DejaVu Sans Mono',consolas,'Courier New',monospace\">15:44:08.194 | <span style=\"color: #008080; text-decoration-color: #008080\">INFO</span>    | Task run 'Train model-0' - Epoch [49/100], Step [100/196], Loss: 34.9942\n",
       "</pre>\n"
      ],
      "text/plain": [
       "15:44:08.194 | \u001b[36mINFO\u001b[0m    | Task run 'Train model-0' - Epoch [49/100], Step [100/196], Loss: 34.9942\n"
      ]
     },
     "metadata": {},
     "output_type": "display_data"
    },
    {
     "data": {
      "text/html": [
       "<pre style=\"white-space:pre;overflow-x:auto;line-height:normal;font-family:Menlo,'DejaVu Sans Mono',consolas,'Courier New',monospace\">15:44:09.268 | <span style=\"color: #008080; text-decoration-color: #008080\">INFO</span>    | Task run 'Train model-0' - Epoch [50/100], Step [100/196], Loss: 73.5668\n",
       "</pre>\n"
      ],
      "text/plain": [
       "15:44:09.268 | \u001b[36mINFO\u001b[0m    | Task run 'Train model-0' - Epoch [50/100], Step [100/196], Loss: 73.5668\n"
      ]
     },
     "metadata": {},
     "output_type": "display_data"
    },
    {
     "data": {
      "text/html": [
       "<pre style=\"white-space:pre;overflow-x:auto;line-height:normal;font-family:Menlo,'DejaVu Sans Mono',consolas,'Courier New',monospace\">15:44:10.431 | <span style=\"color: #008080; text-decoration-color: #008080\">INFO</span>    | Task run 'Train model-0' - Epoch [51/100], Step [100/196], Loss: 92.8746\n",
       "</pre>\n"
      ],
      "text/plain": [
       "15:44:10.431 | \u001b[36mINFO\u001b[0m    | Task run 'Train model-0' - Epoch [51/100], Step [100/196], Loss: 92.8746\n"
      ]
     },
     "metadata": {},
     "output_type": "display_data"
    },
    {
     "data": {
      "text/html": [
       "<pre style=\"white-space:pre;overflow-x:auto;line-height:normal;font-family:Menlo,'DejaVu Sans Mono',consolas,'Courier New',monospace\">15:44:11.387 | <span style=\"color: #008080; text-decoration-color: #008080\">INFO</span>    | Task run 'Train model-0' - Epoch [52/100], Step [100/196], Loss: 39.1312\n",
       "</pre>\n"
      ],
      "text/plain": [
       "15:44:11.387 | \u001b[36mINFO\u001b[0m    | Task run 'Train model-0' - Epoch [52/100], Step [100/196], Loss: 39.1312\n"
      ]
     },
     "metadata": {},
     "output_type": "display_data"
    },
    {
     "data": {
      "text/html": [
       "<pre style=\"white-space:pre;overflow-x:auto;line-height:normal;font-family:Menlo,'DejaVu Sans Mono',consolas,'Courier New',monospace\">15:44:12.445 | <span style=\"color: #008080; text-decoration-color: #008080\">INFO</span>    | Task run 'Train model-0' - Epoch [53/100], Step [100/196], Loss: 73.3856\n",
       "</pre>\n"
      ],
      "text/plain": [
       "15:44:12.445 | \u001b[36mINFO\u001b[0m    | Task run 'Train model-0' - Epoch [53/100], Step [100/196], Loss: 73.3856\n"
      ]
     },
     "metadata": {},
     "output_type": "display_data"
    },
    {
     "data": {
      "text/html": [
       "<pre style=\"white-space:pre;overflow-x:auto;line-height:normal;font-family:Menlo,'DejaVu Sans Mono',consolas,'Courier New',monospace\">15:44:13.530 | <span style=\"color: #008080; text-decoration-color: #008080\">INFO</span>    | Task run 'Train model-0' - Epoch [54/100], Step [100/196], Loss: 34.2750\n",
       "</pre>\n"
      ],
      "text/plain": [
       "15:44:13.530 | \u001b[36mINFO\u001b[0m    | Task run 'Train model-0' - Epoch [54/100], Step [100/196], Loss: 34.2750\n"
      ]
     },
     "metadata": {},
     "output_type": "display_data"
    },
    {
     "data": {
      "text/html": [
       "<pre style=\"white-space:pre;overflow-x:auto;line-height:normal;font-family:Menlo,'DejaVu Sans Mono',consolas,'Courier New',monospace\">15:44:14.686 | <span style=\"color: #008080; text-decoration-color: #008080\">INFO</span>    | Task run 'Train model-0' - Epoch [55/100], Step [100/196], Loss: 75.1849\n",
       "</pre>\n"
      ],
      "text/plain": [
       "15:44:14.686 | \u001b[36mINFO\u001b[0m    | Task run 'Train model-0' - Epoch [55/100], Step [100/196], Loss: 75.1849\n"
      ]
     },
     "metadata": {},
     "output_type": "display_data"
    },
    {
     "data": {
      "text/html": [
       "<pre style=\"white-space:pre;overflow-x:auto;line-height:normal;font-family:Menlo,'DejaVu Sans Mono',consolas,'Courier New',monospace\">15:44:15.765 | <span style=\"color: #008080; text-decoration-color: #008080\">INFO</span>    | Task run 'Train model-0' - Epoch [56/100], Step [100/196], Loss: 70.6549\n",
       "</pre>\n"
      ],
      "text/plain": [
       "15:44:15.765 | \u001b[36mINFO\u001b[0m    | Task run 'Train model-0' - Epoch [56/100], Step [100/196], Loss: 70.6549\n"
      ]
     },
     "metadata": {},
     "output_type": "display_data"
    },
    {
     "data": {
      "text/html": [
       "<pre style=\"white-space:pre;overflow-x:auto;line-height:normal;font-family:Menlo,'DejaVu Sans Mono',consolas,'Courier New',monospace\">15:44:16.741 | <span style=\"color: #008080; text-decoration-color: #008080\">INFO</span>    | Task run 'Train model-0' - Epoch [57/100], Step [100/196], Loss: 75.5739\n",
       "</pre>\n"
      ],
      "text/plain": [
       "15:44:16.741 | \u001b[36mINFO\u001b[0m    | Task run 'Train model-0' - Epoch [57/100], Step [100/196], Loss: 75.5739\n"
      ]
     },
     "metadata": {},
     "output_type": "display_data"
    },
    {
     "data": {
      "text/html": [
       "<pre style=\"white-space:pre;overflow-x:auto;line-height:normal;font-family:Menlo,'DejaVu Sans Mono',consolas,'Courier New',monospace\">15:44:17.813 | <span style=\"color: #008080; text-decoration-color: #008080\">INFO</span>    | Task run 'Train model-0' - Epoch [58/100], Step [100/196], Loss: 91.3780\n",
       "</pre>\n"
      ],
      "text/plain": [
       "15:44:17.813 | \u001b[36mINFO\u001b[0m    | Task run 'Train model-0' - Epoch [58/100], Step [100/196], Loss: 91.3780\n"
      ]
     },
     "metadata": {},
     "output_type": "display_data"
    },
    {
     "data": {
      "text/html": [
       "<pre style=\"white-space:pre;overflow-x:auto;line-height:normal;font-family:Menlo,'DejaVu Sans Mono',consolas,'Courier New',monospace\">15:44:18.740 | <span style=\"color: #008080; text-decoration-color: #008080\">INFO</span>    | Task run 'Train model-0' - Epoch [59/100], Step [100/196], Loss: 62.8999\n",
       "</pre>\n"
      ],
      "text/plain": [
       "15:44:18.740 | \u001b[36mINFO\u001b[0m    | Task run 'Train model-0' - Epoch [59/100], Step [100/196], Loss: 62.8999\n"
      ]
     },
     "metadata": {},
     "output_type": "display_data"
    },
    {
     "data": {
      "text/html": [
       "<pre style=\"white-space:pre;overflow-x:auto;line-height:normal;font-family:Menlo,'DejaVu Sans Mono',consolas,'Courier New',monospace\">15:44:19.832 | <span style=\"color: #008080; text-decoration-color: #008080\">INFO</span>    | Task run 'Train model-0' - Epoch [60/100], Step [100/196], Loss: 119.0960\n",
       "</pre>\n"
      ],
      "text/plain": [
       "15:44:19.832 | \u001b[36mINFO\u001b[0m    | Task run 'Train model-0' - Epoch [60/100], Step [100/196], Loss: 119.0960\n"
      ]
     },
     "metadata": {},
     "output_type": "display_data"
    },
    {
     "data": {
      "text/html": [
       "<pre style=\"white-space:pre;overflow-x:auto;line-height:normal;font-family:Menlo,'DejaVu Sans Mono',consolas,'Courier New',monospace\">15:44:20.940 | <span style=\"color: #008080; text-decoration-color: #008080\">INFO</span>    | Task run 'Train model-0' - Epoch [61/100], Step [100/196], Loss: 116.3154\n",
       "</pre>\n"
      ],
      "text/plain": [
       "15:44:20.940 | \u001b[36mINFO\u001b[0m    | Task run 'Train model-0' - Epoch [61/100], Step [100/196], Loss: 116.3154\n"
      ]
     },
     "metadata": {},
     "output_type": "display_data"
    },
    {
     "data": {
      "text/html": [
       "<pre style=\"white-space:pre;overflow-x:auto;line-height:normal;font-family:Menlo,'DejaVu Sans Mono',consolas,'Courier New',monospace\">15:44:22.041 | <span style=\"color: #008080; text-decoration-color: #008080\">INFO</span>    | Task run 'Train model-0' - Epoch [62/100], Step [100/196], Loss: 53.0950\n",
       "</pre>\n"
      ],
      "text/plain": [
       "15:44:22.041 | \u001b[36mINFO\u001b[0m    | Task run 'Train model-0' - Epoch [62/100], Step [100/196], Loss: 53.0950\n"
      ]
     },
     "metadata": {},
     "output_type": "display_data"
    },
    {
     "data": {
      "text/html": [
       "<pre style=\"white-space:pre;overflow-x:auto;line-height:normal;font-family:Menlo,'DejaVu Sans Mono',consolas,'Courier New',monospace\">15:44:23.223 | <span style=\"color: #008080; text-decoration-color: #008080\">INFO</span>    | Task run 'Train model-0' - Epoch [63/100], Step [100/196], Loss: 74.0627\n",
       "</pre>\n"
      ],
      "text/plain": [
       "15:44:23.223 | \u001b[36mINFO\u001b[0m    | Task run 'Train model-0' - Epoch [63/100], Step [100/196], Loss: 74.0627\n"
      ]
     },
     "metadata": {},
     "output_type": "display_data"
    },
    {
     "data": {
      "text/html": [
       "<pre style=\"white-space:pre;overflow-x:auto;line-height:normal;font-family:Menlo,'DejaVu Sans Mono',consolas,'Courier New',monospace\">15:44:24.282 | <span style=\"color: #008080; text-decoration-color: #008080\">INFO</span>    | Task run 'Train model-0' - Epoch [64/100], Step [100/196], Loss: 96.5011\n",
       "</pre>\n"
      ],
      "text/plain": [
       "15:44:24.282 | \u001b[36mINFO\u001b[0m    | Task run 'Train model-0' - Epoch [64/100], Step [100/196], Loss: 96.5011\n"
      ]
     },
     "metadata": {},
     "output_type": "display_data"
    },
    {
     "data": {
      "text/html": [
       "<pre style=\"white-space:pre;overflow-x:auto;line-height:normal;font-family:Menlo,'DejaVu Sans Mono',consolas,'Courier New',monospace\">15:44:25.236 | <span style=\"color: #008080; text-decoration-color: #008080\">INFO</span>    | Task run 'Train model-0' - Epoch [65/100], Step [100/196], Loss: 44.8408\n",
       "</pre>\n"
      ],
      "text/plain": [
       "15:44:25.236 | \u001b[36mINFO\u001b[0m    | Task run 'Train model-0' - Epoch [65/100], Step [100/196], Loss: 44.8408\n"
      ]
     },
     "metadata": {},
     "output_type": "display_data"
    },
    {
     "data": {
      "text/html": [
       "<pre style=\"white-space:pre;overflow-x:auto;line-height:normal;font-family:Menlo,'DejaVu Sans Mono',consolas,'Courier New',monospace\">15:44:26.285 | <span style=\"color: #008080; text-decoration-color: #008080\">INFO</span>    | Task run 'Train model-0' - Epoch [66/100], Step [100/196], Loss: 81.4205\n",
       "</pre>\n"
      ],
      "text/plain": [
       "15:44:26.285 | \u001b[36mINFO\u001b[0m    | Task run 'Train model-0' - Epoch [66/100], Step [100/196], Loss: 81.4205\n"
      ]
     },
     "metadata": {},
     "output_type": "display_data"
    },
    {
     "data": {
      "text/html": [
       "<pre style=\"white-space:pre;overflow-x:auto;line-height:normal;font-family:Menlo,'DejaVu Sans Mono',consolas,'Courier New',monospace\">15:44:27.405 | <span style=\"color: #008080; text-decoration-color: #008080\">INFO</span>    | Task run 'Train model-0' - Epoch [67/100], Step [100/196], Loss: 50.9625\n",
       "</pre>\n"
      ],
      "text/plain": [
       "15:44:27.405 | \u001b[36mINFO\u001b[0m    | Task run 'Train model-0' - Epoch [67/100], Step [100/196], Loss: 50.9625\n"
      ]
     },
     "metadata": {},
     "output_type": "display_data"
    },
    {
     "data": {
      "text/html": [
       "<pre style=\"white-space:pre;overflow-x:auto;line-height:normal;font-family:Menlo,'DejaVu Sans Mono',consolas,'Courier New',monospace\">15:44:28.540 | <span style=\"color: #008080; text-decoration-color: #008080\">INFO</span>    | Task run 'Train model-0' - Epoch [68/100], Step [100/196], Loss: 43.3163\n",
       "</pre>\n"
      ],
      "text/plain": [
       "15:44:28.540 | \u001b[36mINFO\u001b[0m    | Task run 'Train model-0' - Epoch [68/100], Step [100/196], Loss: 43.3163\n"
      ]
     },
     "metadata": {},
     "output_type": "display_data"
    },
    {
     "data": {
      "text/html": [
       "<pre style=\"white-space:pre;overflow-x:auto;line-height:normal;font-family:Menlo,'DejaVu Sans Mono',consolas,'Courier New',monospace\">15:44:29.708 | <span style=\"color: #008080; text-decoration-color: #008080\">INFO</span>    | Task run 'Train model-0' - Epoch [69/100], Step [100/196], Loss: 57.5226\n",
       "</pre>\n"
      ],
      "text/plain": [
       "15:44:29.708 | \u001b[36mINFO\u001b[0m    | Task run 'Train model-0' - Epoch [69/100], Step [100/196], Loss: 57.5226\n"
      ]
     },
     "metadata": {},
     "output_type": "display_data"
    },
    {
     "data": {
      "text/html": [
       "<pre style=\"white-space:pre;overflow-x:auto;line-height:normal;font-family:Menlo,'DejaVu Sans Mono',consolas,'Courier New',monospace\">15:44:30.886 | <span style=\"color: #008080; text-decoration-color: #008080\">INFO</span>    | Task run 'Train model-0' - Epoch [70/100], Step [100/196], Loss: 46.1809\n",
       "</pre>\n"
      ],
      "text/plain": [
       "15:44:30.886 | \u001b[36mINFO\u001b[0m    | Task run 'Train model-0' - Epoch [70/100], Step [100/196], Loss: 46.1809\n"
      ]
     },
     "metadata": {},
     "output_type": "display_data"
    },
    {
     "data": {
      "text/html": [
       "<pre style=\"white-space:pre;overflow-x:auto;line-height:normal;font-family:Menlo,'DejaVu Sans Mono',consolas,'Courier New',monospace\">15:44:31.996 | <span style=\"color: #008080; text-decoration-color: #008080\">INFO</span>    | Task run 'Train model-0' - Epoch [71/100], Step [100/196], Loss: 81.0945\n",
       "</pre>\n"
      ],
      "text/plain": [
       "15:44:31.996 | \u001b[36mINFO\u001b[0m    | Task run 'Train model-0' - Epoch [71/100], Step [100/196], Loss: 81.0945\n"
      ]
     },
     "metadata": {},
     "output_type": "display_data"
    },
    {
     "data": {
      "text/html": [
       "<pre style=\"white-space:pre;overflow-x:auto;line-height:normal;font-family:Menlo,'DejaVu Sans Mono',consolas,'Courier New',monospace\">15:44:33.019 | <span style=\"color: #008080; text-decoration-color: #008080\">INFO</span>    | Task run 'Train model-0' - Epoch [72/100], Step [100/196], Loss: 77.9380\n",
       "</pre>\n"
      ],
      "text/plain": [
       "15:44:33.019 | \u001b[36mINFO\u001b[0m    | Task run 'Train model-0' - Epoch [72/100], Step [100/196], Loss: 77.9380\n"
      ]
     },
     "metadata": {},
     "output_type": "display_data"
    },
    {
     "data": {
      "text/html": [
       "<pre style=\"white-space:pre;overflow-x:auto;line-height:normal;font-family:Menlo,'DejaVu Sans Mono',consolas,'Courier New',monospace\">15:44:34.061 | <span style=\"color: #008080; text-decoration-color: #008080\">INFO</span>    | Task run 'Train model-0' - Epoch [73/100], Step [100/196], Loss: 52.5219\n",
       "</pre>\n"
      ],
      "text/plain": [
       "15:44:34.061 | \u001b[36mINFO\u001b[0m    | Task run 'Train model-0' - Epoch [73/100], Step [100/196], Loss: 52.5219\n"
      ]
     },
     "metadata": {},
     "output_type": "display_data"
    },
    {
     "data": {
      "text/html": [
       "<pre style=\"white-space:pre;overflow-x:auto;line-height:normal;font-family:Menlo,'DejaVu Sans Mono',consolas,'Courier New',monospace\">15:44:35.027 | <span style=\"color: #008080; text-decoration-color: #008080\">INFO</span>    | Task run 'Train model-0' - Epoch [74/100], Step [100/196], Loss: 40.4634\n",
       "</pre>\n"
      ],
      "text/plain": [
       "15:44:35.027 | \u001b[36mINFO\u001b[0m    | Task run 'Train model-0' - Epoch [74/100], Step [100/196], Loss: 40.4634\n"
      ]
     },
     "metadata": {},
     "output_type": "display_data"
    },
    {
     "data": {
      "text/html": [
       "<pre style=\"white-space:pre;overflow-x:auto;line-height:normal;font-family:Menlo,'DejaVu Sans Mono',consolas,'Courier New',monospace\">15:44:36.047 | <span style=\"color: #008080; text-decoration-color: #008080\">INFO</span>    | Task run 'Train model-0' - Epoch [75/100], Step [100/196], Loss: 113.1509\n",
       "</pre>\n"
      ],
      "text/plain": [
       "15:44:36.047 | \u001b[36mINFO\u001b[0m    | Task run 'Train model-0' - Epoch [75/100], Step [100/196], Loss: 113.1509\n"
      ]
     },
     "metadata": {},
     "output_type": "display_data"
    },
    {
     "data": {
      "text/html": [
       "<pre style=\"white-space:pre;overflow-x:auto;line-height:normal;font-family:Menlo,'DejaVu Sans Mono',consolas,'Courier New',monospace\">15:44:37.178 | <span style=\"color: #008080; text-decoration-color: #008080\">INFO</span>    | Task run 'Train model-0' - Epoch [76/100], Step [100/196], Loss: 60.5131\n",
       "</pre>\n"
      ],
      "text/plain": [
       "15:44:37.178 | \u001b[36mINFO\u001b[0m    | Task run 'Train model-0' - Epoch [76/100], Step [100/196], Loss: 60.5131\n"
      ]
     },
     "metadata": {},
     "output_type": "display_data"
    },
    {
     "data": {
      "text/html": [
       "<pre style=\"white-space:pre;overflow-x:auto;line-height:normal;font-family:Menlo,'DejaVu Sans Mono',consolas,'Courier New',monospace\">15:44:38.136 | <span style=\"color: #008080; text-decoration-color: #008080\">INFO</span>    | Task run 'Train model-0' - Epoch [77/100], Step [100/196], Loss: 59.6714\n",
       "</pre>\n"
      ],
      "text/plain": [
       "15:44:38.136 | \u001b[36mINFO\u001b[0m    | Task run 'Train model-0' - Epoch [77/100], Step [100/196], Loss: 59.6714\n"
      ]
     },
     "metadata": {},
     "output_type": "display_data"
    },
    {
     "data": {
      "text/html": [
       "<pre style=\"white-space:pre;overflow-x:auto;line-height:normal;font-family:Menlo,'DejaVu Sans Mono',consolas,'Courier New',monospace\">15:44:39.179 | <span style=\"color: #008080; text-decoration-color: #008080\">INFO</span>    | Task run 'Train model-0' - Epoch [78/100], Step [100/196], Loss: 39.7437\n",
       "</pre>\n"
      ],
      "text/plain": [
       "15:44:39.179 | \u001b[36mINFO\u001b[0m    | Task run 'Train model-0' - Epoch [78/100], Step [100/196], Loss: 39.7437\n"
      ]
     },
     "metadata": {},
     "output_type": "display_data"
    },
    {
     "data": {
      "text/html": [
       "<pre style=\"white-space:pre;overflow-x:auto;line-height:normal;font-family:Menlo,'DejaVu Sans Mono',consolas,'Courier New',monospace\">15:44:40.196 | <span style=\"color: #008080; text-decoration-color: #008080\">INFO</span>    | Task run 'Train model-0' - Epoch [79/100], Step [100/196], Loss: 71.5324\n",
       "</pre>\n"
      ],
      "text/plain": [
       "15:44:40.196 | \u001b[36mINFO\u001b[0m    | Task run 'Train model-0' - Epoch [79/100], Step [100/196], Loss: 71.5324\n"
      ]
     },
     "metadata": {},
     "output_type": "display_data"
    },
    {
     "data": {
      "text/html": [
       "<pre style=\"white-space:pre;overflow-x:auto;line-height:normal;font-family:Menlo,'DejaVu Sans Mono',consolas,'Courier New',monospace\">15:44:41.211 | <span style=\"color: #008080; text-decoration-color: #008080\">INFO</span>    | Task run 'Train model-0' - Epoch [80/100], Step [100/196], Loss: 43.5058\n",
       "</pre>\n"
      ],
      "text/plain": [
       "15:44:41.211 | \u001b[36mINFO\u001b[0m    | Task run 'Train model-0' - Epoch [80/100], Step [100/196], Loss: 43.5058\n"
      ]
     },
     "metadata": {},
     "output_type": "display_data"
    },
    {
     "data": {
      "text/html": [
       "<pre style=\"white-space:pre;overflow-x:auto;line-height:normal;font-family:Menlo,'DejaVu Sans Mono',consolas,'Courier New',monospace\">15:44:42.395 | <span style=\"color: #008080; text-decoration-color: #008080\">INFO</span>    | Task run 'Train model-0' - Epoch [81/100], Step [100/196], Loss: 62.1626\n",
       "</pre>\n"
      ],
      "text/plain": [
       "15:44:42.395 | \u001b[36mINFO\u001b[0m    | Task run 'Train model-0' - Epoch [81/100], Step [100/196], Loss: 62.1626\n"
      ]
     },
     "metadata": {},
     "output_type": "display_data"
    },
    {
     "data": {
      "text/html": [
       "<pre style=\"white-space:pre;overflow-x:auto;line-height:normal;font-family:Menlo,'DejaVu Sans Mono',consolas,'Courier New',monospace\">15:44:43.537 | <span style=\"color: #008080; text-decoration-color: #008080\">INFO</span>    | Task run 'Train model-0' - Epoch [82/100], Step [100/196], Loss: 56.3788\n",
       "</pre>\n"
      ],
      "text/plain": [
       "15:44:43.537 | \u001b[36mINFO\u001b[0m    | Task run 'Train model-0' - Epoch [82/100], Step [100/196], Loss: 56.3788\n"
      ]
     },
     "metadata": {},
     "output_type": "display_data"
    },
    {
     "data": {
      "text/html": [
       "<pre style=\"white-space:pre;overflow-x:auto;line-height:normal;font-family:Menlo,'DejaVu Sans Mono',consolas,'Courier New',monospace\">15:44:44.587 | <span style=\"color: #008080; text-decoration-color: #008080\">INFO</span>    | Task run 'Train model-0' - Epoch [83/100], Step [100/196], Loss: 53.7904\n",
       "</pre>\n"
      ],
      "text/plain": [
       "15:44:44.587 | \u001b[36mINFO\u001b[0m    | Task run 'Train model-0' - Epoch [83/100], Step [100/196], Loss: 53.7904\n"
      ]
     },
     "metadata": {},
     "output_type": "display_data"
    },
    {
     "data": {
      "text/html": [
       "<pre style=\"white-space:pre;overflow-x:auto;line-height:normal;font-family:Menlo,'DejaVu Sans Mono',consolas,'Courier New',monospace\">15:44:45.714 | <span style=\"color: #008080; text-decoration-color: #008080\">INFO</span>    | Task run 'Train model-0' - Epoch [84/100], Step [100/196], Loss: 189.2149\n",
       "</pre>\n"
      ],
      "text/plain": [
       "15:44:45.714 | \u001b[36mINFO\u001b[0m    | Task run 'Train model-0' - Epoch [84/100], Step [100/196], Loss: 189.2149\n"
      ]
     },
     "metadata": {},
     "output_type": "display_data"
    },
    {
     "data": {
      "text/html": [
       "<pre style=\"white-space:pre;overflow-x:auto;line-height:normal;font-family:Menlo,'DejaVu Sans Mono',consolas,'Courier New',monospace\">15:44:46.803 | <span style=\"color: #008080; text-decoration-color: #008080\">INFO</span>    | Task run 'Train model-0' - Epoch [85/100], Step [100/196], Loss: 53.4213\n",
       "</pre>\n"
      ],
      "text/plain": [
       "15:44:46.803 | \u001b[36mINFO\u001b[0m    | Task run 'Train model-0' - Epoch [85/100], Step [100/196], Loss: 53.4213\n"
      ]
     },
     "metadata": {},
     "output_type": "display_data"
    },
    {
     "data": {
      "text/html": [
       "<pre style=\"white-space:pre;overflow-x:auto;line-height:normal;font-family:Menlo,'DejaVu Sans Mono',consolas,'Courier New',monospace\">15:44:47.816 | <span style=\"color: #008080; text-decoration-color: #008080\">INFO</span>    | Task run 'Train model-0' - Epoch [86/100], Step [100/196], Loss: 40.5886\n",
       "</pre>\n"
      ],
      "text/plain": [
       "15:44:47.816 | \u001b[36mINFO\u001b[0m    | Task run 'Train model-0' - Epoch [86/100], Step [100/196], Loss: 40.5886\n"
      ]
     },
     "metadata": {},
     "output_type": "display_data"
    },
    {
     "data": {
      "text/html": [
       "<pre style=\"white-space:pre;overflow-x:auto;line-height:normal;font-family:Menlo,'DejaVu Sans Mono',consolas,'Courier New',monospace\">15:44:48.783 | <span style=\"color: #008080; text-decoration-color: #008080\">INFO</span>    | Task run 'Train model-0' - Epoch [87/100], Step [100/196], Loss: 53.8327\n",
       "</pre>\n"
      ],
      "text/plain": [
       "15:44:48.783 | \u001b[36mINFO\u001b[0m    | Task run 'Train model-0' - Epoch [87/100], Step [100/196], Loss: 53.8327\n"
      ]
     },
     "metadata": {},
     "output_type": "display_data"
    },
    {
     "data": {
      "text/html": [
       "<pre style=\"white-space:pre;overflow-x:auto;line-height:normal;font-family:Menlo,'DejaVu Sans Mono',consolas,'Courier New',monospace\">15:44:49.853 | <span style=\"color: #008080; text-decoration-color: #008080\">INFO</span>    | Task run 'Train model-0' - Epoch [88/100], Step [100/196], Loss: 123.9655\n",
       "</pre>\n"
      ],
      "text/plain": [
       "15:44:49.853 | \u001b[36mINFO\u001b[0m    | Task run 'Train model-0' - Epoch [88/100], Step [100/196], Loss: 123.9655\n"
      ]
     },
     "metadata": {},
     "output_type": "display_data"
    },
    {
     "data": {
      "text/html": [
       "<pre style=\"white-space:pre;overflow-x:auto;line-height:normal;font-family:Menlo,'DejaVu Sans Mono',consolas,'Courier New',monospace\">15:44:50.824 | <span style=\"color: #008080; text-decoration-color: #008080\">INFO</span>    | Task run 'Train model-0' - Epoch [89/100], Step [100/196], Loss: 39.5273\n",
       "</pre>\n"
      ],
      "text/plain": [
       "15:44:50.824 | \u001b[36mINFO\u001b[0m    | Task run 'Train model-0' - Epoch [89/100], Step [100/196], Loss: 39.5273\n"
      ]
     },
     "metadata": {},
     "output_type": "display_data"
    },
    {
     "data": {
      "text/html": [
       "<pre style=\"white-space:pre;overflow-x:auto;line-height:normal;font-family:Menlo,'DejaVu Sans Mono',consolas,'Courier New',monospace\">15:44:51.896 | <span style=\"color: #008080; text-decoration-color: #008080\">INFO</span>    | Task run 'Train model-0' - Epoch [90/100], Step [100/196], Loss: 38.3117\n",
       "</pre>\n"
      ],
      "text/plain": [
       "15:44:51.896 | \u001b[36mINFO\u001b[0m    | Task run 'Train model-0' - Epoch [90/100], Step [100/196], Loss: 38.3117\n"
      ]
     },
     "metadata": {},
     "output_type": "display_data"
    },
    {
     "data": {
      "text/html": [
       "<pre style=\"white-space:pre;overflow-x:auto;line-height:normal;font-family:Menlo,'DejaVu Sans Mono',consolas,'Courier New',monospace\">15:44:52.900 | <span style=\"color: #008080; text-decoration-color: #008080\">INFO</span>    | Task run 'Train model-0' - Epoch [91/100], Step [100/196], Loss: 40.0735\n",
       "</pre>\n"
      ],
      "text/plain": [
       "15:44:52.900 | \u001b[36mINFO\u001b[0m    | Task run 'Train model-0' - Epoch [91/100], Step [100/196], Loss: 40.0735\n"
      ]
     },
     "metadata": {},
     "output_type": "display_data"
    },
    {
     "data": {
      "text/html": [
       "<pre style=\"white-space:pre;overflow-x:auto;line-height:normal;font-family:Menlo,'DejaVu Sans Mono',consolas,'Courier New',monospace\">15:44:53.952 | <span style=\"color: #008080; text-decoration-color: #008080\">INFO</span>    | Task run 'Train model-0' - Epoch [92/100], Step [100/196], Loss: 83.7997\n",
       "</pre>\n"
      ],
      "text/plain": [
       "15:44:53.952 | \u001b[36mINFO\u001b[0m    | Task run 'Train model-0' - Epoch [92/100], Step [100/196], Loss: 83.7997\n"
      ]
     },
     "metadata": {},
     "output_type": "display_data"
    },
    {
     "data": {
      "text/html": [
       "<pre style=\"white-space:pre;overflow-x:auto;line-height:normal;font-family:Menlo,'DejaVu Sans Mono',consolas,'Courier New',monospace\">15:44:54.918 | <span style=\"color: #008080; text-decoration-color: #008080\">INFO</span>    | Task run 'Train model-0' - Epoch [93/100], Step [100/196], Loss: 37.2238\n",
       "</pre>\n"
      ],
      "text/plain": [
       "15:44:54.918 | \u001b[36mINFO\u001b[0m    | Task run 'Train model-0' - Epoch [93/100], Step [100/196], Loss: 37.2238\n"
      ]
     },
     "metadata": {},
     "output_type": "display_data"
    },
    {
     "data": {
      "text/html": [
       "<pre style=\"white-space:pre;overflow-x:auto;line-height:normal;font-family:Menlo,'DejaVu Sans Mono',consolas,'Courier New',monospace\">15:44:55.985 | <span style=\"color: #008080; text-decoration-color: #008080\">INFO</span>    | Task run 'Train model-0' - Epoch [94/100], Step [100/196], Loss: 44.3190\n",
       "</pre>\n"
      ],
      "text/plain": [
       "15:44:55.985 | \u001b[36mINFO\u001b[0m    | Task run 'Train model-0' - Epoch [94/100], Step [100/196], Loss: 44.3190\n"
      ]
     },
     "metadata": {},
     "output_type": "display_data"
    },
    {
     "data": {
      "text/html": [
       "<pre style=\"white-space:pre;overflow-x:auto;line-height:normal;font-family:Menlo,'DejaVu Sans Mono',consolas,'Courier New',monospace\">15:44:56.957 | <span style=\"color: #008080; text-decoration-color: #008080\">INFO</span>    | Task run 'Train model-0' - Epoch [95/100], Step [100/196], Loss: 65.1193\n",
       "</pre>\n"
      ],
      "text/plain": [
       "15:44:56.957 | \u001b[36mINFO\u001b[0m    | Task run 'Train model-0' - Epoch [95/100], Step [100/196], Loss: 65.1193\n"
      ]
     },
     "metadata": {},
     "output_type": "display_data"
    },
    {
     "data": {
      "text/html": [
       "<pre style=\"white-space:pre;overflow-x:auto;line-height:normal;font-family:Menlo,'DejaVu Sans Mono',consolas,'Courier New',monospace\">15:44:58.011 | <span style=\"color: #008080; text-decoration-color: #008080\">INFO</span>    | Task run 'Train model-0' - Epoch [96/100], Step [100/196], Loss: 57.5543\n",
       "</pre>\n"
      ],
      "text/plain": [
       "15:44:58.011 | \u001b[36mINFO\u001b[0m    | Task run 'Train model-0' - Epoch [96/100], Step [100/196], Loss: 57.5543\n"
      ]
     },
     "metadata": {},
     "output_type": "display_data"
    },
    {
     "data": {
      "text/html": [
       "<pre style=\"white-space:pre;overflow-x:auto;line-height:normal;font-family:Menlo,'DejaVu Sans Mono',consolas,'Courier New',monospace\">15:44:58.973 | <span style=\"color: #008080; text-decoration-color: #008080\">INFO</span>    | Task run 'Train model-0' - Epoch [97/100], Step [100/196], Loss: 61.6366\n",
       "</pre>\n"
      ],
      "text/plain": [
       "15:44:58.973 | \u001b[36mINFO\u001b[0m    | Task run 'Train model-0' - Epoch [97/100], Step [100/196], Loss: 61.6366\n"
      ]
     },
     "metadata": {},
     "output_type": "display_data"
    },
    {
     "data": {
      "text/html": [
       "<pre style=\"white-space:pre;overflow-x:auto;line-height:normal;font-family:Menlo,'DejaVu Sans Mono',consolas,'Courier New',monospace\">15:45:00.053 | <span style=\"color: #008080; text-decoration-color: #008080\">INFO</span>    | Task run 'Train model-0' - Epoch [98/100], Step [100/196], Loss: 75.1258\n",
       "</pre>\n"
      ],
      "text/plain": [
       "15:45:00.053 | \u001b[36mINFO\u001b[0m    | Task run 'Train model-0' - Epoch [98/100], Step [100/196], Loss: 75.1258\n"
      ]
     },
     "metadata": {},
     "output_type": "display_data"
    },
    {
     "data": {
      "text/html": [
       "<pre style=\"white-space:pre;overflow-x:auto;line-height:normal;font-family:Menlo,'DejaVu Sans Mono',consolas,'Courier New',monospace\">15:45:01.013 | <span style=\"color: #008080; text-decoration-color: #008080\">INFO</span>    | Task run 'Train model-0' - Epoch [99/100], Step [100/196], Loss: 88.2122\n",
       "</pre>\n"
      ],
      "text/plain": [
       "15:45:01.013 | \u001b[36mINFO\u001b[0m    | Task run 'Train model-0' - Epoch [99/100], Step [100/196], Loss: 88.2122\n"
      ]
     },
     "metadata": {},
     "output_type": "display_data"
    },
    {
     "data": {
      "text/html": [
       "<pre style=\"white-space:pre;overflow-x:auto;line-height:normal;font-family:Menlo,'DejaVu Sans Mono',consolas,'Courier New',monospace\">15:45:02.064 | <span style=\"color: #008080; text-decoration-color: #008080\">INFO</span>    | Task run 'Train model-0' - Epoch [100/100], Step [100/196], Loss: 53.9179\n",
       "</pre>\n"
      ],
      "text/plain": [
       "15:45:02.064 | \u001b[36mINFO\u001b[0m    | Task run 'Train model-0' - Epoch [100/100], Step [100/196], Loss: 53.9179\n"
      ]
     },
     "metadata": {},
     "output_type": "display_data"
    },
    {
     "data": {
      "text/html": [
       "<pre style=\"white-space:pre;overflow-x:auto;line-height:normal;font-family:Menlo,'DejaVu Sans Mono',consolas,'Courier New',monospace\">15:45:02.521 | <span style=\"color: #008080; text-decoration-color: #008080\">INFO</span>    | Task run 'Train model-0' - ✅ Model trained successfully\n",
       "</pre>\n"
      ],
      "text/plain": [
       "15:45:02.521 | \u001b[36mINFO\u001b[0m    | Task run 'Train model-0' - ✅ Model trained successfully\n"
      ]
     },
     "metadata": {},
     "output_type": "display_data"
    },
    {
     "data": {
      "text/html": [
       "<pre style=\"white-space:pre;overflow-x:auto;line-height:normal;font-family:Menlo,'DejaVu Sans Mono',consolas,'Courier New',monospace\">15:45:02.685 | <span style=\"color: #008080; text-decoration-color: #008080\">INFO</span>    | Task run 'Train model-0' - Finished in state <span style=\"color: #008000; text-decoration-color: #008000\">Completed</span>()\n",
       "</pre>\n"
      ],
      "text/plain": [
       "15:45:02.685 | \u001b[36mINFO\u001b[0m    | Task run 'Train model-0' - Finished in state \u001b[32mCompleted\u001b[0m()\n"
      ]
     },
     "metadata": {},
     "output_type": "display_data"
    },
    {
     "data": {
      "text/html": [
       "<pre style=\"white-space:pre;overflow-x:auto;line-height:normal;font-family:Menlo,'DejaVu Sans Mono',consolas,'Courier New',monospace\">15:45:02.761 | <span style=\"color: #008080; text-decoration-color: #008080\">INFO</span>    | Flow run<span style=\"color: #800080; text-decoration-color: #800080\"> 'black-oriole'</span> - Created task run 'Test model-0' for task 'Test model'\n",
       "</pre>\n"
      ],
      "text/plain": [
       "15:45:02.761 | \u001b[36mINFO\u001b[0m    | Flow run\u001b[35m 'black-oriole'\u001b[0m - Created task run 'Test model-0' for task 'Test model'\n"
      ]
     },
     "metadata": {},
     "output_type": "display_data"
    },
    {
     "data": {
      "text/html": [
       "<pre style=\"white-space:pre;overflow-x:auto;line-height:normal;font-family:Menlo,'DejaVu Sans Mono',consolas,'Courier New',monospace\">15:45:02.763 | <span style=\"color: #008080; text-decoration-color: #008080\">INFO</span>    | Flow run<span style=\"color: #800080; text-decoration-color: #800080\"> 'black-oriole'</span> - Executing 'Test model-0' immediately...\n",
       "</pre>\n"
      ],
      "text/plain": [
       "15:45:02.763 | \u001b[36mINFO\u001b[0m    | Flow run\u001b[35m 'black-oriole'\u001b[0m - Executing 'Test model-0' immediately...\n"
      ]
     },
     "metadata": {},
     "output_type": "display_data"
    },
    {
     "data": {
      "text/html": [
       "<pre style=\"white-space:pre;overflow-x:auto;line-height:normal;font-family:Menlo,'DejaVu Sans Mono',consolas,'Courier New',monospace\">15:45:03.040 | <span style=\"color: #008080; text-decoration-color: #008080\">INFO</span>    | Task run 'Test model-0' - Mean absolute error: 6.463292\n",
       "</pre>\n"
      ],
      "text/plain": [
       "15:45:03.040 | \u001b[36mINFO\u001b[0m    | Task run 'Test model-0' - Mean absolute error: 6.463292\n"
      ]
     },
     "metadata": {},
     "output_type": "display_data"
    },
    {
     "data": {
      "text/html": [
       "<pre style=\"white-space:pre;overflow-x:auto;line-height:normal;font-family:Menlo,'DejaVu Sans Mono',consolas,'Courier New',monospace\">15:45:03.044 | <span style=\"color: #008080; text-decoration-color: #008080\">INFO</span>    | Task run 'Test model-0' - MAPE: 16.46459996700287\n",
       "</pre>\n"
      ],
      "text/plain": [
       "15:45:03.044 | \u001b[36mINFO\u001b[0m    | Task run 'Test model-0' - MAPE: 16.46459996700287\n"
      ]
     },
     "metadata": {},
     "output_type": "display_data"
    },
    {
     "data": {
      "text/html": [
       "<pre style=\"white-space:pre;overflow-x:auto;line-height:normal;font-family:Menlo,'DejaVu Sans Mono',consolas,'Courier New',monospace\">15:45:03.145 | <span style=\"color: #008080; text-decoration-color: #008080\">INFO</span>    | Task run 'Test model-0' - Finished in state <span style=\"color: #008000; text-decoration-color: #008000\">Completed</span>()\n",
       "</pre>\n"
      ],
      "text/plain": [
       "15:45:03.145 | \u001b[36mINFO\u001b[0m    | Task run 'Test model-0' - Finished in state \u001b[32mCompleted\u001b[0m()\n"
      ]
     },
     "metadata": {},
     "output_type": "display_data"
    },
    {
     "data": {
      "text/html": [
       "<pre style=\"white-space:pre;overflow-x:auto;line-height:normal;font-family:Menlo,'DejaVu Sans Mono',consolas,'Courier New',monospace\">15:45:03.271 | <span style=\"color: #008080; text-decoration-color: #008080\">INFO</span>    | Flow run<span style=\"color: #800080; text-decoration-color: #800080\"> 'black-oriole'</span> - Finished in state <span style=\"color: #008000; text-decoration-color: #008000\">Completed</span>('All states completed.')\n",
       "</pre>\n"
      ],
      "text/plain": [
       "15:45:03.271 | \u001b[36mINFO\u001b[0m    | Flow run\u001b[35m 'black-oriole'\u001b[0m - Finished in state \u001b[32mCompleted\u001b[0m('All states completed.')\n"
      ]
     },
     "metadata": {},
     "output_type": "display_data"
    },
    {
     "data": {
      "text/plain": [
       "[Completed(message=None, type=COMPLETED, result=UnpersistedResult(type='unpersisted', artifact_type='result', artifact_description='Unpersisted result of type `tuple`')),\n",
       " Completed(message=None, type=COMPLETED, result=UnpersistedResult(type='unpersisted', artifact_type='result', artifact_description='Unpersisted result of type `tuple`')),\n",
       " Completed(message=None, type=COMPLETED, result=UnpersistedResult(type='unpersisted', artifact_type='result', artifact_description='Unpersisted result of type `RegressionNN`')),\n",
       " Completed(message=None, type=COMPLETED, result=UnpersistedResult(type='unpersisted', artifact_type='result', artifact_description='Unpersisted result of type `NoneType`'))]"
      ]
     },
     "execution_count": 10,
     "metadata": {},
     "output_type": "execute_result"
    }
   ],
   "source": [
    "execution()"
   ]
  }
 ],
 "metadata": {
  "kernelspec": {
   "display_name": "Python 3",
   "language": "python",
   "name": "python3"
  },
  "language_info": {
   "codemirror_mode": {
    "name": "ipython",
    "version": 3
   },
   "file_extension": ".py",
   "mimetype": "text/x-python",
   "name": "python",
   "nbconvert_exporter": "python",
   "pygments_lexer": "ipython3",
   "version": "3.11.5"
  },
  "orig_nbformat": 4
 },
 "nbformat": 4,
 "nbformat_minor": 2
}
