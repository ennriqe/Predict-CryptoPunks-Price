{
 "cells": [
  {
   "cell_type": "markdown",
   "metadata": {},
   "source": [
    "Import Libraries"
   ]
  },
  {
   "cell_type": "code",
   "execution_count": 40,
   "metadata": {},
   "outputs": [],
   "source": [
    "import torch\n",
    "import torch.nn as nn\n",
    "import torch.optim as optim\n",
    "import numpy as np\n",
    "import torch.onnx\n",
    "import time\n",
    "import pandas as pd\n",
    "from scipy.ndimage import zoom\n",
    "from giza_actions.action import action\n",
    "from giza_actions.task import task\n",
    "from torch.utils.data import DataLoader, TensorDataset\n",
    "from sklearn.model_selection import train_test_split\n",
    "device = torch.device('cuda' if torch.cuda.is_available() else 'cpu')"
   ]
  },
  {
   "attachments": {},
   "cell_type": "markdown",
   "metadata": {},
   "source": [
    "Define the model\n"
   ]
  },
  {
   "cell_type": "code",
   "execution_count": 41,
   "metadata": {},
   "outputs": [],
   "source": [
    "input_size = 99\n",
    "output_size = 1\n",
    "\n",
    "# Define hidden layers sizes and dropout rates\n",
    "hidden_size = [256, 128, 64]\n",
    "dropout_rates = [0.1, 0.1]\n",
    "learning_rate = 0.001\n",
    "num_epochs = 100\n",
    "batch_size = 64"
   ]
  },
  {
   "cell_type": "code",
   "execution_count": 42,
   "metadata": {},
   "outputs": [],
   "source": [
    "class RegressionNN(nn.Module):\n",
    "    def __init__(self, input_size, hidden_size=[256, 128, 64], output_size=1, dropout_rates=[0.1, 0.1]):\n",
    "        super(RegressionNN, self).__init__()\n",
    "        self.layers = nn.ModuleList()\n",
    "        self.batch_norms = nn.ModuleList()\n",
    "        self.dropouts = nn.ModuleList()\n",
    "\n",
    "        layer_sizes = [input_size] + hidden_size\n",
    "        for i in range(len(layer_sizes) - 1):\n",
    "            self.layers.append(nn.Linear(layer_sizes[i], layer_sizes[i+1]))\n",
    "            self.batch_norms.append(nn.BatchNorm1d(layer_sizes[i+1]))\n",
    "            self.dropouts.append(nn.Dropout(dropout_rates[min(i, len(dropout_rates)-1)]))\n",
    "        \n",
    "        self.output_layer = nn.Linear(hidden_size[-1], output_size)\n",
    "        \n",
    "    def forward(self, x):\n",
    "        for i in range(len(self.layers)):\n",
    "            x = self.layers[i](x)\n",
    "            x = self.batch_norms[i](x)\n",
    "            x = nn.ReLU()(x)\n",
    "            x = self.dropouts[i](x)\n",
    "            \n",
    "        x = self.output_layer(x)\n",
    "        return x\n"
   ]
  },
  {
   "cell_type": "code",
   "execution_count": 43,
   "metadata": {},
   "outputs": [
    {
     "name": "stderr",
     "output_type": "stream",
     "text": [
      "c:\\Users\\luca9\\.pyenv\\pyenv-win\\versions\\3.11.5\\Lib\\site-packages\\prefect\\tasks.py:339: UserWarning: A task named 'Prepare Datasets' and defined at 'c:\\Users\\luca9\\.pyenv\\pyenv-win\\versions\\3.11.5\\Lib\\site-packages\\giza_actions\\task.py:1' conflicts with another task. Consider specifying a unique `name` parameter in the task definition:\n",
      "\n",
      " `@task(name='my_unique_name', ...)`\n",
      "  warnings.warn(\n"
     ]
    }
   ],
   "source": [
    "@task(name=f'Prepare Datasets')\n",
    "def prepare_datasets(X, y):\n",
    "    print(\"Prepare dataset...\")\n",
    "    X_train, X_test, y_train, y_test = train_test_split(X, y, test_size=0.2, random_state=42)\n",
    "\n",
    "    X_train_tensor = torch.tensor(X_train.values.astype(np.float32))\n",
    "    y_train_tensor = torch.tensor(y_train.values.astype(np.float32)).view(-1, 1)\n",
    "    X_test_tensor = torch.tensor(X_test.values.astype(np.float32))\n",
    "    y_test_tensor = torch.tensor(y_test.values.astype(np.float32)).view(-1, 1)\n",
    "\n",
    "    print(\"✅ Datasets prepared successfully\")\n",
    "\n",
    "    return X_train_tensor, y_train_tensor, X_test_tensor, y_test_tensor"
   ]
  },
  {
   "cell_type": "code",
   "execution_count": 44,
   "metadata": {},
   "outputs": [
    {
     "name": "stderr",
     "output_type": "stream",
     "text": [
      "c:\\Users\\luca9\\.pyenv\\pyenv-win\\versions\\3.11.5\\Lib\\site-packages\\prefect\\tasks.py:339: UserWarning: A task named 'Create Loaders' and defined at 'c:\\Users\\luca9\\.pyenv\\pyenv-win\\versions\\3.11.5\\Lib\\site-packages\\giza_actions\\task.py:1' conflicts with another task. Consider specifying a unique `name` parameter in the task definition:\n",
      "\n",
      " `@task(name='my_unique_name', ...)`\n",
      "  warnings.warn(\n"
     ]
    }
   ],
   "source": [
    "@task(name=f'Create Loaders')\n",
    "def create_data_loaders(x_train, y_train, x_test, y_test):\n",
    "    print(\"Create loaders...\")\n",
    "\n",
    "    train_loader = DataLoader(TensorDataset(x_train, y_train), batch_size=batch_size, shuffle=True)\n",
    "    test_loader = DataLoader(TensorDataset(x_test, y_test), batch_size=batch_size, shuffle=False)\n",
    "\n",
    "    print(\"✅ Loaders created!\")\n",
    "\n",
    "    return train_loader, test_loader"
   ]
  },
  {
   "cell_type": "code",
   "execution_count": 45,
   "metadata": {},
   "outputs": [
    {
     "name": "stderr",
     "output_type": "stream",
     "text": [
      "c:\\Users\\luca9\\.pyenv\\pyenv-win\\versions\\3.11.5\\Lib\\site-packages\\prefect\\tasks.py:339: UserWarning: A task named 'Train model' and defined at 'c:\\Users\\luca9\\.pyenv\\pyenv-win\\versions\\3.11.5\\Lib\\site-packages\\giza_actions\\task.py:1' conflicts with another task. Consider specifying a unique `name` parameter in the task definition:\n",
      "\n",
      " `@task(name='my_unique_name', ...)`\n",
      "  warnings.warn(\n"
     ]
    }
   ],
   "source": [
    "@task(name=f'Train model')\n",
    "def train_model(train_loader):\n",
    "    print(\"Train model...\")\n",
    "\n",
    "    model = RegressionNN(input_size, hidden_size, output_size=1).to(device)\n",
    "    criterion = nn.MSELoss()\n",
    "    optimizer = optim.Adam(model.parameters(), lr=learning_rate)\n",
    "\n",
    "    for epoch in range(num_epochs):\n",
    "        model.train()\n",
    "        start_time = time.time()\n",
    "        train_loss = 0.0\n",
    "        for i, (inputs, targets) in enumerate(train_loader):\n",
    "            inputs, targets = inputs.to(device), targets.to(device)\n",
    "            optimizer.zero_grad()\n",
    "            outputs = model(inputs)\n",
    "            loss = criterion(outputs, targets)\n",
    "            loss.backward()\n",
    "            optimizer.step()\n",
    "            train_loss += loss.item()\n",
    "\n",
    "            if (i + 1) % 100 == 0:\n",
    "                print(f'Epoch [{epoch + 1}/{num_epochs}], Step [{i + 1}/{len(train_loader)}], Loss: {loss.item():.4f}')\n",
    "        \n",
    "    print(\"✅ Model trained successfully\")\n",
    "    return model"
   ]
  },
  {
   "cell_type": "code",
   "execution_count": 46,
   "metadata": {},
   "outputs": [
    {
     "name": "stderr",
     "output_type": "stream",
     "text": [
      "c:\\Users\\luca9\\.pyenv\\pyenv-win\\versions\\3.11.5\\Lib\\site-packages\\prefect\\tasks.py:339: UserWarning: A task named 'Test model' and defined at 'c:\\Users\\luca9\\.pyenv\\pyenv-win\\versions\\3.11.5\\Lib\\site-packages\\giza_actions\\task.py:1' conflicts with another task. Consider specifying a unique `name` parameter in the task definition:\n",
      "\n",
      " `@task(name='my_unique_name', ...)`\n",
      "  warnings.warn(\n"
     ]
    }
   ],
   "source": [
    "@task(name=f'Test model')\n",
    "def test_model(model, test_loader):\n",
    "    predictions = []\n",
    "    actuals = []\n",
    "    with torch.no_grad():\n",
    "        for inputs, targets in test_loader:\n",
    "            inputs, targets = inputs.to(device), targets.to(device)\n",
    "            outputs = model(inputs)\n",
    "            predictions.extend(outputs.view(-1).cpu().numpy())  # Flatten outputs and move to CPU\n",
    "            actuals.extend(targets.view(-1).cpu().numpy())  # Flatten targets and move to CPU\n",
    "\n",
    "    predictions = np.array(predictions)\n",
    "    actuals = np.array(actuals)\n",
    "\n",
    "    # Calculate MAE\n",
    "    mae = np.mean(np.abs(predictions - actuals))\n",
    "\n",
    "    # Calculate MAPE\n",
    "    mape = np.mean(np.abs((actuals - predictions) / actuals)) * 100\n",
    "    print('Mean absolute error:', mae)\n",
    "    print('MAPE:', mape)\n",
    "            "
   ]
  },
  {
   "cell_type": "markdown",
   "metadata": {},
   "source": [
    "Action the Task to train, test the model and convert it to onnx format"
   ]
  },
  {
   "cell_type": "code",
   "execution_count": 47,
   "metadata": {},
   "outputs": [
    {
     "name": "stderr",
     "output_type": "stream",
     "text": [
      "c:\\Users\\luca9\\.pyenv\\pyenv-win\\versions\\3.11.5\\Lib\\site-packages\\prefect\\tasks.py:339: UserWarning: A task named 'Convert To ONNX' and defined at 'c:\\Users\\luca9\\.pyenv\\pyenv-win\\versions\\3.11.5\\Lib\\site-packages\\giza_actions\\task.py:1' conflicts with another task. Consider specifying a unique `name` parameter in the task definition:\n",
      "\n",
      " `@task(name='my_unique_name', ...)`\n",
      "  warnings.warn(\n",
      "c:\\Users\\luca9\\.pyenv\\pyenv-win\\versions\\3.11.5\\Lib\\site-packages\\prefect\\flows.py:337: UserWarning: A flow named 'Execution' and defined at 'c:\\Users\\luca9\\.pyenv\\pyenv-win\\versions\\3.11.5\\Lib\\site-packages\\giza_actions\\action.py:26' conflicts with another flow. Consider specifying a unique `name` parameter in the flow definition:\n",
      "\n",
      " `@flow(name='my_unique_name', ...)`\n",
      "  warnings.warn(\n"
     ]
    },
    {
     "data": {
      "text/html": [
       "<pre style=\"white-space:pre;overflow-x:auto;line-height:normal;font-family:Menlo,'DejaVu Sans Mono',consolas,'Courier New',monospace\">23:17:26.703 | <span style=\"color: #008080; text-decoration-color: #008080\">INFO</span>    | Created flow run<span style=\"color: #800080; text-decoration-color: #800080\"> 'able-chital'</span> for flow<span style=\"color: #800080; text-decoration-color: #800080; font-weight: bold\"> 'Execution'</span>\n",
       "</pre>\n"
      ],
      "text/plain": [
       "23:17:26.703 | \u001b[36mINFO\u001b[0m    | Created flow run\u001b[35m 'able-chital'\u001b[0m for flow\u001b[1;35m 'Execution'\u001b[0m\n"
      ]
     },
     "metadata": {},
     "output_type": "display_data"
    },
    {
     "data": {
      "text/html": [
       "<pre style=\"white-space:pre;overflow-x:auto;line-height:normal;font-family:Menlo,'DejaVu Sans Mono',consolas,'Courier New',monospace\">23:17:26.708 | <span style=\"color: #008080; text-decoration-color: #008080\">INFO</span>    | Action run 'able-chital' - View at <span style=\"color: #0000ff; text-decoration-color: #0000ff\">https://actions-server-lucab-dblzzhtf5q-ew.a.run.app/flow-runs/flow-run/04245895-89cc-4698-9745-e3441c9c8a7c</span>\n",
       "</pre>\n"
      ],
      "text/plain": [
       "23:17:26.708 | \u001b[36mINFO\u001b[0m    | Action run 'able-chital' - View at \u001b[94mhttps://actions-server-lucab-dblzzhtf5q-ew.a.run.app/flow-runs/flow-run/04245895-89cc-4698-9745-e3441c9c8a7c\u001b[0m\n"
      ]
     },
     "metadata": {},
     "output_type": "display_data"
    },
    {
     "data": {
      "text/html": [
       "<pre style=\"white-space:pre;overflow-x:auto;line-height:normal;font-family:Menlo,'DejaVu Sans Mono',consolas,'Courier New',monospace\">23:17:26.944 | <span style=\"color: #008080; text-decoration-color: #008080\">INFO</span>    | Action run 'able-chital' - Created task run 'Prepare Datasets-0' for task 'Prepare Datasets'\n",
       "</pre>\n"
      ],
      "text/plain": [
       "23:17:26.944 | \u001b[36mINFO\u001b[0m    | Action run 'able-chital' - Created task run 'Prepare Datasets-0' for task 'Prepare Datasets'\n"
      ]
     },
     "metadata": {},
     "output_type": "display_data"
    },
    {
     "data": {
      "text/html": [
       "<pre style=\"white-space:pre;overflow-x:auto;line-height:normal;font-family:Menlo,'DejaVu Sans Mono',consolas,'Courier New',monospace\">23:17:26.947 | <span style=\"color: #008080; text-decoration-color: #008080\">INFO</span>    | Action run 'able-chital' - Executing 'Prepare Datasets-0' immediately...\n",
       "</pre>\n"
      ],
      "text/plain": [
       "23:17:26.947 | \u001b[36mINFO\u001b[0m    | Action run 'able-chital' - Executing 'Prepare Datasets-0' immediately...\n"
      ]
     },
     "metadata": {},
     "output_type": "display_data"
    },
    {
     "data": {
      "text/html": [
       "<pre style=\"white-space:pre;overflow-x:auto;line-height:normal;font-family:Menlo,'DejaVu Sans Mono',consolas,'Courier New',monospace\">23:17:27.391 | <span style=\"color: #008080; text-decoration-color: #008080\">INFO</span>    | Task run 'Prepare Datasets-0' - Prepare dataset...\n",
       "</pre>\n"
      ],
      "text/plain": [
       "23:17:27.391 | \u001b[36mINFO\u001b[0m    | Task run 'Prepare Datasets-0' - Prepare dataset...\n"
      ]
     },
     "metadata": {},
     "output_type": "display_data"
    },
    {
     "data": {
      "text/html": [
       "<pre style=\"white-space:pre;overflow-x:auto;line-height:normal;font-family:Menlo,'DejaVu Sans Mono',consolas,'Courier New',monospace\">23:17:27.415 | <span style=\"color: #008080; text-decoration-color: #008080\">INFO</span>    | Task run 'Prepare Datasets-0' - ✅ Datasets prepared successfully\n",
       "</pre>\n"
      ],
      "text/plain": [
       "23:17:27.415 | \u001b[36mINFO\u001b[0m    | Task run 'Prepare Datasets-0' - ✅ Datasets prepared successfully\n"
      ]
     },
     "metadata": {},
     "output_type": "display_data"
    },
    {
     "data": {
      "text/html": [
       "<pre style=\"white-space:pre;overflow-x:auto;line-height:normal;font-family:Menlo,'DejaVu Sans Mono',consolas,'Courier New',monospace\">23:17:27.538 | <span style=\"color: #008080; text-decoration-color: #008080\">INFO</span>    | Task run 'Prepare Datasets-0' - Finished in state <span style=\"color: #008000; text-decoration-color: #008000\">Completed</span>()\n",
       "</pre>\n"
      ],
      "text/plain": [
       "23:17:27.538 | \u001b[36mINFO\u001b[0m    | Task run 'Prepare Datasets-0' - Finished in state \u001b[32mCompleted\u001b[0m()\n"
      ]
     },
     "metadata": {},
     "output_type": "display_data"
    },
    {
     "data": {
      "text/html": [
       "<pre style=\"white-space:pre;overflow-x:auto;line-height:normal;font-family:Menlo,'DejaVu Sans Mono',consolas,'Courier New',monospace\">23:17:27.626 | <span style=\"color: #008080; text-decoration-color: #008080\">INFO</span>    | Action run 'able-chital' - Created task run 'Create Loaders-0' for task 'Create Loaders'\n",
       "</pre>\n"
      ],
      "text/plain": [
       "23:17:27.626 | \u001b[36mINFO\u001b[0m    | Action run 'able-chital' - Created task run 'Create Loaders-0' for task 'Create Loaders'\n"
      ]
     },
     "metadata": {},
     "output_type": "display_data"
    },
    {
     "data": {
      "text/html": [
       "<pre style=\"white-space:pre;overflow-x:auto;line-height:normal;font-family:Menlo,'DejaVu Sans Mono',consolas,'Courier New',monospace\">23:17:27.628 | <span style=\"color: #008080; text-decoration-color: #008080\">INFO</span>    | Action run 'able-chital' - Executing 'Create Loaders-0' immediately...\n",
       "</pre>\n"
      ],
      "text/plain": [
       "23:17:27.628 | \u001b[36mINFO\u001b[0m    | Action run 'able-chital' - Executing 'Create Loaders-0' immediately...\n"
      ]
     },
     "metadata": {},
     "output_type": "display_data"
    },
    {
     "data": {
      "text/html": [
       "<pre style=\"white-space:pre;overflow-x:auto;line-height:normal;font-family:Menlo,'DejaVu Sans Mono',consolas,'Courier New',monospace\">23:17:27.768 | <span style=\"color: #008080; text-decoration-color: #008080\">INFO</span>    | Task run 'Create Loaders-0' - Create loaders...\n",
       "</pre>\n"
      ],
      "text/plain": [
       "23:17:27.768 | \u001b[36mINFO\u001b[0m    | Task run 'Create Loaders-0' - Create loaders...\n"
      ]
     },
     "metadata": {},
     "output_type": "display_data"
    },
    {
     "data": {
      "text/html": [
       "<pre style=\"white-space:pre;overflow-x:auto;line-height:normal;font-family:Menlo,'DejaVu Sans Mono',consolas,'Courier New',monospace\">23:17:27.774 | <span style=\"color: #008080; text-decoration-color: #008080\">INFO</span>    | Task run 'Create Loaders-0' - ✅ Loaders created!\n",
       "</pre>\n"
      ],
      "text/plain": [
       "23:17:27.774 | \u001b[36mINFO\u001b[0m    | Task run 'Create Loaders-0' - ✅ Loaders created!\n"
      ]
     },
     "metadata": {},
     "output_type": "display_data"
    },
    {
     "data": {
      "text/html": [
       "<pre style=\"white-space:pre;overflow-x:auto;line-height:normal;font-family:Menlo,'DejaVu Sans Mono',consolas,'Courier New',monospace\">23:17:27.865 | <span style=\"color: #008080; text-decoration-color: #008080\">INFO</span>    | Task run 'Create Loaders-0' - Finished in state <span style=\"color: #008000; text-decoration-color: #008000\">Completed</span>()\n",
       "</pre>\n"
      ],
      "text/plain": [
       "23:17:27.865 | \u001b[36mINFO\u001b[0m    | Task run 'Create Loaders-0' - Finished in state \u001b[32mCompleted\u001b[0m()\n"
      ]
     },
     "metadata": {},
     "output_type": "display_data"
    },
    {
     "data": {
      "text/html": [
       "<pre style=\"white-space:pre;overflow-x:auto;line-height:normal;font-family:Menlo,'DejaVu Sans Mono',consolas,'Courier New',monospace\">23:17:27.941 | <span style=\"color: #008080; text-decoration-color: #008080\">INFO</span>    | Action run 'able-chital' - Created task run 'Train model-0' for task 'Train model'\n",
       "</pre>\n"
      ],
      "text/plain": [
       "23:17:27.941 | \u001b[36mINFO\u001b[0m    | Action run 'able-chital' - Created task run 'Train model-0' for task 'Train model'\n"
      ]
     },
     "metadata": {},
     "output_type": "display_data"
    },
    {
     "data": {
      "text/html": [
       "<pre style=\"white-space:pre;overflow-x:auto;line-height:normal;font-family:Menlo,'DejaVu Sans Mono',consolas,'Courier New',monospace\">23:17:27.943 | <span style=\"color: #008080; text-decoration-color: #008080\">INFO</span>    | Action run 'able-chital' - Executing 'Train model-0' immediately...\n",
       "</pre>\n"
      ],
      "text/plain": [
       "23:17:27.943 | \u001b[36mINFO\u001b[0m    | Action run 'able-chital' - Executing 'Train model-0' immediately...\n"
      ]
     },
     "metadata": {},
     "output_type": "display_data"
    },
    {
     "data": {
      "text/html": [
       "<pre style=\"white-space:pre;overflow-x:auto;line-height:normal;font-family:Menlo,'DejaVu Sans Mono',consolas,'Courier New',monospace\">23:17:28.089 | <span style=\"color: #008080; text-decoration-color: #008080\">INFO</span>    | Task run 'Train model-0' - Train model...\n",
       "</pre>\n"
      ],
      "text/plain": [
       "23:17:28.089 | \u001b[36mINFO\u001b[0m    | Task run 'Train model-0' - Train model...\n"
      ]
     },
     "metadata": {},
     "output_type": "display_data"
    },
    {
     "data": {
      "text/html": [
       "<pre style=\"white-space:pre;overflow-x:auto;line-height:normal;font-family:Menlo,'DejaVu Sans Mono',consolas,'Courier New',monospace\">23:17:29.466 | <span style=\"color: #008080; text-decoration-color: #008080\">INFO</span>    | Task run 'Train model-0' - Epoch [1/100], Step [100/196], Loss: 3284.5093\n",
       "</pre>\n"
      ],
      "text/plain": [
       "23:17:29.466 | \u001b[36mINFO\u001b[0m    | Task run 'Train model-0' - Epoch [1/100], Step [100/196], Loss: 3284.5093\n"
      ]
     },
     "metadata": {},
     "output_type": "display_data"
    },
    {
     "data": {
      "text/html": [
       "<pre style=\"white-space:pre;overflow-x:auto;line-height:normal;font-family:Menlo,'DejaVu Sans Mono',consolas,'Courier New',monospace\">23:17:30.879 | <span style=\"color: #008080; text-decoration-color: #008080\">INFO</span>    | Task run 'Train model-0' - Epoch [2/100], Step [100/196], Loss: 2097.5479\n",
       "</pre>\n"
      ],
      "text/plain": [
       "23:17:30.879 | \u001b[36mINFO\u001b[0m    | Task run 'Train model-0' - Epoch [2/100], Step [100/196], Loss: 2097.5479\n"
      ]
     },
     "metadata": {},
     "output_type": "display_data"
    },
    {
     "data": {
      "text/html": [
       "<pre style=\"white-space:pre;overflow-x:auto;line-height:normal;font-family:Menlo,'DejaVu Sans Mono',consolas,'Courier New',monospace\">23:17:32.151 | <span style=\"color: #008080; text-decoration-color: #008080\">INFO</span>    | Task run 'Train model-0' - Epoch [3/100], Step [100/196], Loss: 534.7683\n",
       "</pre>\n"
      ],
      "text/plain": [
       "23:17:32.151 | \u001b[36mINFO\u001b[0m    | Task run 'Train model-0' - Epoch [3/100], Step [100/196], Loss: 534.7683\n"
      ]
     },
     "metadata": {},
     "output_type": "display_data"
    },
    {
     "data": {
      "text/html": [
       "<pre style=\"white-space:pre;overflow-x:auto;line-height:normal;font-family:Menlo,'DejaVu Sans Mono',consolas,'Courier New',monospace\">23:17:33.549 | <span style=\"color: #008080; text-decoration-color: #008080\">INFO</span>    | Task run 'Train model-0' - Epoch [4/100], Step [100/196], Loss: 225.2494\n",
       "</pre>\n"
      ],
      "text/plain": [
       "23:17:33.549 | \u001b[36mINFO\u001b[0m    | Task run 'Train model-0' - Epoch [4/100], Step [100/196], Loss: 225.2494\n"
      ]
     },
     "metadata": {},
     "output_type": "display_data"
    },
    {
     "data": {
      "text/html": [
       "<pre style=\"white-space:pre;overflow-x:auto;line-height:normal;font-family:Menlo,'DejaVu Sans Mono',consolas,'Courier New',monospace\">23:17:34.846 | <span style=\"color: #008080; text-decoration-color: #008080\">INFO</span>    | Task run 'Train model-0' - Epoch [5/100], Step [100/196], Loss: 61.1079\n",
       "</pre>\n"
      ],
      "text/plain": [
       "23:17:34.846 | \u001b[36mINFO\u001b[0m    | Task run 'Train model-0' - Epoch [5/100], Step [100/196], Loss: 61.1079\n"
      ]
     },
     "metadata": {},
     "output_type": "display_data"
    },
    {
     "data": {
      "text/html": [
       "<pre style=\"white-space:pre;overflow-x:auto;line-height:normal;font-family:Menlo,'DejaVu Sans Mono',consolas,'Courier New',monospace\">23:17:36.236 | <span style=\"color: #008080; text-decoration-color: #008080\">INFO</span>    | Task run 'Train model-0' - Epoch [6/100], Step [100/196], Loss: 83.4838\n",
       "</pre>\n"
      ],
      "text/plain": [
       "23:17:36.236 | \u001b[36mINFO\u001b[0m    | Task run 'Train model-0' - Epoch [6/100], Step [100/196], Loss: 83.4838\n"
      ]
     },
     "metadata": {},
     "output_type": "display_data"
    },
    {
     "data": {
      "text/html": [
       "<pre style=\"white-space:pre;overflow-x:auto;line-height:normal;font-family:Menlo,'DejaVu Sans Mono',consolas,'Courier New',monospace\">23:17:37.699 | <span style=\"color: #008080; text-decoration-color: #008080\">INFO</span>    | Task run 'Train model-0' - Epoch [7/100], Step [100/196], Loss: 84.8364\n",
       "</pre>\n"
      ],
      "text/plain": [
       "23:17:37.699 | \u001b[36mINFO\u001b[0m    | Task run 'Train model-0' - Epoch [7/100], Step [100/196], Loss: 84.8364\n"
      ]
     },
     "metadata": {},
     "output_type": "display_data"
    },
    {
     "data": {
      "text/html": [
       "<pre style=\"white-space:pre;overflow-x:auto;line-height:normal;font-family:Menlo,'DejaVu Sans Mono',consolas,'Courier New',monospace\">23:17:39.059 | <span style=\"color: #008080; text-decoration-color: #008080\">INFO</span>    | Task run 'Train model-0' - Epoch [8/100], Step [100/196], Loss: 49.2253\n",
       "</pre>\n"
      ],
      "text/plain": [
       "23:17:39.059 | \u001b[36mINFO\u001b[0m    | Task run 'Train model-0' - Epoch [8/100], Step [100/196], Loss: 49.2253\n"
      ]
     },
     "metadata": {},
     "output_type": "display_data"
    },
    {
     "data": {
      "text/html": [
       "<pre style=\"white-space:pre;overflow-x:auto;line-height:normal;font-family:Menlo,'DejaVu Sans Mono',consolas,'Courier New',monospace\">23:17:40.623 | <span style=\"color: #008080; text-decoration-color: #008080\">INFO</span>    | Task run 'Train model-0' - Epoch [9/100], Step [100/196], Loss: 81.6588\n",
       "</pre>\n"
      ],
      "text/plain": [
       "23:17:40.623 | \u001b[36mINFO\u001b[0m    | Task run 'Train model-0' - Epoch [9/100], Step [100/196], Loss: 81.6588\n"
      ]
     },
     "metadata": {},
     "output_type": "display_data"
    },
    {
     "data": {
      "text/html": [
       "<pre style=\"white-space:pre;overflow-x:auto;line-height:normal;font-family:Menlo,'DejaVu Sans Mono',consolas,'Courier New',monospace\">23:17:41.919 | <span style=\"color: #008080; text-decoration-color: #008080\">INFO</span>    | Task run 'Train model-0' - Epoch [10/100], Step [100/196], Loss: 104.3597\n",
       "</pre>\n"
      ],
      "text/plain": [
       "23:17:41.919 | \u001b[36mINFO\u001b[0m    | Task run 'Train model-0' - Epoch [10/100], Step [100/196], Loss: 104.3597\n"
      ]
     },
     "metadata": {},
     "output_type": "display_data"
    },
    {
     "data": {
      "text/html": [
       "<pre style=\"white-space:pre;overflow-x:auto;line-height:normal;font-family:Menlo,'DejaVu Sans Mono',consolas,'Courier New',monospace\">23:17:43.436 | <span style=\"color: #008080; text-decoration-color: #008080\">INFO</span>    | Task run 'Train model-0' - Epoch [11/100], Step [100/196], Loss: 130.6947\n",
       "</pre>\n"
      ],
      "text/plain": [
       "23:17:43.436 | \u001b[36mINFO\u001b[0m    | Task run 'Train model-0' - Epoch [11/100], Step [100/196], Loss: 130.6947\n"
      ]
     },
     "metadata": {},
     "output_type": "display_data"
    },
    {
     "data": {
      "text/html": [
       "<pre style=\"white-space:pre;overflow-x:auto;line-height:normal;font-family:Menlo,'DejaVu Sans Mono',consolas,'Courier New',monospace\">23:17:44.746 | <span style=\"color: #008080; text-decoration-color: #008080\">INFO</span>    | Task run 'Train model-0' - Epoch [12/100], Step [100/196], Loss: 52.4848\n",
       "</pre>\n"
      ],
      "text/plain": [
       "23:17:44.746 | \u001b[36mINFO\u001b[0m    | Task run 'Train model-0' - Epoch [12/100], Step [100/196], Loss: 52.4848\n"
      ]
     },
     "metadata": {},
     "output_type": "display_data"
    },
    {
     "data": {
      "text/html": [
       "<pre style=\"white-space:pre;overflow-x:auto;line-height:normal;font-family:Menlo,'DejaVu Sans Mono',consolas,'Courier New',monospace\">23:17:46.151 | <span style=\"color: #008080; text-decoration-color: #008080\">INFO</span>    | Task run 'Train model-0' - Epoch [13/100], Step [100/196], Loss: 70.3910\n",
       "</pre>\n"
      ],
      "text/plain": [
       "23:17:46.151 | \u001b[36mINFO\u001b[0m    | Task run 'Train model-0' - Epoch [13/100], Step [100/196], Loss: 70.3910\n"
      ]
     },
     "metadata": {},
     "output_type": "display_data"
    },
    {
     "data": {
      "text/html": [
       "<pre style=\"white-space:pre;overflow-x:auto;line-height:normal;font-family:Menlo,'DejaVu Sans Mono',consolas,'Courier New',monospace\">23:17:47.530 | <span style=\"color: #008080; text-decoration-color: #008080\">INFO</span>    | Task run 'Train model-0' - Epoch [14/100], Step [100/196], Loss: 63.4534\n",
       "</pre>\n"
      ],
      "text/plain": [
       "23:17:47.530 | \u001b[36mINFO\u001b[0m    | Task run 'Train model-0' - Epoch [14/100], Step [100/196], Loss: 63.4534\n"
      ]
     },
     "metadata": {},
     "output_type": "display_data"
    },
    {
     "data": {
      "text/html": [
       "<pre style=\"white-space:pre;overflow-x:auto;line-height:normal;font-family:Menlo,'DejaVu Sans Mono',consolas,'Courier New',monospace\">23:17:48.922 | <span style=\"color: #008080; text-decoration-color: #008080\">INFO</span>    | Task run 'Train model-0' - Epoch [15/100], Step [100/196], Loss: 143.9478\n",
       "</pre>\n"
      ],
      "text/plain": [
       "23:17:48.922 | \u001b[36mINFO\u001b[0m    | Task run 'Train model-0' - Epoch [15/100], Step [100/196], Loss: 143.9478\n"
      ]
     },
     "metadata": {},
     "output_type": "display_data"
    },
    {
     "data": {
      "text/html": [
       "<pre style=\"white-space:pre;overflow-x:auto;line-height:normal;font-family:Menlo,'DejaVu Sans Mono',consolas,'Courier New',monospace\">23:17:50.332 | <span style=\"color: #008080; text-decoration-color: #008080\">INFO</span>    | Task run 'Train model-0' - Epoch [16/100], Step [100/196], Loss: 68.7350\n",
       "</pre>\n"
      ],
      "text/plain": [
       "23:17:50.332 | \u001b[36mINFO\u001b[0m    | Task run 'Train model-0' - Epoch [16/100], Step [100/196], Loss: 68.7350\n"
      ]
     },
     "metadata": {},
     "output_type": "display_data"
    },
    {
     "data": {
      "text/html": [
       "<pre style=\"white-space:pre;overflow-x:auto;line-height:normal;font-family:Menlo,'DejaVu Sans Mono',consolas,'Courier New',monospace\">23:17:51.752 | <span style=\"color: #008080; text-decoration-color: #008080\">INFO</span>    | Task run 'Train model-0' - Epoch [17/100], Step [100/196], Loss: 46.6213\n",
       "</pre>\n"
      ],
      "text/plain": [
       "23:17:51.752 | \u001b[36mINFO\u001b[0m    | Task run 'Train model-0' - Epoch [17/100], Step [100/196], Loss: 46.6213\n"
      ]
     },
     "metadata": {},
     "output_type": "display_data"
    },
    {
     "data": {
      "text/html": [
       "<pre style=\"white-space:pre;overflow-x:auto;line-height:normal;font-family:Menlo,'DejaVu Sans Mono',consolas,'Courier New',monospace\">23:17:53.338 | <span style=\"color: #008080; text-decoration-color: #008080\">INFO</span>    | Task run 'Train model-0' - Epoch [18/100], Step [100/196], Loss: 55.1382\n",
       "</pre>\n"
      ],
      "text/plain": [
       "23:17:53.338 | \u001b[36mINFO\u001b[0m    | Task run 'Train model-0' - Epoch [18/100], Step [100/196], Loss: 55.1382\n"
      ]
     },
     "metadata": {},
     "output_type": "display_data"
    },
    {
     "data": {
      "text/html": [
       "<pre style=\"white-space:pre;overflow-x:auto;line-height:normal;font-family:Menlo,'DejaVu Sans Mono',consolas,'Courier New',monospace\">23:17:54.834 | <span style=\"color: #008080; text-decoration-color: #008080\">INFO</span>    | Task run 'Train model-0' - Epoch [19/100], Step [100/196], Loss: 84.1332\n",
       "</pre>\n"
      ],
      "text/plain": [
       "23:17:54.834 | \u001b[36mINFO\u001b[0m    | Task run 'Train model-0' - Epoch [19/100], Step [100/196], Loss: 84.1332\n"
      ]
     },
     "metadata": {},
     "output_type": "display_data"
    },
    {
     "data": {
      "text/html": [
       "<pre style=\"white-space:pre;overflow-x:auto;line-height:normal;font-family:Menlo,'DejaVu Sans Mono',consolas,'Courier New',monospace\">23:17:56.286 | <span style=\"color: #008080; text-decoration-color: #008080\">INFO</span>    | Task run 'Train model-0' - Epoch [20/100], Step [100/196], Loss: 61.8310\n",
       "</pre>\n"
      ],
      "text/plain": [
       "23:17:56.286 | \u001b[36mINFO\u001b[0m    | Task run 'Train model-0' - Epoch [20/100], Step [100/196], Loss: 61.8310\n"
      ]
     },
     "metadata": {},
     "output_type": "display_data"
    },
    {
     "data": {
      "text/html": [
       "<pre style=\"white-space:pre;overflow-x:auto;line-height:normal;font-family:Menlo,'DejaVu Sans Mono',consolas,'Courier New',monospace\">23:17:57.876 | <span style=\"color: #008080; text-decoration-color: #008080\">INFO</span>    | Task run 'Train model-0' - Epoch [21/100], Step [100/196], Loss: 148.9437\n",
       "</pre>\n"
      ],
      "text/plain": [
       "23:17:57.876 | \u001b[36mINFO\u001b[0m    | Task run 'Train model-0' - Epoch [21/100], Step [100/196], Loss: 148.9437\n"
      ]
     },
     "metadata": {},
     "output_type": "display_data"
    },
    {
     "data": {
      "text/html": [
       "<pre style=\"white-space:pre;overflow-x:auto;line-height:normal;font-family:Menlo,'DejaVu Sans Mono',consolas,'Courier New',monospace\">23:17:59.255 | <span style=\"color: #008080; text-decoration-color: #008080\">INFO</span>    | Task run 'Train model-0' - Epoch [22/100], Step [100/196], Loss: 69.6712\n",
       "</pre>\n"
      ],
      "text/plain": [
       "23:17:59.255 | \u001b[36mINFO\u001b[0m    | Task run 'Train model-0' - Epoch [22/100], Step [100/196], Loss: 69.6712\n"
      ]
     },
     "metadata": {},
     "output_type": "display_data"
    },
    {
     "data": {
      "text/html": [
       "<pre style=\"white-space:pre;overflow-x:auto;line-height:normal;font-family:Menlo,'DejaVu Sans Mono',consolas,'Courier New',monospace\">23:18:00.737 | <span style=\"color: #008080; text-decoration-color: #008080\">INFO</span>    | Task run 'Train model-0' - Epoch [23/100], Step [100/196], Loss: 142.7843\n",
       "</pre>\n"
      ],
      "text/plain": [
       "23:18:00.737 | \u001b[36mINFO\u001b[0m    | Task run 'Train model-0' - Epoch [23/100], Step [100/196], Loss: 142.7843\n"
      ]
     },
     "metadata": {},
     "output_type": "display_data"
    },
    {
     "data": {
      "text/html": [
       "<pre style=\"white-space:pre;overflow-x:auto;line-height:normal;font-family:Menlo,'DejaVu Sans Mono',consolas,'Courier New',monospace\">23:18:02.065 | <span style=\"color: #008080; text-decoration-color: #008080\">INFO</span>    | Task run 'Train model-0' - Epoch [24/100], Step [100/196], Loss: 91.1501\n",
       "</pre>\n"
      ],
      "text/plain": [
       "23:18:02.065 | \u001b[36mINFO\u001b[0m    | Task run 'Train model-0' - Epoch [24/100], Step [100/196], Loss: 91.1501\n"
      ]
     },
     "metadata": {},
     "output_type": "display_data"
    },
    {
     "data": {
      "text/html": [
       "<pre style=\"white-space:pre;overflow-x:auto;line-height:normal;font-family:Menlo,'DejaVu Sans Mono',consolas,'Courier New',monospace\">23:18:03.560 | <span style=\"color: #008080; text-decoration-color: #008080\">INFO</span>    | Task run 'Train model-0' - Epoch [25/100], Step [100/196], Loss: 69.1239\n",
       "</pre>\n"
      ],
      "text/plain": [
       "23:18:03.560 | \u001b[36mINFO\u001b[0m    | Task run 'Train model-0' - Epoch [25/100], Step [100/196], Loss: 69.1239\n"
      ]
     },
     "metadata": {},
     "output_type": "display_data"
    },
    {
     "data": {
      "text/html": [
       "<pre style=\"white-space:pre;overflow-x:auto;line-height:normal;font-family:Menlo,'DejaVu Sans Mono',consolas,'Courier New',monospace\">23:18:05.171 | <span style=\"color: #008080; text-decoration-color: #008080\">INFO</span>    | Task run 'Train model-0' - Epoch [26/100], Step [100/196], Loss: 54.4913\n",
       "</pre>\n"
      ],
      "text/plain": [
       "23:18:05.171 | \u001b[36mINFO\u001b[0m    | Task run 'Train model-0' - Epoch [26/100], Step [100/196], Loss: 54.4913\n"
      ]
     },
     "metadata": {},
     "output_type": "display_data"
    },
    {
     "data": {
      "text/html": [
       "<pre style=\"white-space:pre;overflow-x:auto;line-height:normal;font-family:Menlo,'DejaVu Sans Mono',consolas,'Courier New',monospace\">23:18:06.752 | <span style=\"color: #008080; text-decoration-color: #008080\">INFO</span>    | Task run 'Train model-0' - Epoch [27/100], Step [100/196], Loss: 46.2780\n",
       "</pre>\n"
      ],
      "text/plain": [
       "23:18:06.752 | \u001b[36mINFO\u001b[0m    | Task run 'Train model-0' - Epoch [27/100], Step [100/196], Loss: 46.2780\n"
      ]
     },
     "metadata": {},
     "output_type": "display_data"
    },
    {
     "data": {
      "text/html": [
       "<pre style=\"white-space:pre;overflow-x:auto;line-height:normal;font-family:Menlo,'DejaVu Sans Mono',consolas,'Courier New',monospace\">23:18:08.370 | <span style=\"color: #008080; text-decoration-color: #008080\">INFO</span>    | Task run 'Train model-0' - Epoch [28/100], Step [100/196], Loss: 61.7295\n",
       "</pre>\n"
      ],
      "text/plain": [
       "23:18:08.370 | \u001b[36mINFO\u001b[0m    | Task run 'Train model-0' - Epoch [28/100], Step [100/196], Loss: 61.7295\n"
      ]
     },
     "metadata": {},
     "output_type": "display_data"
    },
    {
     "data": {
      "text/html": [
       "<pre style=\"white-space:pre;overflow-x:auto;line-height:normal;font-family:Menlo,'DejaVu Sans Mono',consolas,'Courier New',monospace\">23:18:09.968 | <span style=\"color: #008080; text-decoration-color: #008080\">INFO</span>    | Task run 'Train model-0' - Epoch [29/100], Step [100/196], Loss: 81.7046\n",
       "</pre>\n"
      ],
      "text/plain": [
       "23:18:09.968 | \u001b[36mINFO\u001b[0m    | Task run 'Train model-0' - Epoch [29/100], Step [100/196], Loss: 81.7046\n"
      ]
     },
     "metadata": {},
     "output_type": "display_data"
    },
    {
     "data": {
      "text/html": [
       "<pre style=\"white-space:pre;overflow-x:auto;line-height:normal;font-family:Menlo,'DejaVu Sans Mono',consolas,'Courier New',monospace\">23:18:11.468 | <span style=\"color: #008080; text-decoration-color: #008080\">INFO</span>    | Task run 'Train model-0' - Epoch [30/100], Step [100/196], Loss: 59.8678\n",
       "</pre>\n"
      ],
      "text/plain": [
       "23:18:11.468 | \u001b[36mINFO\u001b[0m    | Task run 'Train model-0' - Epoch [30/100], Step [100/196], Loss: 59.8678\n"
      ]
     },
     "metadata": {},
     "output_type": "display_data"
    },
    {
     "data": {
      "text/html": [
       "<pre style=\"white-space:pre;overflow-x:auto;line-height:normal;font-family:Menlo,'DejaVu Sans Mono',consolas,'Courier New',monospace\">23:18:12.950 | <span style=\"color: #008080; text-decoration-color: #008080\">INFO</span>    | Task run 'Train model-0' - Epoch [31/100], Step [100/196], Loss: 61.7989\n",
       "</pre>\n"
      ],
      "text/plain": [
       "23:18:12.950 | \u001b[36mINFO\u001b[0m    | Task run 'Train model-0' - Epoch [31/100], Step [100/196], Loss: 61.7989\n"
      ]
     },
     "metadata": {},
     "output_type": "display_data"
    },
    {
     "data": {
      "text/html": [
       "<pre style=\"white-space:pre;overflow-x:auto;line-height:normal;font-family:Menlo,'DejaVu Sans Mono',consolas,'Courier New',monospace\">23:18:14.410 | <span style=\"color: #008080; text-decoration-color: #008080\">INFO</span>    | Task run 'Train model-0' - Epoch [32/100], Step [100/196], Loss: 66.3890\n",
       "</pre>\n"
      ],
      "text/plain": [
       "23:18:14.410 | \u001b[36mINFO\u001b[0m    | Task run 'Train model-0' - Epoch [32/100], Step [100/196], Loss: 66.3890\n"
      ]
     },
     "metadata": {},
     "output_type": "display_data"
    },
    {
     "data": {
      "text/html": [
       "<pre style=\"white-space:pre;overflow-x:auto;line-height:normal;font-family:Menlo,'DejaVu Sans Mono',consolas,'Courier New',monospace\">23:18:15.718 | <span style=\"color: #008080; text-decoration-color: #008080\">INFO</span>    | Task run 'Train model-0' - Epoch [33/100], Step [100/196], Loss: 73.1758\n",
       "</pre>\n"
      ],
      "text/plain": [
       "23:18:15.718 | \u001b[36mINFO\u001b[0m    | Task run 'Train model-0' - Epoch [33/100], Step [100/196], Loss: 73.1758\n"
      ]
     },
     "metadata": {},
     "output_type": "display_data"
    },
    {
     "data": {
      "text/html": [
       "<pre style=\"white-space:pre;overflow-x:auto;line-height:normal;font-family:Menlo,'DejaVu Sans Mono',consolas,'Courier New',monospace\">23:18:17.385 | <span style=\"color: #008080; text-decoration-color: #008080\">INFO</span>    | Task run 'Train model-0' - Epoch [34/100], Step [100/196], Loss: 79.4997\n",
       "</pre>\n"
      ],
      "text/plain": [
       "23:18:17.385 | \u001b[36mINFO\u001b[0m    | Task run 'Train model-0' - Epoch [34/100], Step [100/196], Loss: 79.4997\n"
      ]
     },
     "metadata": {},
     "output_type": "display_data"
    },
    {
     "data": {
      "text/html": [
       "<pre style=\"white-space:pre;overflow-x:auto;line-height:normal;font-family:Menlo,'DejaVu Sans Mono',consolas,'Courier New',monospace\">23:18:20.483 | <span style=\"color: #008080; text-decoration-color: #008080\">INFO</span>    | Task run 'Train model-0' - Epoch [35/100], Step [100/196], Loss: 72.2670\n",
       "</pre>\n"
      ],
      "text/plain": [
       "23:18:20.483 | \u001b[36mINFO\u001b[0m    | Task run 'Train model-0' - Epoch [35/100], Step [100/196], Loss: 72.2670\n"
      ]
     },
     "metadata": {},
     "output_type": "display_data"
    },
    {
     "data": {
      "text/html": [
       "<pre style=\"white-space:pre;overflow-x:auto;line-height:normal;font-family:Menlo,'DejaVu Sans Mono',consolas,'Courier New',monospace\">23:18:22.473 | <span style=\"color: #008080; text-decoration-color: #008080\">INFO</span>    | Task run 'Train model-0' - Epoch [36/100], Step [100/196], Loss: 73.3884\n",
       "</pre>\n"
      ],
      "text/plain": [
       "23:18:22.473 | \u001b[36mINFO\u001b[0m    | Task run 'Train model-0' - Epoch [36/100], Step [100/196], Loss: 73.3884\n"
      ]
     },
     "metadata": {},
     "output_type": "display_data"
    },
    {
     "data": {
      "text/html": [
       "<pre style=\"white-space:pre;overflow-x:auto;line-height:normal;font-family:Menlo,'DejaVu Sans Mono',consolas,'Courier New',monospace\">23:18:24.668 | <span style=\"color: #008080; text-decoration-color: #008080\">INFO</span>    | Task run 'Train model-0' - Epoch [37/100], Step [100/196], Loss: 57.1524\n",
       "</pre>\n"
      ],
      "text/plain": [
       "23:18:24.668 | \u001b[36mINFO\u001b[0m    | Task run 'Train model-0' - Epoch [37/100], Step [100/196], Loss: 57.1524\n"
      ]
     },
     "metadata": {},
     "output_type": "display_data"
    },
    {
     "data": {
      "text/html": [
       "<pre style=\"white-space:pre;overflow-x:auto;line-height:normal;font-family:Menlo,'DejaVu Sans Mono',consolas,'Courier New',monospace\">23:18:26.724 | <span style=\"color: #008080; text-decoration-color: #008080\">INFO</span>    | Task run 'Train model-0' - Epoch [38/100], Step [100/196], Loss: 65.2073\n",
       "</pre>\n"
      ],
      "text/plain": [
       "23:18:26.724 | \u001b[36mINFO\u001b[0m    | Task run 'Train model-0' - Epoch [38/100], Step [100/196], Loss: 65.2073\n"
      ]
     },
     "metadata": {},
     "output_type": "display_data"
    },
    {
     "data": {
      "text/html": [
       "<pre style=\"white-space:pre;overflow-x:auto;line-height:normal;font-family:Menlo,'DejaVu Sans Mono',consolas,'Courier New',monospace\">23:18:28.661 | <span style=\"color: #008080; text-decoration-color: #008080\">INFO</span>    | Task run 'Train model-0' - Epoch [39/100], Step [100/196], Loss: 34.5336\n",
       "</pre>\n"
      ],
      "text/plain": [
       "23:18:28.661 | \u001b[36mINFO\u001b[0m    | Task run 'Train model-0' - Epoch [39/100], Step [100/196], Loss: 34.5336\n"
      ]
     },
     "metadata": {},
     "output_type": "display_data"
    },
    {
     "data": {
      "text/html": [
       "<pre style=\"white-space:pre;overflow-x:auto;line-height:normal;font-family:Menlo,'DejaVu Sans Mono',consolas,'Courier New',monospace\">23:18:31.637 | <span style=\"color: #008080; text-decoration-color: #008080\">INFO</span>    | Task run 'Train model-0' - Epoch [40/100], Step [100/196], Loss: 59.7345\n",
       "</pre>\n"
      ],
      "text/plain": [
       "23:18:31.637 | \u001b[36mINFO\u001b[0m    | Task run 'Train model-0' - Epoch [40/100], Step [100/196], Loss: 59.7345\n"
      ]
     },
     "metadata": {},
     "output_type": "display_data"
    },
    {
     "data": {
      "text/html": [
       "<pre style=\"white-space:pre;overflow-x:auto;line-height:normal;font-family:Menlo,'DejaVu Sans Mono',consolas,'Courier New',monospace\">23:18:34.314 | <span style=\"color: #008080; text-decoration-color: #008080\">INFO</span>    | Task run 'Train model-0' - Epoch [41/100], Step [100/196], Loss: 66.2200\n",
       "</pre>\n"
      ],
      "text/plain": [
       "23:18:34.314 | \u001b[36mINFO\u001b[0m    | Task run 'Train model-0' - Epoch [41/100], Step [100/196], Loss: 66.2200\n"
      ]
     },
     "metadata": {},
     "output_type": "display_data"
    },
    {
     "data": {
      "text/html": [
       "<pre style=\"white-space:pre;overflow-x:auto;line-height:normal;font-family:Menlo,'DejaVu Sans Mono',consolas,'Courier New',monospace\">23:18:37.370 | <span style=\"color: #008080; text-decoration-color: #008080\">INFO</span>    | Task run 'Train model-0' - Epoch [42/100], Step [100/196], Loss: 59.2209\n",
       "</pre>\n"
      ],
      "text/plain": [
       "23:18:37.370 | \u001b[36mINFO\u001b[0m    | Task run 'Train model-0' - Epoch [42/100], Step [100/196], Loss: 59.2209\n"
      ]
     },
     "metadata": {},
     "output_type": "display_data"
    },
    {
     "data": {
      "text/html": [
       "<pre style=\"white-space:pre;overflow-x:auto;line-height:normal;font-family:Menlo,'DejaVu Sans Mono',consolas,'Courier New',monospace\">23:18:40.205 | <span style=\"color: #008080; text-decoration-color: #008080\">INFO</span>    | Task run 'Train model-0' - Epoch [43/100], Step [100/196], Loss: 121.8534\n",
       "</pre>\n"
      ],
      "text/plain": [
       "23:18:40.205 | \u001b[36mINFO\u001b[0m    | Task run 'Train model-0' - Epoch [43/100], Step [100/196], Loss: 121.8534\n"
      ]
     },
     "metadata": {},
     "output_type": "display_data"
    },
    {
     "data": {
      "text/html": [
       "<pre style=\"white-space:pre;overflow-x:auto;line-height:normal;font-family:Menlo,'DejaVu Sans Mono',consolas,'Courier New',monospace\">23:18:42.028 | <span style=\"color: #008080; text-decoration-color: #008080\">INFO</span>    | Task run 'Train model-0' - Epoch [44/100], Step [100/196], Loss: 39.0603\n",
       "</pre>\n"
      ],
      "text/plain": [
       "23:18:42.028 | \u001b[36mINFO\u001b[0m    | Task run 'Train model-0' - Epoch [44/100], Step [100/196], Loss: 39.0603\n"
      ]
     },
     "metadata": {},
     "output_type": "display_data"
    },
    {
     "data": {
      "text/html": [
       "<pre style=\"white-space:pre;overflow-x:auto;line-height:normal;font-family:Menlo,'DejaVu Sans Mono',consolas,'Courier New',monospace\">23:18:43.502 | <span style=\"color: #008080; text-decoration-color: #008080\">INFO</span>    | Task run 'Train model-0' - Epoch [45/100], Step [100/196], Loss: 70.3273\n",
       "</pre>\n"
      ],
      "text/plain": [
       "23:18:43.502 | \u001b[36mINFO\u001b[0m    | Task run 'Train model-0' - Epoch [45/100], Step [100/196], Loss: 70.3273\n"
      ]
     },
     "metadata": {},
     "output_type": "display_data"
    },
    {
     "data": {
      "text/html": [
       "<pre style=\"white-space:pre;overflow-x:auto;line-height:normal;font-family:Menlo,'DejaVu Sans Mono',consolas,'Courier New',monospace\">23:18:45.131 | <span style=\"color: #008080; text-decoration-color: #008080\">INFO</span>    | Task run 'Train model-0' - Epoch [46/100], Step [100/196], Loss: 53.1271\n",
       "</pre>\n"
      ],
      "text/plain": [
       "23:18:45.131 | \u001b[36mINFO\u001b[0m    | Task run 'Train model-0' - Epoch [46/100], Step [100/196], Loss: 53.1271\n"
      ]
     },
     "metadata": {},
     "output_type": "display_data"
    },
    {
     "data": {
      "text/html": [
       "<pre style=\"white-space:pre;overflow-x:auto;line-height:normal;font-family:Menlo,'DejaVu Sans Mono',consolas,'Courier New',monospace\">23:18:46.691 | <span style=\"color: #008080; text-decoration-color: #008080\">INFO</span>    | Task run 'Train model-0' - Epoch [47/100], Step [100/196], Loss: 66.6555\n",
       "</pre>\n"
      ],
      "text/plain": [
       "23:18:46.691 | \u001b[36mINFO\u001b[0m    | Task run 'Train model-0' - Epoch [47/100], Step [100/196], Loss: 66.6555\n"
      ]
     },
     "metadata": {},
     "output_type": "display_data"
    },
    {
     "data": {
      "text/html": [
       "<pre style=\"white-space:pre;overflow-x:auto;line-height:normal;font-family:Menlo,'DejaVu Sans Mono',consolas,'Courier New',monospace\">23:18:48.345 | <span style=\"color: #008080; text-decoration-color: #008080\">INFO</span>    | Task run 'Train model-0' - Epoch [48/100], Step [100/196], Loss: 66.4168\n",
       "</pre>\n"
      ],
      "text/plain": [
       "23:18:48.345 | \u001b[36mINFO\u001b[0m    | Task run 'Train model-0' - Epoch [48/100], Step [100/196], Loss: 66.4168\n"
      ]
     },
     "metadata": {},
     "output_type": "display_data"
    },
    {
     "data": {
      "text/html": [
       "<pre style=\"white-space:pre;overflow-x:auto;line-height:normal;font-family:Menlo,'DejaVu Sans Mono',consolas,'Courier New',monospace\">23:18:49.972 | <span style=\"color: #008080; text-decoration-color: #008080\">INFO</span>    | Task run 'Train model-0' - Epoch [49/100], Step [100/196], Loss: 48.8881\n",
       "</pre>\n"
      ],
      "text/plain": [
       "23:18:49.972 | \u001b[36mINFO\u001b[0m    | Task run 'Train model-0' - Epoch [49/100], Step [100/196], Loss: 48.8881\n"
      ]
     },
     "metadata": {},
     "output_type": "display_data"
    },
    {
     "data": {
      "text/html": [
       "<pre style=\"white-space:pre;overflow-x:auto;line-height:normal;font-family:Menlo,'DejaVu Sans Mono',consolas,'Courier New',monospace\">23:18:51.564 | <span style=\"color: #008080; text-decoration-color: #008080\">INFO</span>    | Task run 'Train model-0' - Epoch [50/100], Step [100/196], Loss: 74.3160\n",
       "</pre>\n"
      ],
      "text/plain": [
       "23:18:51.564 | \u001b[36mINFO\u001b[0m    | Task run 'Train model-0' - Epoch [50/100], Step [100/196], Loss: 74.3160\n"
      ]
     },
     "metadata": {},
     "output_type": "display_data"
    },
    {
     "data": {
      "text/html": [
       "<pre style=\"white-space:pre;overflow-x:auto;line-height:normal;font-family:Menlo,'DejaVu Sans Mono',consolas,'Courier New',monospace\">23:18:53.153 | <span style=\"color: #008080; text-decoration-color: #008080\">INFO</span>    | Task run 'Train model-0' - Epoch [51/100], Step [100/196], Loss: 46.2904\n",
       "</pre>\n"
      ],
      "text/plain": [
       "23:18:53.153 | \u001b[36mINFO\u001b[0m    | Task run 'Train model-0' - Epoch [51/100], Step [100/196], Loss: 46.2904\n"
      ]
     },
     "metadata": {},
     "output_type": "display_data"
    },
    {
     "data": {
      "text/html": [
       "<pre style=\"white-space:pre;overflow-x:auto;line-height:normal;font-family:Menlo,'DejaVu Sans Mono',consolas,'Courier New',monospace\">23:18:54.741 | <span style=\"color: #008080; text-decoration-color: #008080\">INFO</span>    | Task run 'Train model-0' - Epoch [52/100], Step [100/196], Loss: 59.2644\n",
       "</pre>\n"
      ],
      "text/plain": [
       "23:18:54.741 | \u001b[36mINFO\u001b[0m    | Task run 'Train model-0' - Epoch [52/100], Step [100/196], Loss: 59.2644\n"
      ]
     },
     "metadata": {},
     "output_type": "display_data"
    },
    {
     "data": {
      "text/html": [
       "<pre style=\"white-space:pre;overflow-x:auto;line-height:normal;font-family:Menlo,'DejaVu Sans Mono',consolas,'Courier New',monospace\">23:18:56.283 | <span style=\"color: #008080; text-decoration-color: #008080\">INFO</span>    | Task run 'Train model-0' - Epoch [53/100], Step [100/196], Loss: 97.9209\n",
       "</pre>\n"
      ],
      "text/plain": [
       "23:18:56.283 | \u001b[36mINFO\u001b[0m    | Task run 'Train model-0' - Epoch [53/100], Step [100/196], Loss: 97.9209\n"
      ]
     },
     "metadata": {},
     "output_type": "display_data"
    },
    {
     "data": {
      "text/html": [
       "<pre style=\"white-space:pre;overflow-x:auto;line-height:normal;font-family:Menlo,'DejaVu Sans Mono',consolas,'Courier New',monospace\">23:18:57.548 | <span style=\"color: #008080; text-decoration-color: #008080\">INFO</span>    | Task run 'Train model-0' - Epoch [54/100], Step [100/196], Loss: 101.2451\n",
       "</pre>\n"
      ],
      "text/plain": [
       "23:18:57.548 | \u001b[36mINFO\u001b[0m    | Task run 'Train model-0' - Epoch [54/100], Step [100/196], Loss: 101.2451\n"
      ]
     },
     "metadata": {},
     "output_type": "display_data"
    },
    {
     "data": {
      "text/html": [
       "<pre style=\"white-space:pre;overflow-x:auto;line-height:normal;font-family:Menlo,'DejaVu Sans Mono',consolas,'Courier New',monospace\">23:18:59.015 | <span style=\"color: #008080; text-decoration-color: #008080\">INFO</span>    | Task run 'Train model-0' - Epoch [55/100], Step [100/196], Loss: 71.8014\n",
       "</pre>\n"
      ],
      "text/plain": [
       "23:18:59.015 | \u001b[36mINFO\u001b[0m    | Task run 'Train model-0' - Epoch [55/100], Step [100/196], Loss: 71.8014\n"
      ]
     },
     "metadata": {},
     "output_type": "display_data"
    },
    {
     "data": {
      "text/html": [
       "<pre style=\"white-space:pre;overflow-x:auto;line-height:normal;font-family:Menlo,'DejaVu Sans Mono',consolas,'Courier New',monospace\">23:19:00.394 | <span style=\"color: #008080; text-decoration-color: #008080\">INFO</span>    | Task run 'Train model-0' - Epoch [56/100], Step [100/196], Loss: 59.4473\n",
       "</pre>\n"
      ],
      "text/plain": [
       "23:19:00.394 | \u001b[36mINFO\u001b[0m    | Task run 'Train model-0' - Epoch [56/100], Step [100/196], Loss: 59.4473\n"
      ]
     },
     "metadata": {},
     "output_type": "display_data"
    },
    {
     "data": {
      "text/html": [
       "<pre style=\"white-space:pre;overflow-x:auto;line-height:normal;font-family:Menlo,'DejaVu Sans Mono',consolas,'Courier New',monospace\">23:19:01.812 | <span style=\"color: #008080; text-decoration-color: #008080\">INFO</span>    | Task run 'Train model-0' - Epoch [57/100], Step [100/196], Loss: 60.4472\n",
       "</pre>\n"
      ],
      "text/plain": [
       "23:19:01.812 | \u001b[36mINFO\u001b[0m    | Task run 'Train model-0' - Epoch [57/100], Step [100/196], Loss: 60.4472\n"
      ]
     },
     "metadata": {},
     "output_type": "display_data"
    },
    {
     "data": {
      "text/html": [
       "<pre style=\"white-space:pre;overflow-x:auto;line-height:normal;font-family:Menlo,'DejaVu Sans Mono',consolas,'Courier New',monospace\">23:19:03.328 | <span style=\"color: #008080; text-decoration-color: #008080\">INFO</span>    | Task run 'Train model-0' - Epoch [58/100], Step [100/196], Loss: 54.0717\n",
       "</pre>\n"
      ],
      "text/plain": [
       "23:19:03.328 | \u001b[36mINFO\u001b[0m    | Task run 'Train model-0' - Epoch [58/100], Step [100/196], Loss: 54.0717\n"
      ]
     },
     "metadata": {},
     "output_type": "display_data"
    },
    {
     "data": {
      "text/html": [
       "<pre style=\"white-space:pre;overflow-x:auto;line-height:normal;font-family:Menlo,'DejaVu Sans Mono',consolas,'Courier New',monospace\">23:19:05.181 | <span style=\"color: #008080; text-decoration-color: #008080\">INFO</span>    | Task run 'Train model-0' - Epoch [59/100], Step [100/196], Loss: 60.2558\n",
       "</pre>\n"
      ],
      "text/plain": [
       "23:19:05.181 | \u001b[36mINFO\u001b[0m    | Task run 'Train model-0' - Epoch [59/100], Step [100/196], Loss: 60.2558\n"
      ]
     },
     "metadata": {},
     "output_type": "display_data"
    },
    {
     "data": {
      "text/html": [
       "<pre style=\"white-space:pre;overflow-x:auto;line-height:normal;font-family:Menlo,'DejaVu Sans Mono',consolas,'Courier New',monospace\">23:19:06.949 | <span style=\"color: #008080; text-decoration-color: #008080\">INFO</span>    | Task run 'Train model-0' - Epoch [60/100], Step [100/196], Loss: 60.2364\n",
       "</pre>\n"
      ],
      "text/plain": [
       "23:19:06.949 | \u001b[36mINFO\u001b[0m    | Task run 'Train model-0' - Epoch [60/100], Step [100/196], Loss: 60.2364\n"
      ]
     },
     "metadata": {},
     "output_type": "display_data"
    },
    {
     "data": {
      "text/html": [
       "<pre style=\"white-space:pre;overflow-x:auto;line-height:normal;font-family:Menlo,'DejaVu Sans Mono',consolas,'Courier New',monospace\">23:19:08.776 | <span style=\"color: #008080; text-decoration-color: #008080\">INFO</span>    | Task run 'Train model-0' - Epoch [61/100], Step [100/196], Loss: 54.5224\n",
       "</pre>\n"
      ],
      "text/plain": [
       "23:19:08.776 | \u001b[36mINFO\u001b[0m    | Task run 'Train model-0' - Epoch [61/100], Step [100/196], Loss: 54.5224\n"
      ]
     },
     "metadata": {},
     "output_type": "display_data"
    },
    {
     "data": {
      "text/html": [
       "<pre style=\"white-space:pre;overflow-x:auto;line-height:normal;font-family:Menlo,'DejaVu Sans Mono',consolas,'Courier New',monospace\">23:19:10.438 | <span style=\"color: #008080; text-decoration-color: #008080\">INFO</span>    | Task run 'Train model-0' - Epoch [62/100], Step [100/196], Loss: 74.6409\n",
       "</pre>\n"
      ],
      "text/plain": [
       "23:19:10.438 | \u001b[36mINFO\u001b[0m    | Task run 'Train model-0' - Epoch [62/100], Step [100/196], Loss: 74.6409\n"
      ]
     },
     "metadata": {},
     "output_type": "display_data"
    },
    {
     "data": {
      "text/html": [
       "<pre style=\"white-space:pre;overflow-x:auto;line-height:normal;font-family:Menlo,'DejaVu Sans Mono',consolas,'Courier New',monospace\">23:19:11.940 | <span style=\"color: #008080; text-decoration-color: #008080\">INFO</span>    | Task run 'Train model-0' - Epoch [63/100], Step [100/196], Loss: 77.7543\n",
       "</pre>\n"
      ],
      "text/plain": [
       "23:19:11.940 | \u001b[36mINFO\u001b[0m    | Task run 'Train model-0' - Epoch [63/100], Step [100/196], Loss: 77.7543\n"
      ]
     },
     "metadata": {},
     "output_type": "display_data"
    },
    {
     "data": {
      "text/html": [
       "<pre style=\"white-space:pre;overflow-x:auto;line-height:normal;font-family:Menlo,'DejaVu Sans Mono',consolas,'Courier New',monospace\">23:19:13.544 | <span style=\"color: #008080; text-decoration-color: #008080\">INFO</span>    | Task run 'Train model-0' - Epoch [64/100], Step [100/196], Loss: 51.7070\n",
       "</pre>\n"
      ],
      "text/plain": [
       "23:19:13.544 | \u001b[36mINFO\u001b[0m    | Task run 'Train model-0' - Epoch [64/100], Step [100/196], Loss: 51.7070\n"
      ]
     },
     "metadata": {},
     "output_type": "display_data"
    },
    {
     "data": {
      "text/html": [
       "<pre style=\"white-space:pre;overflow-x:auto;line-height:normal;font-family:Menlo,'DejaVu Sans Mono',consolas,'Courier New',monospace\">23:19:16.300 | <span style=\"color: #008080; text-decoration-color: #008080\">INFO</span>    | Task run 'Train model-0' - Epoch [65/100], Step [100/196], Loss: 112.6465\n",
       "</pre>\n"
      ],
      "text/plain": [
       "23:19:16.300 | \u001b[36mINFO\u001b[0m    | Task run 'Train model-0' - Epoch [65/100], Step [100/196], Loss: 112.6465\n"
      ]
     },
     "metadata": {},
     "output_type": "display_data"
    },
    {
     "data": {
      "text/html": [
       "<pre style=\"white-space:pre;overflow-x:auto;line-height:normal;font-family:Menlo,'DejaVu Sans Mono',consolas,'Courier New',monospace\">23:19:18.818 | <span style=\"color: #008080; text-decoration-color: #008080\">INFO</span>    | Task run 'Train model-0' - Epoch [66/100], Step [100/196], Loss: 74.7718\n",
       "</pre>\n"
      ],
      "text/plain": [
       "23:19:18.818 | \u001b[36mINFO\u001b[0m    | Task run 'Train model-0' - Epoch [66/100], Step [100/196], Loss: 74.7718\n"
      ]
     },
     "metadata": {},
     "output_type": "display_data"
    },
    {
     "data": {
      "text/html": [
       "<pre style=\"white-space:pre;overflow-x:auto;line-height:normal;font-family:Menlo,'DejaVu Sans Mono',consolas,'Courier New',monospace\">23:19:20.725 | <span style=\"color: #008080; text-decoration-color: #008080\">INFO</span>    | Task run 'Train model-0' - Epoch [67/100], Step [100/196], Loss: 44.8392\n",
       "</pre>\n"
      ],
      "text/plain": [
       "23:19:20.725 | \u001b[36mINFO\u001b[0m    | Task run 'Train model-0' - Epoch [67/100], Step [100/196], Loss: 44.8392\n"
      ]
     },
     "metadata": {},
     "output_type": "display_data"
    },
    {
     "data": {
      "text/html": [
       "<pre style=\"white-space:pre;overflow-x:auto;line-height:normal;font-family:Menlo,'DejaVu Sans Mono',consolas,'Courier New',monospace\">23:19:22.352 | <span style=\"color: #008080; text-decoration-color: #008080\">INFO</span>    | Task run 'Train model-0' - Epoch [68/100], Step [100/196], Loss: 51.8447\n",
       "</pre>\n"
      ],
      "text/plain": [
       "23:19:22.352 | \u001b[36mINFO\u001b[0m    | Task run 'Train model-0' - Epoch [68/100], Step [100/196], Loss: 51.8447\n"
      ]
     },
     "metadata": {},
     "output_type": "display_data"
    },
    {
     "data": {
      "text/html": [
       "<pre style=\"white-space:pre;overflow-x:auto;line-height:normal;font-family:Menlo,'DejaVu Sans Mono',consolas,'Courier New',monospace\">23:19:24.326 | <span style=\"color: #008080; text-decoration-color: #008080\">INFO</span>    | Task run 'Train model-0' - Epoch [69/100], Step [100/196], Loss: 110.1951\n",
       "</pre>\n"
      ],
      "text/plain": [
       "23:19:24.326 | \u001b[36mINFO\u001b[0m    | Task run 'Train model-0' - Epoch [69/100], Step [100/196], Loss: 110.1951\n"
      ]
     },
     "metadata": {},
     "output_type": "display_data"
    },
    {
     "data": {
      "text/html": [
       "<pre style=\"white-space:pre;overflow-x:auto;line-height:normal;font-family:Menlo,'DejaVu Sans Mono',consolas,'Courier New',monospace\">23:19:25.967 | <span style=\"color: #008080; text-decoration-color: #008080\">INFO</span>    | Task run 'Train model-0' - Epoch [70/100], Step [100/196], Loss: 56.6746\n",
       "</pre>\n"
      ],
      "text/plain": [
       "23:19:25.967 | \u001b[36mINFO\u001b[0m    | Task run 'Train model-0' - Epoch [70/100], Step [100/196], Loss: 56.6746\n"
      ]
     },
     "metadata": {},
     "output_type": "display_data"
    },
    {
     "data": {
      "text/html": [
       "<pre style=\"white-space:pre;overflow-x:auto;line-height:normal;font-family:Menlo,'DejaVu Sans Mono',consolas,'Courier New',monospace\">23:19:27.404 | <span style=\"color: #008080; text-decoration-color: #008080\">INFO</span>    | Task run 'Train model-0' - Epoch [71/100], Step [100/196], Loss: 43.9750\n",
       "</pre>\n"
      ],
      "text/plain": [
       "23:19:27.404 | \u001b[36mINFO\u001b[0m    | Task run 'Train model-0' - Epoch [71/100], Step [100/196], Loss: 43.9750\n"
      ]
     },
     "metadata": {},
     "output_type": "display_data"
    },
    {
     "data": {
      "text/html": [
       "<pre style=\"white-space:pre;overflow-x:auto;line-height:normal;font-family:Menlo,'DejaVu Sans Mono',consolas,'Courier New',monospace\">23:19:29.038 | <span style=\"color: #008080; text-decoration-color: #008080\">INFO</span>    | Task run 'Train model-0' - Epoch [72/100], Step [100/196], Loss: 38.0197\n",
       "</pre>\n"
      ],
      "text/plain": [
       "23:19:29.038 | \u001b[36mINFO\u001b[0m    | Task run 'Train model-0' - Epoch [72/100], Step [100/196], Loss: 38.0197\n"
      ]
     },
     "metadata": {},
     "output_type": "display_data"
    },
    {
     "data": {
      "text/html": [
       "<pre style=\"white-space:pre;overflow-x:auto;line-height:normal;font-family:Menlo,'DejaVu Sans Mono',consolas,'Courier New',monospace\">23:19:30.643 | <span style=\"color: #008080; text-decoration-color: #008080\">INFO</span>    | Task run 'Train model-0' - Epoch [73/100], Step [100/196], Loss: 63.8418\n",
       "</pre>\n"
      ],
      "text/plain": [
       "23:19:30.643 | \u001b[36mINFO\u001b[0m    | Task run 'Train model-0' - Epoch [73/100], Step [100/196], Loss: 63.8418\n"
      ]
     },
     "metadata": {},
     "output_type": "display_data"
    },
    {
     "data": {
      "text/html": [
       "<pre style=\"white-space:pre;overflow-x:auto;line-height:normal;font-family:Menlo,'DejaVu Sans Mono',consolas,'Courier New',monospace\">23:19:32.372 | <span style=\"color: #008080; text-decoration-color: #008080\">INFO</span>    | Task run 'Train model-0' - Epoch [74/100], Step [100/196], Loss: 111.6430\n",
       "</pre>\n"
      ],
      "text/plain": [
       "23:19:32.372 | \u001b[36mINFO\u001b[0m    | Task run 'Train model-0' - Epoch [74/100], Step [100/196], Loss: 111.6430\n"
      ]
     },
     "metadata": {},
     "output_type": "display_data"
    },
    {
     "data": {
      "text/html": [
       "<pre style=\"white-space:pre;overflow-x:auto;line-height:normal;font-family:Menlo,'DejaVu Sans Mono',consolas,'Courier New',monospace\">23:19:34.049 | <span style=\"color: #008080; text-decoration-color: #008080\">INFO</span>    | Task run 'Train model-0' - Epoch [75/100], Step [100/196], Loss: 76.3257\n",
       "</pre>\n"
      ],
      "text/plain": [
       "23:19:34.049 | \u001b[36mINFO\u001b[0m    | Task run 'Train model-0' - Epoch [75/100], Step [100/196], Loss: 76.3257\n"
      ]
     },
     "metadata": {},
     "output_type": "display_data"
    },
    {
     "data": {
      "text/html": [
       "<pre style=\"white-space:pre;overflow-x:auto;line-height:normal;font-family:Menlo,'DejaVu Sans Mono',consolas,'Courier New',monospace\">23:19:35.745 | <span style=\"color: #008080; text-decoration-color: #008080\">INFO</span>    | Task run 'Train model-0' - Epoch [76/100], Step [100/196], Loss: 34.9595\n",
       "</pre>\n"
      ],
      "text/plain": [
       "23:19:35.745 | \u001b[36mINFO\u001b[0m    | Task run 'Train model-0' - Epoch [76/100], Step [100/196], Loss: 34.9595\n"
      ]
     },
     "metadata": {},
     "output_type": "display_data"
    },
    {
     "data": {
      "text/html": [
       "<pre style=\"white-space:pre;overflow-x:auto;line-height:normal;font-family:Menlo,'DejaVu Sans Mono',consolas,'Courier New',monospace\">23:19:37.426 | <span style=\"color: #008080; text-decoration-color: #008080\">INFO</span>    | Task run 'Train model-0' - Epoch [77/100], Step [100/196], Loss: 48.5738\n",
       "</pre>\n"
      ],
      "text/plain": [
       "23:19:37.426 | \u001b[36mINFO\u001b[0m    | Task run 'Train model-0' - Epoch [77/100], Step [100/196], Loss: 48.5738\n"
      ]
     },
     "metadata": {},
     "output_type": "display_data"
    },
    {
     "data": {
      "text/html": [
       "<pre style=\"white-space:pre;overflow-x:auto;line-height:normal;font-family:Menlo,'DejaVu Sans Mono',consolas,'Courier New',monospace\">23:19:39.075 | <span style=\"color: #008080; text-decoration-color: #008080\">INFO</span>    | Task run 'Train model-0' - Epoch [78/100], Step [100/196], Loss: 39.4540\n",
       "</pre>\n"
      ],
      "text/plain": [
       "23:19:39.075 | \u001b[36mINFO\u001b[0m    | Task run 'Train model-0' - Epoch [78/100], Step [100/196], Loss: 39.4540\n"
      ]
     },
     "metadata": {},
     "output_type": "display_data"
    },
    {
     "data": {
      "text/html": [
       "<pre style=\"white-space:pre;overflow-x:auto;line-height:normal;font-family:Menlo,'DejaVu Sans Mono',consolas,'Courier New',monospace\">23:19:40.676 | <span style=\"color: #008080; text-decoration-color: #008080\">INFO</span>    | Task run 'Train model-0' - Epoch [79/100], Step [100/196], Loss: 74.2778\n",
       "</pre>\n"
      ],
      "text/plain": [
       "23:19:40.676 | \u001b[36mINFO\u001b[0m    | Task run 'Train model-0' - Epoch [79/100], Step [100/196], Loss: 74.2778\n"
      ]
     },
     "metadata": {},
     "output_type": "display_data"
    },
    {
     "data": {
      "text/html": [
       "<pre style=\"white-space:pre;overflow-x:auto;line-height:normal;font-family:Menlo,'DejaVu Sans Mono',consolas,'Courier New',monospace\">23:19:42.275 | <span style=\"color: #008080; text-decoration-color: #008080\">INFO</span>    | Task run 'Train model-0' - Epoch [80/100], Step [100/196], Loss: 43.8308\n",
       "</pre>\n"
      ],
      "text/plain": [
       "23:19:42.275 | \u001b[36mINFO\u001b[0m    | Task run 'Train model-0' - Epoch [80/100], Step [100/196], Loss: 43.8308\n"
      ]
     },
     "metadata": {},
     "output_type": "display_data"
    },
    {
     "data": {
      "text/html": [
       "<pre style=\"white-space:pre;overflow-x:auto;line-height:normal;font-family:Menlo,'DejaVu Sans Mono',consolas,'Courier New',monospace\">23:19:43.856 | <span style=\"color: #008080; text-decoration-color: #008080\">INFO</span>    | Task run 'Train model-0' - Epoch [81/100], Step [100/196], Loss: 174.8860\n",
       "</pre>\n"
      ],
      "text/plain": [
       "23:19:43.856 | \u001b[36mINFO\u001b[0m    | Task run 'Train model-0' - Epoch [81/100], Step [100/196], Loss: 174.8860\n"
      ]
     },
     "metadata": {},
     "output_type": "display_data"
    },
    {
     "data": {
      "text/html": [
       "<pre style=\"white-space:pre;overflow-x:auto;line-height:normal;font-family:Menlo,'DejaVu Sans Mono',consolas,'Courier New',monospace\">23:19:45.365 | <span style=\"color: #008080; text-decoration-color: #008080\">INFO</span>    | Task run 'Train model-0' - Epoch [82/100], Step [100/196], Loss: 34.0928\n",
       "</pre>\n"
      ],
      "text/plain": [
       "23:19:45.365 | \u001b[36mINFO\u001b[0m    | Task run 'Train model-0' - Epoch [82/100], Step [100/196], Loss: 34.0928\n"
      ]
     },
     "metadata": {},
     "output_type": "display_data"
    },
    {
     "data": {
      "text/html": [
       "<pre style=\"white-space:pre;overflow-x:auto;line-height:normal;font-family:Menlo,'DejaVu Sans Mono',consolas,'Courier New',monospace\">23:19:46.889 | <span style=\"color: #008080; text-decoration-color: #008080\">INFO</span>    | Task run 'Train model-0' - Epoch [83/100], Step [100/196], Loss: 63.6133\n",
       "</pre>\n"
      ],
      "text/plain": [
       "23:19:46.889 | \u001b[36mINFO\u001b[0m    | Task run 'Train model-0' - Epoch [83/100], Step [100/196], Loss: 63.6133\n"
      ]
     },
     "metadata": {},
     "output_type": "display_data"
    },
    {
     "data": {
      "text/html": [
       "<pre style=\"white-space:pre;overflow-x:auto;line-height:normal;font-family:Menlo,'DejaVu Sans Mono',consolas,'Courier New',monospace\">23:19:48.365 | <span style=\"color: #008080; text-decoration-color: #008080\">INFO</span>    | Task run 'Train model-0' - Epoch [84/100], Step [100/196], Loss: 52.0019\n",
       "</pre>\n"
      ],
      "text/plain": [
       "23:19:48.365 | \u001b[36mINFO\u001b[0m    | Task run 'Train model-0' - Epoch [84/100], Step [100/196], Loss: 52.0019\n"
      ]
     },
     "metadata": {},
     "output_type": "display_data"
    },
    {
     "data": {
      "text/html": [
       "<pre style=\"white-space:pre;overflow-x:auto;line-height:normal;font-family:Menlo,'DejaVu Sans Mono',consolas,'Courier New',monospace\">23:19:49.769 | <span style=\"color: #008080; text-decoration-color: #008080\">INFO</span>    | Task run 'Train model-0' - Epoch [85/100], Step [100/196], Loss: 39.1264\n",
       "</pre>\n"
      ],
      "text/plain": [
       "23:19:49.769 | \u001b[36mINFO\u001b[0m    | Task run 'Train model-0' - Epoch [85/100], Step [100/196], Loss: 39.1264\n"
      ]
     },
     "metadata": {},
     "output_type": "display_data"
    },
    {
     "data": {
      "text/html": [
       "<pre style=\"white-space:pre;overflow-x:auto;line-height:normal;font-family:Menlo,'DejaVu Sans Mono',consolas,'Courier New',monospace\">23:19:51.149 | <span style=\"color: #008080; text-decoration-color: #008080\">INFO</span>    | Task run 'Train model-0' - Epoch [86/100], Step [100/196], Loss: 58.1852\n",
       "</pre>\n"
      ],
      "text/plain": [
       "23:19:51.149 | \u001b[36mINFO\u001b[0m    | Task run 'Train model-0' - Epoch [86/100], Step [100/196], Loss: 58.1852\n"
      ]
     },
     "metadata": {},
     "output_type": "display_data"
    },
    {
     "data": {
      "text/html": [
       "<pre style=\"white-space:pre;overflow-x:auto;line-height:normal;font-family:Menlo,'DejaVu Sans Mono',consolas,'Courier New',monospace\">23:19:52.630 | <span style=\"color: #008080; text-decoration-color: #008080\">INFO</span>    | Task run 'Train model-0' - Epoch [87/100], Step [100/196], Loss: 53.9999\n",
       "</pre>\n"
      ],
      "text/plain": [
       "23:19:52.630 | \u001b[36mINFO\u001b[0m    | Task run 'Train model-0' - Epoch [87/100], Step [100/196], Loss: 53.9999\n"
      ]
     },
     "metadata": {},
     "output_type": "display_data"
    },
    {
     "data": {
      "text/html": [
       "<pre style=\"white-space:pre;overflow-x:auto;line-height:normal;font-family:Menlo,'DejaVu Sans Mono',consolas,'Courier New',monospace\">23:19:54.119 | <span style=\"color: #008080; text-decoration-color: #008080\">INFO</span>    | Task run 'Train model-0' - Epoch [88/100], Step [100/196], Loss: 84.2373\n",
       "</pre>\n"
      ],
      "text/plain": [
       "23:19:54.119 | \u001b[36mINFO\u001b[0m    | Task run 'Train model-0' - Epoch [88/100], Step [100/196], Loss: 84.2373\n"
      ]
     },
     "metadata": {},
     "output_type": "display_data"
    },
    {
     "data": {
      "text/html": [
       "<pre style=\"white-space:pre;overflow-x:auto;line-height:normal;font-family:Menlo,'DejaVu Sans Mono',consolas,'Courier New',monospace\">23:19:55.621 | <span style=\"color: #008080; text-decoration-color: #008080\">INFO</span>    | Task run 'Train model-0' - Epoch [89/100], Step [100/196], Loss: 46.5524\n",
       "</pre>\n"
      ],
      "text/plain": [
       "23:19:55.621 | \u001b[36mINFO\u001b[0m    | Task run 'Train model-0' - Epoch [89/100], Step [100/196], Loss: 46.5524\n"
      ]
     },
     "metadata": {},
     "output_type": "display_data"
    },
    {
     "data": {
      "text/html": [
       "<pre style=\"white-space:pre;overflow-x:auto;line-height:normal;font-family:Menlo,'DejaVu Sans Mono',consolas,'Courier New',monospace\">23:19:57.132 | <span style=\"color: #008080; text-decoration-color: #008080\">INFO</span>    | Task run 'Train model-0' - Epoch [90/100], Step [100/196], Loss: 40.5883\n",
       "</pre>\n"
      ],
      "text/plain": [
       "23:19:57.132 | \u001b[36mINFO\u001b[0m    | Task run 'Train model-0' - Epoch [90/100], Step [100/196], Loss: 40.5883\n"
      ]
     },
     "metadata": {},
     "output_type": "display_data"
    },
    {
     "data": {
      "text/html": [
       "<pre style=\"white-space:pre;overflow-x:auto;line-height:normal;font-family:Menlo,'DejaVu Sans Mono',consolas,'Courier New',monospace\">23:19:58.632 | <span style=\"color: #008080; text-decoration-color: #008080\">INFO</span>    | Task run 'Train model-0' - Epoch [91/100], Step [100/196], Loss: 105.2504\n",
       "</pre>\n"
      ],
      "text/plain": [
       "23:19:58.632 | \u001b[36mINFO\u001b[0m    | Task run 'Train model-0' - Epoch [91/100], Step [100/196], Loss: 105.2504\n"
      ]
     },
     "metadata": {},
     "output_type": "display_data"
    },
    {
     "data": {
      "text/html": [
       "<pre style=\"white-space:pre;overflow-x:auto;line-height:normal;font-family:Menlo,'DejaVu Sans Mono',consolas,'Courier New',monospace\">23:20:00.232 | <span style=\"color: #008080; text-decoration-color: #008080\">INFO</span>    | Task run 'Train model-0' - Epoch [92/100], Step [100/196], Loss: 43.7679\n",
       "</pre>\n"
      ],
      "text/plain": [
       "23:20:00.232 | \u001b[36mINFO\u001b[0m    | Task run 'Train model-0' - Epoch [92/100], Step [100/196], Loss: 43.7679\n"
      ]
     },
     "metadata": {},
     "output_type": "display_data"
    },
    {
     "data": {
      "text/html": [
       "<pre style=\"white-space:pre;overflow-x:auto;line-height:normal;font-family:Menlo,'DejaVu Sans Mono',consolas,'Courier New',monospace\">23:20:01.773 | <span style=\"color: #008080; text-decoration-color: #008080\">INFO</span>    | Task run 'Train model-0' - Epoch [93/100], Step [100/196], Loss: 67.2288\n",
       "</pre>\n"
      ],
      "text/plain": [
       "23:20:01.773 | \u001b[36mINFO\u001b[0m    | Task run 'Train model-0' - Epoch [93/100], Step [100/196], Loss: 67.2288\n"
      ]
     },
     "metadata": {},
     "output_type": "display_data"
    },
    {
     "data": {
      "text/html": [
       "<pre style=\"white-space:pre;overflow-x:auto;line-height:normal;font-family:Menlo,'DejaVu Sans Mono',consolas,'Courier New',monospace\">23:20:03.535 | <span style=\"color: #008080; text-decoration-color: #008080\">INFO</span>    | Task run 'Train model-0' - Epoch [94/100], Step [100/196], Loss: 43.2662\n",
       "</pre>\n"
      ],
      "text/plain": [
       "23:20:03.535 | \u001b[36mINFO\u001b[0m    | Task run 'Train model-0' - Epoch [94/100], Step [100/196], Loss: 43.2662\n"
      ]
     },
     "metadata": {},
     "output_type": "display_data"
    },
    {
     "data": {
      "text/html": [
       "<pre style=\"white-space:pre;overflow-x:auto;line-height:normal;font-family:Menlo,'DejaVu Sans Mono',consolas,'Courier New',monospace\">23:20:05.114 | <span style=\"color: #008080; text-decoration-color: #008080\">INFO</span>    | Task run 'Train model-0' - Epoch [95/100], Step [100/196], Loss: 64.8603\n",
       "</pre>\n"
      ],
      "text/plain": [
       "23:20:05.114 | \u001b[36mINFO\u001b[0m    | Task run 'Train model-0' - Epoch [95/100], Step [100/196], Loss: 64.8603\n"
      ]
     },
     "metadata": {},
     "output_type": "display_data"
    },
    {
     "data": {
      "text/html": [
       "<pre style=\"white-space:pre;overflow-x:auto;line-height:normal;font-family:Menlo,'DejaVu Sans Mono',consolas,'Courier New',monospace\">23:20:06.662 | <span style=\"color: #008080; text-decoration-color: #008080\">INFO</span>    | Task run 'Train model-0' - Epoch [96/100], Step [100/196], Loss: 151.0437\n",
       "</pre>\n"
      ],
      "text/plain": [
       "23:20:06.662 | \u001b[36mINFO\u001b[0m    | Task run 'Train model-0' - Epoch [96/100], Step [100/196], Loss: 151.0437\n"
      ]
     },
     "metadata": {},
     "output_type": "display_data"
    },
    {
     "data": {
      "text/html": [
       "<pre style=\"white-space:pre;overflow-x:auto;line-height:normal;font-family:Menlo,'DejaVu Sans Mono',consolas,'Courier New',monospace\">23:20:08.175 | <span style=\"color: #008080; text-decoration-color: #008080\">INFO</span>    | Task run 'Train model-0' - Epoch [97/100], Step [100/196], Loss: 167.0635\n",
       "</pre>\n"
      ],
      "text/plain": [
       "23:20:08.175 | \u001b[36mINFO\u001b[0m    | Task run 'Train model-0' - Epoch [97/100], Step [100/196], Loss: 167.0635\n"
      ]
     },
     "metadata": {},
     "output_type": "display_data"
    },
    {
     "data": {
      "text/html": [
       "<pre style=\"white-space:pre;overflow-x:auto;line-height:normal;font-family:Menlo,'DejaVu Sans Mono',consolas,'Courier New',monospace\">23:20:09.905 | <span style=\"color: #008080; text-decoration-color: #008080\">INFO</span>    | Task run 'Train model-0' - Epoch [98/100], Step [100/196], Loss: 83.4965\n",
       "</pre>\n"
      ],
      "text/plain": [
       "23:20:09.905 | \u001b[36mINFO\u001b[0m    | Task run 'Train model-0' - Epoch [98/100], Step [100/196], Loss: 83.4965\n"
      ]
     },
     "metadata": {},
     "output_type": "display_data"
    },
    {
     "data": {
      "text/html": [
       "<pre style=\"white-space:pre;overflow-x:auto;line-height:normal;font-family:Menlo,'DejaVu Sans Mono',consolas,'Courier New',monospace\">23:20:11.565 | <span style=\"color: #008080; text-decoration-color: #008080\">INFO</span>    | Task run 'Train model-0' - Epoch [99/100], Step [100/196], Loss: 32.3843\n",
       "</pre>\n"
      ],
      "text/plain": [
       "23:20:11.565 | \u001b[36mINFO\u001b[0m    | Task run 'Train model-0' - Epoch [99/100], Step [100/196], Loss: 32.3843\n"
      ]
     },
     "metadata": {},
     "output_type": "display_data"
    },
    {
     "data": {
      "text/html": [
       "<pre style=\"white-space:pre;overflow-x:auto;line-height:normal;font-family:Menlo,'DejaVu Sans Mono',consolas,'Courier New',monospace\">23:20:13.191 | <span style=\"color: #008080; text-decoration-color: #008080\">INFO</span>    | Task run 'Train model-0' - Epoch [100/100], Step [100/196], Loss: 40.1189\n",
       "</pre>\n"
      ],
      "text/plain": [
       "23:20:13.191 | \u001b[36mINFO\u001b[0m    | Task run 'Train model-0' - Epoch [100/100], Step [100/196], Loss: 40.1189\n"
      ]
     },
     "metadata": {},
     "output_type": "display_data"
    },
    {
     "data": {
      "text/html": [
       "<pre style=\"white-space:pre;overflow-x:auto;line-height:normal;font-family:Menlo,'DejaVu Sans Mono',consolas,'Courier New',monospace\">23:20:14.038 | <span style=\"color: #008080; text-decoration-color: #008080\">INFO</span>    | Task run 'Train model-0' - ✅ Model trained successfully\n",
       "</pre>\n"
      ],
      "text/plain": [
       "23:20:14.038 | \u001b[36mINFO\u001b[0m    | Task run 'Train model-0' - ✅ Model trained successfully\n"
      ]
     },
     "metadata": {},
     "output_type": "display_data"
    },
    {
     "data": {
      "text/html": [
       "<pre style=\"white-space:pre;overflow-x:auto;line-height:normal;font-family:Menlo,'DejaVu Sans Mono',consolas,'Courier New',monospace\">23:20:14.270 | <span style=\"color: #008080; text-decoration-color: #008080\">INFO</span>    | Task run 'Train model-0' - Finished in state <span style=\"color: #008000; text-decoration-color: #008000\">Completed</span>()\n",
       "</pre>\n"
      ],
      "text/plain": [
       "23:20:14.270 | \u001b[36mINFO\u001b[0m    | Task run 'Train model-0' - Finished in state \u001b[32mCompleted\u001b[0m()\n"
      ]
     },
     "metadata": {},
     "output_type": "display_data"
    },
    {
     "data": {
      "text/html": [
       "<pre style=\"white-space:pre;overflow-x:auto;line-height:normal;font-family:Menlo,'DejaVu Sans Mono',consolas,'Courier New',monospace\">23:20:14.334 | <span style=\"color: #008080; text-decoration-color: #008080\">INFO</span>    | Action run 'able-chital' - Created task run 'Test model-0' for task 'Test model'\n",
       "</pre>\n"
      ],
      "text/plain": [
       "23:20:14.334 | \u001b[36mINFO\u001b[0m    | Action run 'able-chital' - Created task run 'Test model-0' for task 'Test model'\n"
      ]
     },
     "metadata": {},
     "output_type": "display_data"
    },
    {
     "data": {
      "text/html": [
       "<pre style=\"white-space:pre;overflow-x:auto;line-height:normal;font-family:Menlo,'DejaVu Sans Mono',consolas,'Courier New',monospace\">23:20:14.337 | <span style=\"color: #008080; text-decoration-color: #008080\">INFO</span>    | Action run 'able-chital' - Executing 'Test model-0' immediately...\n",
       "</pre>\n"
      ],
      "text/plain": [
       "23:20:14.337 | \u001b[36mINFO\u001b[0m    | Action run 'able-chital' - Executing 'Test model-0' immediately...\n"
      ]
     },
     "metadata": {},
     "output_type": "display_data"
    },
    {
     "data": {
      "text/html": [
       "<pre style=\"white-space:pre;overflow-x:auto;line-height:normal;font-family:Menlo,'DejaVu Sans Mono',consolas,'Courier New',monospace\">23:20:14.702 | <span style=\"color: #008080; text-decoration-color: #008080\">INFO</span>    | Task run 'Test model-0' - Mean absolute error: 6.496079\n",
       "</pre>\n"
      ],
      "text/plain": [
       "23:20:14.702 | \u001b[36mINFO\u001b[0m    | Task run 'Test model-0' - Mean absolute error: 6.496079\n"
      ]
     },
     "metadata": {},
     "output_type": "display_data"
    },
    {
     "data": {
      "text/html": [
       "<pre style=\"white-space:pre;overflow-x:auto;line-height:normal;font-family:Menlo,'DejaVu Sans Mono',consolas,'Courier New',monospace\">23:20:14.707 | <span style=\"color: #008080; text-decoration-color: #008080\">INFO</span>    | Task run 'Test model-0' - MAPE: 16.509369015693665\n",
       "</pre>\n"
      ],
      "text/plain": [
       "23:20:14.707 | \u001b[36mINFO\u001b[0m    | Task run 'Test model-0' - MAPE: 16.509369015693665\n"
      ]
     },
     "metadata": {},
     "output_type": "display_data"
    },
    {
     "data": {
      "text/html": [
       "<pre style=\"white-space:pre;overflow-x:auto;line-height:normal;font-family:Menlo,'DejaVu Sans Mono',consolas,'Courier New',monospace\">23:20:14.790 | <span style=\"color: #008080; text-decoration-color: #008080\">INFO</span>    | Task run 'Test model-0' - Finished in state <span style=\"color: #008000; text-decoration-color: #008000\">Completed</span>()\n",
       "</pre>\n"
      ],
      "text/plain": [
       "23:20:14.790 | \u001b[36mINFO\u001b[0m    | Task run 'Test model-0' - Finished in state \u001b[32mCompleted\u001b[0m()\n"
      ]
     },
     "metadata": {},
     "output_type": "display_data"
    },
    {
     "data": {
      "text/html": [
       "<pre style=\"white-space:pre;overflow-x:auto;line-height:normal;font-family:Menlo,'DejaVu Sans Mono',consolas,'Courier New',monospace\">23:20:14.860 | <span style=\"color: #008080; text-decoration-color: #008080\">INFO</span>    | Action run 'able-chital' - Created task run 'Convert To ONNX-0' for task 'Convert To ONNX'\n",
       "</pre>\n"
      ],
      "text/plain": [
       "23:20:14.860 | \u001b[36mINFO\u001b[0m    | Action run 'able-chital' - Created task run 'Convert To ONNX-0' for task 'Convert To ONNX'\n"
      ]
     },
     "metadata": {},
     "output_type": "display_data"
    },
    {
     "data": {
      "text/html": [
       "<pre style=\"white-space:pre;overflow-x:auto;line-height:normal;font-family:Menlo,'DejaVu Sans Mono',consolas,'Courier New',monospace\">23:20:14.862 | <span style=\"color: #008080; text-decoration-color: #008080\">INFO</span>    | Action run 'able-chital' - Executing 'Convert To ONNX-0' immediately...\n",
       "</pre>\n"
      ],
      "text/plain": [
       "23:20:14.862 | \u001b[36mINFO\u001b[0m    | Action run 'able-chital' - Executing 'Convert To ONNX-0' immediately...\n"
      ]
     },
     "metadata": {},
     "output_type": "display_data"
    },
    {
     "data": {
      "text/html": [
       "<pre style=\"white-space:pre;overflow-x:auto;line-height:normal;font-family:Menlo,'DejaVu Sans Mono',consolas,'Courier New',monospace\">23:20:15.261 | <span style=\"color: #008080; text-decoration-color: #008080\">INFO</span>    | Task run 'Convert To ONNX-0' - Model has been converted to ONNX and saved as cryptopunks.onnx\n",
       "</pre>\n"
      ],
      "text/plain": [
       "23:20:15.261 | \u001b[36mINFO\u001b[0m    | Task run 'Convert To ONNX-0' - Model has been converted to ONNX and saved as cryptopunks.onnx\n"
      ]
     },
     "metadata": {},
     "output_type": "display_data"
    },
    {
     "data": {
      "text/html": [
       "<pre style=\"white-space:pre;overflow-x:auto;line-height:normal;font-family:Menlo,'DejaVu Sans Mono',consolas,'Courier New',monospace\">23:20:15.348 | <span style=\"color: #008080; text-decoration-color: #008080\">INFO</span>    | Task run 'Convert To ONNX-0' - Finished in state <span style=\"color: #008000; text-decoration-color: #008000\">Completed</span>()\n",
       "</pre>\n"
      ],
      "text/plain": [
       "23:20:15.348 | \u001b[36mINFO\u001b[0m    | Task run 'Convert To ONNX-0' - Finished in state \u001b[32mCompleted\u001b[0m()\n"
      ]
     },
     "metadata": {},
     "output_type": "display_data"
    },
    {
     "data": {
      "text/html": [
       "<pre style=\"white-space:pre;overflow-x:auto;line-height:normal;font-family:Menlo,'DejaVu Sans Mono',consolas,'Courier New',monospace\">23:20:15.734 | <span style=\"color: #008080; text-decoration-color: #008080\">INFO</span>    | Action run 'able-chital' - Finished in state <span style=\"color: #008000; text-decoration-color: #008000\">Completed</span>('All states completed.')\n",
       "</pre>\n"
      ],
      "text/plain": [
       "23:20:15.734 | \u001b[36mINFO\u001b[0m    | Action run 'able-chital' - Finished in state \u001b[32mCompleted\u001b[0m('All states completed.')\n"
      ]
     },
     "metadata": {},
     "output_type": "display_data"
    },
    {
     "data": {
      "text/plain": [
       "[Completed(message=None, type=COMPLETED, result=UnpersistedResult(type='unpersisted', artifact_type='result', artifact_description='Unpersisted result of type `tuple`')),\n",
       " Completed(message=None, type=COMPLETED, result=UnpersistedResult(type='unpersisted', artifact_type='result', artifact_description='Unpersisted result of type `tuple`')),\n",
       " Completed(message=None, type=COMPLETED, result=UnpersistedResult(type='unpersisted', artifact_type='result', artifact_description='Unpersisted result of type `RegressionNN`')),\n",
       " Completed(message=None, type=COMPLETED, result=UnpersistedResult(type='unpersisted', artifact_type='result', artifact_description='Unpersisted result of type `NoneType`')),\n",
       " Completed(message=None, type=COMPLETED, result=UnpersistedResult(type='unpersisted', artifact_type='result', artifact_description='Unpersisted result of type `NoneType`'))]"
      ]
     },
     "execution_count": 47,
     "metadata": {},
     "output_type": "execute_result"
    }
   ],
   "source": [
    "@task(name=f'Convert To ONNX')\n",
    "def convert_to_onnx(model, X_train, onnx_file_path):\n",
    "    # Make sure the model is in evaluation mode\n",
    "    model.eval()\n",
    "\n",
    "    sample_input = torch.randn(1, X_train.shape[1]).to(device)\n",
    "    # Export the model to ONNX format\n",
    "    torch.onnx.export(model,                        \n",
    "                  sample_input,                 \n",
    "                  onnx_file_path,              \n",
    "                  export_params=True,           \n",
    "                  opset_version=12,             \n",
    "                  do_constant_folding=True,     \n",
    "                  input_names=['input'],        \n",
    "                  output_names=['output'],      \n",
    "                  dynamic_axes={'input': {0: 'batch_size'}, \n",
    "                                'output': {0: 'batch_size'}})\n",
    "\n",
    "    print(f\"Model has been converted to ONNX and saved as {onnx_file_path}\")\n",
    "\n",
    "@action(name=f'Execution', log_prints=True )\n",
    "def execution():\n",
    "    #read csv\n",
    "    sales = pd.read_csv('sales.csv')\n",
    "    X = sales[pd.Series(sales.columns)[pd.Series(sales.columns)!='amount_original'].values]\n",
    "    y = sales['amount_original']  # Your target vector\n",
    "    x_train, y_train, x_test, y_test = prepare_datasets(X, y)\n",
    "    train_loader, test_loader = create_data_loaders(\n",
    "        x_train, y_train, x_test, y_test)\n",
    "    model = train_model(train_loader)\n",
    "    test_model(model, test_loader)\n",
    "\n",
    "\n",
    "    onnx_file_path = \"cryptopunks.onnx\"\n",
    "    convert_to_onnx(model, x_train, onnx_file_path) \n",
    "    \n",
    "execution()"
   ]
  },
  {
   "cell_type": "code",
   "execution_count": 61,
   "metadata": {},
   "outputs": [
    {
     "name": "stderr",
     "output_type": "stream",
     "text": [
      "c:\\Users\\luca9\\.pyenv\\pyenv-win\\versions\\3.11.5\\Lib\\site-packages\\prefect\\tasks.py:339: UserWarning: A task named 'Prediction from local onnx ' and defined at 'c:\\Users\\luca9\\.pyenv\\pyenv-win\\versions\\3.11.5\\Lib\\site-packages\\giza_actions\\task.py:35' conflicts with another task. Consider specifying a unique `name` parameter in the task definition:\n",
      "\n",
      " `@task(name='my_unique_name', ...)`\n",
      "  warnings.warn(\n",
      "c:\\Users\\luca9\\.pyenv\\pyenv-win\\versions\\3.11.5\\Lib\\site-packages\\prefect\\flows.py:337: UserWarning: A flow named 'Execution: Prediction from local onnx' and defined at 'c:\\Users\\luca9\\.pyenv\\pyenv-win\\versions\\3.11.5\\Lib\\site-packages\\giza_actions\\action.py:63' conflicts with another flow. Consider specifying a unique `name` parameter in the flow definition:\n",
      "\n",
      " `@flow(name='my_unique_name', ...)`\n",
      "  warnings.warn(\n"
     ]
    },
    {
     "data": {
      "text/html": [
       "<pre style=\"white-space:pre;overflow-x:auto;line-height:normal;font-family:Menlo,'DejaVu Sans Mono',consolas,'Courier New',monospace\">23:35:04.601 | <span style=\"color: #008080; text-decoration-color: #008080\">INFO</span>    | Created flow run<span style=\"color: #800080; text-decoration-color: #800080\"> 'enthusiastic-bulldog'</span> for flow<span style=\"color: #800080; text-decoration-color: #800080; font-weight: bold\"> 'Execution: Prediction from local onnx'</span>\n",
       "</pre>\n"
      ],
      "text/plain": [
       "23:35:04.601 | \u001b[36mINFO\u001b[0m    | Created flow run\u001b[35m 'enthusiastic-bulldog'\u001b[0m for flow\u001b[1;35m 'Execution: Prediction from local onnx'\u001b[0m\n"
      ]
     },
     "metadata": {},
     "output_type": "display_data"
    },
    {
     "data": {
      "text/html": [
       "<pre style=\"white-space:pre;overflow-x:auto;line-height:normal;font-family:Menlo,'DejaVu Sans Mono',consolas,'Courier New',monospace\">23:35:04.606 | <span style=\"color: #008080; text-decoration-color: #008080\">INFO</span>    | Action run 'enthusiastic-bulldog' - View at <span style=\"color: #0000ff; text-decoration-color: #0000ff\">https://actions-server-lucab-dblzzhtf5q-ew.a.run.app/flow-runs/flow-run/ada5fbdb-c7b7-4d1d-b65a-e617ae3ff8b2</span>\n",
       "</pre>\n"
      ],
      "text/plain": [
       "23:35:04.606 | \u001b[36mINFO\u001b[0m    | Action run 'enthusiastic-bulldog' - View at \u001b[94mhttps://actions-server-lucab-dblzzhtf5q-ew.a.run.app/flow-runs/flow-run/ada5fbdb-c7b7-4d1d-b65a-e617ae3ff8b2\u001b[0m\n"
      ]
     },
     "metadata": {},
     "output_type": "display_data"
    },
    {
     "data": {
      "text/html": [
       "<pre style=\"white-space:pre;overflow-x:auto;line-height:normal;font-family:Menlo,'DejaVu Sans Mono',consolas,'Courier New',monospace\">23:35:06.302 | <span style=\"color: #008080; text-decoration-color: #008080\">INFO</span>    | Action run 'enthusiastic-bulldog' - Created task run 'Prediction from local onnx -0' for task 'Prediction from local onnx '\n",
       "</pre>\n"
      ],
      "text/plain": [
       "23:35:06.302 | \u001b[36mINFO\u001b[0m    | Action run 'enthusiastic-bulldog' - Created task run 'Prediction from local onnx -0' for task 'Prediction from local onnx '\n"
      ]
     },
     "metadata": {},
     "output_type": "display_data"
    },
    {
     "data": {
      "text/html": [
       "<pre style=\"white-space:pre;overflow-x:auto;line-height:normal;font-family:Menlo,'DejaVu Sans Mono',consolas,'Courier New',monospace\">23:35:06.306 | <span style=\"color: #008080; text-decoration-color: #008080\">INFO</span>    | Action run 'enthusiastic-bulldog' - Executing 'Prediction from local onnx -0' immediately...\n",
       "</pre>\n"
      ],
      "text/plain": [
       "23:35:06.306 | \u001b[36mINFO\u001b[0m    | Action run 'enthusiastic-bulldog' - Executing 'Prediction from local onnx -0' immediately...\n"
      ]
     },
     "metadata": {},
     "output_type": "display_data"
    },
    {
     "data": {
      "text/html": [
       "<pre style=\"white-space:pre;overflow-x:auto;line-height:normal;font-family:Menlo,'DejaVu Sans Mono',consolas,'Courier New',monospace\">23:35:06.834 | <span style=\"color: #008080; text-decoration-color: #008080\">INFO</span>    | Task run 'Prediction from local onnx -0' - Finished in state <span style=\"color: #008000; text-decoration-color: #008000\">Completed</span>()\n",
       "</pre>\n"
      ],
      "text/plain": [
       "23:35:06.834 | \u001b[36mINFO\u001b[0m    | Task run 'Prediction from local onnx -0' - Finished in state \u001b[32mCompleted\u001b[0m()\n"
      ]
     },
     "metadata": {},
     "output_type": "display_data"
    },
    {
     "data": {
      "text/html": [
       "<pre style=\"white-space:pre;overflow-x:auto;line-height:normal;font-family:Menlo,'DejaVu Sans Mono',consolas,'Courier New',monospace\">23:35:06.926 | <span style=\"color: #008080; text-decoration-color: #008080\">INFO</span>    | Action run 'enthusiastic-bulldog' - Finished in state <span style=\"color: #008000; text-decoration-color: #008000\">Completed</span>()\n",
       "</pre>\n"
      ],
      "text/plain": [
       "23:35:06.926 | \u001b[36mINFO\u001b[0m    | Action run 'enthusiastic-bulldog' - Finished in state \u001b[32mCompleted\u001b[0m()\n"
      ]
     },
     "metadata": {},
     "output_type": "display_data"
    },
    {
     "data": {
      "text/plain": [
       "'Result: 58.99652099609375 ETH for punk 11 with url https://www.larvalabs.com/cryptopunks/cryptopunk11.png'"
      ]
     },
     "execution_count": 61,
     "metadata": {},
     "output_type": "execute_result"
    }
   ],
   "source": [
    "from giza_actions.model import GizaModel\n",
    "import requests\n",
    "from utils.utils import *\n",
    "MODEL_ID = 404  \n",
    "VERSION_ID = 1\n",
    "\n",
    "#Punk ID for prediction\n",
    "ID_PUNK = 11\n",
    "\n",
    "relevant_columns_model = ['amount_original', 'CP Price',\n",
    "       'Category', 'Front Beard Dark', 'VR', 'Clown Eyes Green',\n",
    "       'Buck Teeth', 'Wild Hair', 'Silver Chain', 'Cigarette',\n",
    "       'Purple Eye Shadow', 'Pigtails', 'Handlebars', 'Normal Beard',\n",
    "       'Blonde Bob', 'Muttonchops', 'Smile', 'Shaved Head', 'Mustache',\n",
    "       'Mohawk Dark', 'Straight Hair', 'Choker', 'Regular Shades',\n",
    "       'Peak Spike', 'Tassle Hat', 'Dark Hair', 'Knitted Cap', 'Bandana',\n",
    "       'Pink With Hat', 'Gold Chain', 'Mohawk', 'Welding Goggles',\n",
    "       'Cap Forward', 'Tiara', 'Purple Lipstick', 'Small Shades',\n",
    "       'Stringy Hair', 'Do-rag', 'Wild White Hair', 'Frown', 'Red Mohawk',\n",
    "       'Half Shaved', 'Clown Hair Green', 'Vampire Hair', 'Beanie',\n",
    "       'Clown Nose', 'Messy Hair', 'Blonde Short', 'Mole', 'Purple Hair',\n",
    "       'Chinstrap', 'Orange Side', 'Hot Lipstick', 'Horned Rim Glasses', 'Cap',\n",
    "       'Green Eye Shadow', 'Nerd Glasses', 'Rosy Cheeks', 'Pilot Helmet',\n",
    "       'Straight Hair Dark', 'Medical Mask', 'Frumpy Hair', 'Wild Blonde',\n",
    "       'Hoodie', 'Earring', 'Big Shades', 'Spots', 'Headband', 'Goat',\n",
    "       'Big Beard', 'Classic Shades', 'Clown Eyes Blue', 'Blue Eye Shadow',\n",
    "       'Cowboy Hat', 'Luxurious Beard', 'Crazy Hair', 'Normal Beard Black',\n",
    "       'Fedora', 'Straight Hair Blonde', 'Vape', 'Mohawk Thin', 'Front Beard',\n",
    "       '3D Glasses', 'Police Cap', 'Top Hat', 'Shadow Beard', 'Eye Mask',\n",
    "       'Black Lipstick', 'Eye Patch', 'Pipe', 'relative_month_number',  \n",
    "       'skin_Arab', 'skin_Black', 'skin_Latino', 'skin_white', 'Gender_Alien',\n",
    "        'Gender_Ape','Gender_Female', 'Gender_Male', 'Gender_Zombie' ]\n",
    "\n",
    "############### Non-Verifiable ###############\n",
    "@task(name=f'Prediction from local onnx ')    \n",
    "def prediction(id_punk, eth_price, floor_price, relative_month_number, MODEL_ID, VERSION_ID):\n",
    "\n",
    "    metadata = pd.read_csv('punk_metadata_for_pred.csv')\n",
    "    \n",
    "    punk_metadata = metadata[metadata.ID == id_punk]\n",
    "\n",
    "    predict_price_punk_today = punk_metadata.copy()\n",
    "    predict_price_punk_today['CP Price'] = floor_price\n",
    "    predict_price_punk_today['relative_month_number'] = relative_month_number\n",
    "\n",
    "    \n",
    "    entry = predict_price_punk_today[pd.Series(relevant_columns_model)[pd.Series(relevant_columns_model)!='amount_original']]\n",
    "\n",
    "    model = GizaModel(model_path=\"./cryptopunks.onnx\")\n",
    "\n",
    "    result = model.predict(\n",
    "        input_feed={\"input\": entry.iloc[0].astype(np.float32).values.reshape(1, len(entry.columns))}, verifiable=False\n",
    "    )\n",
    "\n",
    "    # return result\n",
    "    return result, punk_metadata.url.iloc[0]\n",
    "\n",
    "@action(name=f'Execution: Prediction from local onnx', log_prints=True)\n",
    "def execution():    \n",
    "    floor_price = get_punk_floor_today()\n",
    "    eth = get_ethereum_price_history()\n",
    "    eth_price = eth.iloc[-1]['Ethereum_Price']\n",
    "    sales = pd.read_csv('sales.csv')\n",
    "\n",
    "    relative_month_number = sales.relative_month_number.max()\n",
    "\n",
    "    result, url = prediction(ID_PUNK, eth_price, floor_price, relative_month_number, MODEL_ID, VERSION_ID)\n",
    "    \n",
    "    \n",
    "\n",
    "    return f\"Result: {result[0][0]} ETH for punk {ID_PUNK} with url {url}\"\n",
    "\n",
    "execution()"
   ]
  }
 ],
 "metadata": {
  "kernelspec": {
   "display_name": "Python 3",
   "language": "python",
   "name": "python3"
  },
  "language_info": {
   "codemirror_mode": {
    "name": "ipython",
    "version": 3
   },
   "file_extension": ".py",
   "mimetype": "text/x-python",
   "name": "python",
   "nbconvert_exporter": "python",
   "pygments_lexer": "ipython3",
   "version": "3.11.5"
  },
  "orig_nbformat": 4
 },
 "nbformat": 4,
 "nbformat_minor": 2
}
